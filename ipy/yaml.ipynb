{
 "cells": [
  {
   "cell_type": "code",
   "execution_count": 4,
   "metadata": {},
   "outputs": [],
   "source": [
    "import yaml\n",
    "\n",
    "ymlFullPath = './bq_Proc_Build.yml'\n",
    "\n",
    "with open(ymlFullPath, 'r') as ymlfile:\n",
    "    y = yaml.load(ymlfile, Loader=yaml.FullLoader)\n",
    "    \n",
    "lACTIVE_SECTIONS = y['ACTIVE_SECTIONS']"
   ]
  },
  {
   "cell_type": "code",
   "execution_count": 6,
   "metadata": {},
   "outputs": [
    {
     "name": "stdout",
     "output_type": "stream",
     "text": [
      "blank\n",
      "data/2019/01/01/01/*.gz.parquet\n",
      "data/2019/01/{}/*.gz.parquet\n"
     ]
    }
   ],
   "source": [
    "#ACTIVE_SECTION = y['ACTIVE_SECTION']\n",
    "section = 'kiwi_2019_test_2d'\n",
    "\n",
    "for section in lACTIVE_SECTIONS:\n",
    "\n",
    "    MODE = y[section]['MODE']\n",
    "    TableSuffix = y[section]['TableSuffix']\n",
    "    batchYear = y[section]['batchYear']\n",
    "    minMonth = y[section]['minMonth']\n",
    "    maxMonth = y[section]['maxMonth']\t# make minMonth and maxMonth same to run one month at a time\n",
    "    minDay = y[section]['minDay']\n",
    "    maxDay = y[section]['maxDay']\t    # make minDay and maxDay same to run one day at a time\n",
    "    sourceBucket = y[section]['sourceBucket']\n",
    "    sourceObjects = y[section]['sourceObjects']\n",
    "    \n",
    "    print(sourceObjects)"
   ]
  },
  {
   "cell_type": "code",
   "execution_count": null,
   "metadata": {},
   "outputs": [],
   "source": [
    "##### ALL ABOVE IS YAML TESTING\n",
    "\n",
    "##### ALL BELOW IS STRING FORMAT TESTING"
   ]
  },
  {
   "cell_type": "code",
   "execution_count": 23,
   "metadata": {},
   "outputs": [
    {
     "name": "stdout",
     "output_type": "stream",
     "text": [
      "data/2019/01/11/*.gz.parquet\n"
     ]
    }
   ],
   "source": [
    "dayChar2 = '11'\n",
    "s = sourceObjects.format(dayChar2)\n",
    "print(s)"
   ]
  },
  {
   "cell_type": "code",
   "execution_count": 34,
   "metadata": {},
   "outputs": [
    {
     "name": "stdout",
     "output_type": "stream",
     "text": [
      "_2019\n"
     ]
    },
    {
     "data": {
      "text/plain": [
       "'kiwi_TEST.ext_kiwi_pq_201911'"
      ]
     },
     "execution_count": 34,
     "metadata": {},
     "output_type": "execute_result"
    }
   ],
   "source": [
    "print(TableSuffix)\n",
    "TableSuffix2 = str(TableSuffix or '')\n",
    "YYYYMM = '11'\n",
    "f'kiwi_{MODE}.ext_kiwi_pq{TableSuffix2}{YYYYMM}'\n",
    "#when None result > 'kiwi_TEST.ext_kiwi_pq11'\n",
    "#when OK   result > 'kiwi_TEST.ext_kiwi_pq_201911'\n",
    "\n",
    "#  f'kiwi_{MODE}.ext_kiwi_pq{TableSuffix2}{YYYYMM[4:]}',\n",
    "#  f'kiwi_{MODE}.ext_kiwi_pq{TableSuffix2}',"
   ]
  },
  {
   "cell_type": "code",
   "execution_count": 10,
   "metadata": {},
   "outputs": [
    {
     "name": "stdout",
     "output_type": "stream",
     "text": [
      "data/2019/01//*.gz.parquet\n"
     ]
    }
   ],
   "source": [
    "dayChar2 = '01'\n",
    "# NB: No fmt placeholder test...\n",
    "sourceObjects = 'data/2019/01//*.gz.parquet'\n",
    "s = sourceObjects.format(dayChar2)\n",
    "print(s)\n",
    "# SUCCESS! > data/2019/01//*.gz.parquet"
   ]
  },
  {
   "cell_type": "code",
   "execution_count": 12,
   "metadata": {},
   "outputs": [
    {
     "name": "stdout",
     "output_type": "stream",
     "text": [
      "data/2019/01/01/*.gz.parquet\n"
     ]
    }
   ],
   "source": [
    "dayChar2 = '01'\n",
    "# NB: Double fmt placeholder test...\n",
    "sourceObjects = 'data/2019/{}/{}/*.gz.parquet'\n",
    "s = sourceObjects.format(dayChar2,dayChar2)\n",
    "print(s)\n",
    "# SUCCESS  BUT if have Double fmt placeholder, must provide 2 vars else  FAILURE"
   ]
  },
  {
   "cell_type": "code",
   "execution_count": 13,
   "metadata": {},
   "outputs": [
    {
     "name": "stdout",
     "output_type": "stream",
     "text": [
      "kiwi_PROD.ext_kiwi_pq_201901\n"
     ]
    }
   ],
   "source": [
    "MODE = 'PROD'\n",
    "dayChar2 = '01'\n",
    "# NB: Double f'' placeholder test...\n",
    "s = f'kiwi_{MODE}.ext_kiwi_pq_2019{dayChar2}'\n",
    "print(s)\n",
    "# SUCCESS  "
   ]
  }
 ],
 "metadata": {
  "kernelspec": {
   "display_name": "Python 3",
   "language": "python",
   "name": "python3"
  },
  "language_info": {
   "codemirror_mode": {
    "name": "ipython",
    "version": 3
   },
   "file_extension": ".py",
   "mimetype": "text/x-python",
   "name": "python",
   "nbconvert_exporter": "python",
   "pygments_lexer": "ipython3",
   "version": "3.7.4"
  }
 },
 "nbformat": 4,
 "nbformat_minor": 2
}
