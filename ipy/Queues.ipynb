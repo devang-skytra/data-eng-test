{
 "cells": [
  {
   "cell_type": "code",
   "execution_count": 1,
   "metadata": {},
   "outputs": [],
   "source": [
    "taskN = []\n",
    "r = range (1, 32)\n",
    "#print(r[30])"
   ]
  },
  {
   "cell_type": "code",
   "execution_count": 10,
   "metadata": {},
   "outputs": [
    {
     "name": "stdout",
     "output_type": "stream",
     "text": [
      "0\n"
     ]
    }
   ],
   "source": [
    "#taskN = queue.Queue(maxsize = 3) \n",
    "#print(queLastTask.qsize())"
   ]
  },
  {
   "cell_type": "code",
   "execution_count": 2,
   "metadata": {},
   "outputs": [
    {
     "name": "stdout",
     "output_type": "stream",
     "text": [
      "task3_1  precedes  task1_4\n",
      "task3_2  precedes  task1_5\n",
      "task3_3  precedes  task1_6\n",
      "task3_4  precedes  task1_7\n",
      "task3_5  precedes  task1_8\n",
      "task3_6  precedes  task1_9\n",
      "task3_7  precedes  task1_10\n",
      "task3_8  precedes  task1_11\n",
      "task3_9  precedes  task1_12\n",
      "task3_10  precedes  task1_13\n",
      "task3_11  precedes  task1_14\n",
      "task3_12  precedes  task1_15\n",
      "task3_13  precedes  task1_16\n",
      "task3_14  precedes  task1_17\n",
      "task3_15  precedes  task1_18\n",
      "task3_16  precedes  task1_19\n",
      "task3_17  precedes  task1_20\n",
      "task3_18  precedes  task1_21\n",
      "task3_19  precedes  task1_22\n",
      "task3_20  precedes  task1_23\n",
      "task3_21  precedes  task1_24\n",
      "task3_22  precedes  task1_25\n",
      "task3_23  precedes  task1_26\n",
      "task3_24  precedes  task1_27\n",
      "task3_25  precedes  task1_28\n",
      "task3_26  precedes  task1_29\n",
      "task3_27  precedes  task1_30\n",
      "task3_28  precedes  task1_31\n",
      "3\n"
     ]
    }
   ],
   "source": [
    "for i in r:\n",
    "    strI = str(i)\n",
    "    t1 = 'task1_' + strI\n",
    "    t2 = 'task2_' + strI\n",
    "    t3 = 'task3_' + strI\n",
    "    \n",
    "    if i > 3:\n",
    "        print(taskN.pop(0) + '  precedes  ' + t1)\n",
    "        #print(strI)\n",
    "        \n",
    "    taskN.append(t3)\n",
    "    \n",
    "print(len(taskN))"
   ]
  }
 ],
 "metadata": {
  "kernelspec": {
   "display_name": "Python 3",
   "language": "python",
   "name": "python3"
  },
  "language_info": {
   "codemirror_mode": {
    "name": "ipython",
    "version": 3
   },
   "file_extension": ".py",
   "mimetype": "text/x-python",
   "name": "python",
   "nbconvert_exporter": "python",
   "pygments_lexer": "ipython3",
   "version": "3.7.4"
  }
 },
 "nbformat": 4,
 "nbformat_minor": 2
}
