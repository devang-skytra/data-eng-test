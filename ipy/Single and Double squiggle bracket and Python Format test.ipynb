{
 "cells": [
  {
   "cell_type": "code",
   "execution_count": 11,
   "metadata": {},
   "outputs": [
    {
     "name": "stdout",
     "output_type": "stream",
     "text": [
      "kiwi.X21 \"gs://ext-kiwi-excl{{ var.value.BucketEnvString }}data/data/y=2020/m=3/d=4/*.gz.parquet\"\n"
     ]
    }
   ],
   "source": [
    "#try to combine format and jinja templates {{}}\n",
    "load_base = 'kiwi.X2{} \"gs://ext-kiwi-excl{}data/data/y=2020/m={}/d={}/*.gz.parquet\"'\n",
    "s = load_base.format('1','{{ var.value.BucketEnvString }}','3','4')\n",
    "print(s)"
   ]
  }
 ],
 "metadata": {
  "kernelspec": {
   "display_name": "Python 3",
   "language": "python",
   "name": "python3"
  },
  "language_info": {
   "codemirror_mode": {
    "name": "ipython",
    "version": 3
   },
   "file_extension": ".py",
   "mimetype": "text/x-python",
   "name": "python",
   "nbconvert_exporter": "python",
   "pygments_lexer": "ipython3",
   "version": "3.7.4"
  }
 },
 "nbformat": 4,
 "nbformat_minor": 2
}
