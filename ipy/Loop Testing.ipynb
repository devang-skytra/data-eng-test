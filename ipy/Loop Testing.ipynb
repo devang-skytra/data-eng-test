{
 "cells": [
  {
   "cell_type": "code",
   "execution_count": 2,
   "metadata": {},
   "outputs": [],
   "source": [
    "from datetime import datetime, timedelta\n",
    "from calendar import monthrange\n",
    "\n",
    "batchYear = 2019\n",
    "rMonths = range (0, 13)\n",
    "minMonth = 1\n",
    "maxMonth = 3\t# make minMonth and maxMonth same to run one month at a time\n",
    "minDay = 1\n",
    "maxDay = 3\t# make minMonth and maxMonth same to run one month at a time\n",
    "lMonths = []"
   ]
  },
  {
   "cell_type": "code",
   "execution_count": 3,
   "metadata": {},
   "outputs": [],
   "source": [
    "# loop through the Month(s) we want to use to build up our DAG\n",
    "for i in rMonths:\n",
    "    if minMonth <= i <= maxMonth:\n",
    "        BOM = datetime(batchYear, i, 1)\n",
    "        DayCount = monthrange(batchYear, i)[1]\n",
    "        lDates = [BOM + timedelta(days = x) for x in range(DayCount)]\n",
    "        lYYYYMM = [format(x, '%Y%m') for x in lDates]\n",
    "        lDatesString = [format(x, '%Y-%m-%d') for x in lDates]\n",
    "        #f'{i:02}' = 'MM'\n",
    "        lMonths.append([ lYYYYMM, lDatesString ])\n"
   ]
  },
  {
   "cell_type": "code",
   "execution_count": 4,
   "metadata": {},
   "outputs": [
    {
     "name": "stdout",
     "output_type": "stream",
     "text": [
      "bq_1_2019-01-01.set_upstream(201901_DayGroup_01_10\n",
      "bq_1_2019-01-02.set_upstream(201901_DayGroup_01_10\n",
      "bq_1_2019-01-03.set_upstream(201901_DayGroup_01_10\n",
      "bq_1_2019-02-01.set_upstream(201902_DayGroup_01_10\n",
      "bq_1_2019-02-02.set_upstream(201902_DayGroup_01_10\n",
      "bq_1_2019-02-03.set_upstream(201902_DayGroup_01_10\n",
      "bq_1_2019-03-01.set_upstream(201903_DayGroup_01_10\n",
      "bq_1_2019-03-02.set_upstream(201903_DayGroup_01_10\n",
      "bq_1_2019-03-03.set_upstream(201903_DayGroup_01_10\n"
     ]
    }
   ],
   "source": [
    "#print('--create table data_eng.dimDate(dt DATE)')\n",
    "#print('insert into data_eng.dimDate(dt)')\n",
    "#print('with dtes as (')\n",
    "\n",
    "for m in lMonths: \n",
    "    \n",
    "    YYYYMM = m[0][0]\n",
    "    #DayGroup_01_10 = f'{YYYYMM}_DayGroup_01_10'\n",
    "    #DayGroup_11_20 = f'{YYYYMM}_DayGroup_11_20'\n",
    "    #DayGroup_21_EoM = f'{YYYYMM}_DayGroup_21_EoM'\n",
    "    #print (f'{DayGroup_01_10} >> {DayGroup_11_20} >> {DayGroup_21_EoM}')\n",
    "    MonthStart = 'MonthStart'\n",
    "    dCount = 0\n",
    "    taskN = []\n",
    "        \n",
    "    for d in m[1]:    # lMonths[0] = lYYYYMM[]  :  lMonths[1] = lDatesString[]\n",
    "        \n",
    "        aYMD = d.split('-')\n",
    "\n",
    "        #if minDay <= int(aYMD[2]) <= maxDay:\n",
    "        if minDay <= currentDay <= maxDay:\n",
    "            \n",
    "            dCount = dCount + 1\n",
    "            \n",
    "            bq_task_1 = 'bashRemoveExternalKiwi' + d\n",
    "            bq_task_2 = 'bq_2_' + d\n",
    "            #print(f\"select DATE '{d}' as d union all\")\n",
    "\n",
    "            #dayChar1 = d[8]   # d[8] = first char from DD which we use to group parallel tasks\n",
    "            #dayChar2 = d[8:10]\n",
    "            #if dayChar1 == '0' or dayChar2 == '10':\n",
    "                #print (f'{bq_task_1}.set_upstream({DayGroup_01_10}')\n",
    "            #elif dayChar1 == '1' or dayChar2 == '20':\n",
    "                #print (f'{bq_task_1}.set_upstream({DayGroup_11_20}')\n",
    "            #else:\n",
    "                #print (f'{bq_task_1}.set_upstream({DayGroup_21_EoM}')\n",
    "            \n",
    "            if dCount > parallelCount:\n",
    "                    taskN.pop(0) >> bashRemoveExternalKiwi\n",
    "                else:\n",
    "                    MonthStart >> bashRemoveExternalKiwi\n",
    "\n",
    "            bashRemoveExternalKiwi >> bqCreateExternalKiwi >> bashIdemDeleteX4 >> bqX4 \n",
    "            bqX4 >> bashIdemDeleteX5a >> bqX5a >> bashIdemDeleteX5b >> bqX5b\n",
    "\n",
    "            # append task(n) of pipeline task-set to que so we can use it as predecessor in parallelCount loops time\n",
    "            taskN.append(bqX5b)   \n",
    "\n",
    "        "
   ]
  },
  {
   "cell_type": "code",
   "execution_count": 5,
   "metadata": {},
   "outputs": [
    {
     "data": {
      "text/plain": [
       "'201903'"
      ]
     },
     "execution_count": 5,
     "metadata": {},
     "output_type": "execute_result"
    }
   ],
   "source": [
    "YYYYMM[0:4] + YYYYMM[4:]"
   ]
  },
  {
   "cell_type": "code",
   "execution_count": 6,
   "metadata": {},
   "outputs": [],
   "source": [
    "source_objects = [\n",
    "            [],\n",
    "            [f'searchSamples/2019/{YYYYMM[4:]}/0*.gz.parquet'],\n",
    "            [f'searchSamples/2019/{YYYYMM[4:]}/1*.gz.parquet'],\n",
    "            [f'searchSamples/2019/{YYYYMM[4:]}/2*.gz.parquet',f'searchSamples/2019/{YYYYMM[4:]}/3*.gz.parquet']\n",
    "        ]"
   ]
  },
  {
   "cell_type": "code",
   "execution_count": 7,
   "metadata": {},
   "outputs": [
    {
     "data": {
      "text/plain": [
       "['searchSamples/2019/03/0*.gz.parquet']"
      ]
     },
     "execution_count": 7,
     "metadata": {},
     "output_type": "execute_result"
    }
   ],
   "source": [
    "source_objects[1]"
   ]
  },
  {
   "cell_type": "code",
   "execution_count": 2,
   "metadata": {},
   "outputs": [
    {
     "name": "stdout",
     "output_type": "stream",
     "text": [
      "04/03\n"
     ]
    }
   ],
   "source": [
    "d = '2019-04-03'\n",
    "aYMD = d.split('-')\n",
    "print(aYMD[1]+'/'+aYMD[2])"
   ]
  },
  {
   "cell_type": "code",
   "execution_count": 4,
   "metadata": {},
   "outputs": [
    {
     "ename": "SyntaxError",
     "evalue": "invalid syntax (<ipython-input-4-e6aef140ee77>, line 2)",
     "output_type": "error",
     "traceback": [
      "\u001b[1;36m  File \u001b[1;32m\"<ipython-input-4-e6aef140ee77>\"\u001b[1;36m, line \u001b[1;32m2\u001b[0m\n\u001b[1;33m    parallelCount:\u001b[0m\n\u001b[1;37m                  ^\u001b[0m\n\u001b[1;31mSyntaxError\u001b[0m\u001b[1;31m:\u001b[0m invalid syntax\n"
     ]
    }
   ],
   "source": [
    "parallelCount = 3\n",
    "for d in range (1, 13):    \n",
    "    if dCount > parallelCount:"
   ]
  },
  {
   "cell_type": "code",
   "execution_count": 14,
   "metadata": {},
   "outputs": [
    {
     "name": "stdout",
     "output_type": "stream",
     "text": [
      "01 01\n",
      "02 02\n",
      "03 03\n",
      "04 01\n",
      "05 02\n",
      "06 03\n",
      "07 01\n",
      "08 02\n",
      "09 03\n",
      "10 01\n",
      "11 02\n",
      "12 03\n",
      "13 01\n",
      "14 02\n"
     ]
    }
   ],
   "source": [
    "parallelCount = 3\n",
    "\n",
    "for d in range (1, 15):  \n",
    "    mlo = d % parallelCount\n",
    "    if mlo == 0:\n",
    "        print(f'{d:02}' + ' ' + f'{parallelCount:02}' )\n",
    "    else:\n",
    "        print(f'{d:02}' + ' ' + f'{mlo:02}')\n",
    "    "
   ]
  }
 ],
 "metadata": {
  "kernelspec": {
   "display_name": "Python 3",
   "language": "python",
   "name": "python3"
  },
  "language_info": {
   "codemirror_mode": {
    "name": "ipython",
    "version": 3
   },
   "file_extension": ".py",
   "mimetype": "text/x-python",
   "name": "python",
   "nbconvert_exporter": "python",
   "pygments_lexer": "ipython3",
   "version": "3.7.4"
  }
 },
 "nbformat": 4,
 "nbformat_minor": 2
}
