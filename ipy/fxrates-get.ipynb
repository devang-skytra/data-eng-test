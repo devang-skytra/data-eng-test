{
 "cells": [
  {
   "cell_type": "code",
   "execution_count": 22,
   "metadata": {},
   "outputs": [],
   "source": [
    "from forex_python.converter import CurrencyRates\n",
    "from smart_open import open\n",
    "from datetime import datetime, timedelta\n",
    "import requests\n",
    "import io\n",
    "from io import StringIO\n",
    "import os"
   ]
  },
  {
   "cell_type": "code",
   "execution_count": null,
   "metadata": {},
   "outputs": [],
   "source": [
    "\"\"\"\n",
    "b = 'gs://pd-fxrates'\n",
    "f = '/to/data.csv'\n",
    "url_endpoint = 'http://www.bankofengland.co.uk/boeapps/iadb/fromshowcolumns.asp?csv.x=yes'\n",
    "trg_f = 'f.csv'\n",
    "day_offset = 1\n",
    "\"\"\""
   ]
  },
  {
   "cell_type": "code",
   "execution_count": 26,
   "metadata": {},
   "outputs": [],
   "source": [
    "b = '.'\n",
    "f = '/data.csv'\n",
    "url_endpoint = 'http://www.bankofengland.co.uk/boeapps/iadb/fromshowcolumns.asp?csv.x=yes'\n",
    "trg_f = 'f.csv'\n",
    "day_offset = 1"
   ]
  },
  {
   "cell_type": "code",
   "execution_count": 67,
   "metadata": {},
   "outputs": [],
   "source": [
    "#def fx_get(event, context):\n",
    "if 1==1:\n",
    "  #print(event['name'])\n",
    "  #if event['name'] != trg_f:\n",
    "  #  return\n",
    "\n",
    "  yest = datetime.today().date() - timedelta(days = day_offset)\n",
    "  s_yest = yest.strftime(\"%d/%m/%Y\")\n",
    "  s_dtfrom = yest.strftime(\"%d/%b/%Y\")\n",
    "  s_dtto = s_dtfrom\n",
    "  \"\"\"\n",
    "  c = CurrencyRates()\n",
    "  xe = c.get_rate('EUR', 'USD', yest)\n",
    "  \"\"\"\n",
    "  xe = 1.0588\n",
    "  #selects the series to be loaded\n",
    "  payload = {\n",
    "    'Datefrom'   : s_dtfrom,\n",
    "    'Dateto'     : s_dtto,\n",
    "    'SeriesCodes': 'XUDLERD',\n",
    "    'CSVF'       : 'TN',\n",
    "    'UsingCodes' : 'Y',\n",
    "    'VPD'        : 'Y',\n",
    "    'VFD'        : 'N'\n",
    "  }\n",
    "  #loads the time series\n",
    "  #response = requests.get(url_endpoint, params=payload)\n",
    "  #s_boe = io.BytesIO(response.content).read().decode('UTF-8')\n",
    "  s_boe = \"\"\"DATE,XUDLERD\\n26 Mar 2020,0.9072\"\"\"\n",
    "  #s_boe = 'DATE,XUDLERD'\n",
    "\n",
    "  s_boe_xe = s_boe.split(',')[-1]\n",
    "\n",
    "  # BOE does not publish for non trading days, get ready to fill with the previous value if needed\n",
    "  # csv read is necessary later anyway for appending the new line because GCS files immutable\n",
    "  with open(b + f) as fin:\n",
    "    csv = fin.read()\n",
    "  \n",
    "  # alt to below check is isinstance(yourNumber, numbers.Real)\n",
    "  if s_boe_xe.replace('.','') .isnumeric():\n",
    "    xe_boe = str(round(1 / float(s_boe_xe), 4))\n",
    "  else:\n",
    "    lines = csv.split('\\n')\n",
    "    xe_boe = lines[-2].split(',')[2]\n",
    "  \n",
    "  \n",
    "  #Date,FX,BOE_FX\n",
    "  l = ','.join([s_yest, str(xe), xe_boe + '\\n'])\n",
    "\n",
    "  with open(b + f, 'w') as fout:\n",
    "    fout.write(csv + l)"
   ]
  },
  {
   "cell_type": "code",
   "execution_count": 79,
   "metadata": {},
   "outputs": [
    {
     "data": {
      "text/plain": [
       "'1.0577'"
      ]
     },
     "execution_count": 79,
     "metadata": {},
     "output_type": "execute_result"
    }
   ],
   "source": [
    "csv = \"\"\"06/01/2017,1.0586,1.0576\n",
    "07/01/2017,1.0587,1.0577\n",
    "\"\"\"\n",
    "lines = csv.split('\\n')\n",
    "#len(lines)\n",
    "lines[-2].split(',')[2]"
   ]
  },
  {
   "cell_type": "code",
   "execution_count": 68,
   "metadata": {},
   "outputs": [
    {
     "name": "stdout",
     "output_type": "stream",
     "text": [
      "06/01/2017,1.0586,1.0576\n",
      "07/01/2017,1.0587,1.0577\n",
      "08/01/2017,1.0588,1.0578\n",
      "26/03/2020,1.0588,1.0576\n",
      "27/03/2020,1.0588,1.0576\n",
      "27/03/2020,1.0588,1.1023\n",
      "\n"
     ]
    }
   ],
   "source": [
    "with open(b + f) as fin:\n",
    "    print(fin.read())"
   ]
  }
 ],
 "metadata": {
  "kernelspec": {
   "display_name": "Python 3",
   "language": "python",
   "name": "python3"
  },
  "language_info": {
   "codemirror_mode": {
    "name": "ipython",
    "version": 3
   },
   "file_extension": ".py",
   "mimetype": "text/x-python",
   "name": "python",
   "nbconvert_exporter": "python",
   "pygments_lexer": "ipython3",
   "version": "3.7.4"
  }
 },
 "nbformat": 4,
 "nbformat_minor": 2
}
