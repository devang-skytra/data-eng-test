{
 "cells": [
  {
   "cell_type": "code",
   "execution_count": 52,
   "metadata": {},
   "outputs": [],
   "source": [
    "from datetime import datetime, timedelta"
   ]
  },
  {
   "cell_type": "code",
   "execution_count": 6,
   "metadata": {},
   "outputs": [
    {
     "name": "stdout",
     "output_type": "stream",
     "text": [
      "%stat/stats/y=2020/m=06/d=01%.csv\n"
     ]
    }
   ],
   "source": [
    "ds_nodash = '20200601'\n",
    "print( '%stat/stats/y={}/m={}/d={}/hr%.csv'.format(ds_nodash[:4],ds_nodash[4:6],ds_nodash[6:]) )"
   ]
  },
  {
   "cell_type": "code",
   "execution_count": 6,
   "metadata": {},
   "outputs": [
    {
     "name": "stdout",
     "output_type": "stream",
     "text": [
      "prod-{{ ds_nodash }}-stat.txt\n",
      "prod-{{ ds_nodash }}-stat.txt\n"
     ]
    }
   ],
   "source": [
    "gccProject = 'd-dat-digitalaircrafttransport'\n",
    "\n",
    "dictIATA = {\n",
    "    'skytra-benchmark-devandtest':    {'dest': 'ext-iata-excl-stat/stat/y=2020/m=05', \n",
    "                                       'trig':  'prod', \n",
    "                                       'load': '%stat/stats/y={}/m={}/d={}/hr%.csv'\n",
    "                                      },\n",
    "    'd-dat-digitalaircrafttransport': {'dest': 'prod', \n",
    "                                       'trig':  'prod', \n",
    "                                       'load': '%stat/stats/y={}/m={}/d={}/hr%.csv'\n",
    "                                      }\n",
    "    }\n",
    "stat_dest = 'gs://' + dictIATA[gccProject]['dest'] + '-{{ ds_nodash }}-stat.txt'\n",
    "stat_trig = dictIATA[gccProject]['trig'] + '-{{ ds_nodash }}-stat.txt'\n",
    "stat_load = dictIATA[gccProject]['load'] + '-{{ ds_nodash }}-stat.txt'\n",
    "\n",
    "\n",
    "\n",
    "print(stat_dest)\n",
    "print(stat_trig)"
   ]
  },
  {
   "cell_type": "code",
   "execution_count": 13,
   "metadata": {},
   "outputs": [],
   "source": [
    "#af env \n",
    "# varsBucketEnvString\n",
    "# gccProject\n",
    "# ProcessingLocation"
   ]
  },
  {
   "cell_type": "code",
   "execution_count": 73,
   "metadata": {},
   "outputs": [
    {
     "ename": "TypeError",
     "evalue": "'str' object cannot be interpreted as an integer",
     "output_type": "error",
     "traceback": [
      "\u001b[1;31m---------------------------------------------------------------------------\u001b[0m",
      "\u001b[1;31mTypeError\u001b[0m                                 Traceback (most recent call last)",
      "\u001b[1;32m<ipython-input-73-5a2c0f58e460>\u001b[0m in \u001b[0;36m<module>\u001b[1;34m\u001b[0m\n\u001b[1;32m----> 1\u001b[1;33m \u001b[0mds_no_dot\u001b[0m \u001b[1;33m=\u001b[0m \u001b[0mds\u001b[0m\u001b[1;33m.\u001b[0m\u001b[0mreplace\u001b[0m\u001b[1;33m(\u001b[0m\u001b[0mds\u001b[0m\u001b[1;33m,\u001b[0m \u001b[1;34m'.'\u001b[0m\u001b[1;33m,\u001b[0m\u001b[1;34m''\u001b[0m\u001b[1;33m)\u001b[0m\u001b[1;33m\u001b[0m\u001b[1;33m\u001b[0m\u001b[0m\n\u001b[0m\u001b[0;32m      2\u001b[0m \u001b[0mprint\u001b[0m\u001b[1;33m(\u001b[0m\u001b[0mds_no_dot\u001b[0m\u001b[1;33m)\u001b[0m\u001b[1;33m\u001b[0m\u001b[1;33m\u001b[0m\u001b[0m\n",
      "\u001b[1;31mTypeError\u001b[0m: 'str' object cannot be interpreted as an integer"
     ]
    }
   ],
   "source": [
    "ds_no_dot = ds.replace('.','')\n",
    "print(ds_no_dot)"
   ]
  },
  {
   "cell_type": "code",
   "execution_count": 20,
   "metadata": {},
   "outputs": [
    {
     "data": {
      "text/plain": [
       "'select FileCount=24 from airflow.af_check_X2 where ExecDate = { ds_nodash } and DATE(ts)=CURRENT_DATE()'"
      ]
     },
     "execution_count": 20,
     "metadata": {},
     "output_type": "execute_result"
    }
   ],
   "source": [
    "# test f'' with jinja\n",
    "# FAIL\n",
    "tbl = 'airflow.af_check_X2'\n",
    "passVal=24\n",
    "'select FileCount={} from {} where ExecDate = {{ ds_nodash }} and DATE(ts)=CURRENT_DATE()'.format(passVal,tbl)"
   ]
  }
 ],
 "metadata": {
  "kernelspec": {
   "display_name": "Python 3",
   "language": "python",
   "name": "python3"
  },
  "language_info": {
   "codemirror_mode": {
    "name": "ipython",
    "version": 3
   },
   "file_extension": ".py",
   "mimetype": "text/x-python",
   "name": "python",
   "nbconvert_exporter": "python",
   "pygments_lexer": "ipython3",
   "version": "3.7.4"
  }
 },
 "nbformat": 4,
 "nbformat_minor": 2
}
