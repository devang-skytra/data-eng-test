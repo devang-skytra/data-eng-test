{
 "cells": [
  {
   "cell_type": "code",
   "execution_count": 2,
   "metadata": {},
   "outputs": [],
   "source": [
    "import datetime\n",
    "\n",
    "rMonths = range (1, 13)\n",
    "rBOM = []\n",
    "for i in rMonths:\n",
    "    rBOM.append(datetime.datetime(2019, rMonths[i-1], 1))\n",
    "\n",
    "date_list = [rBOM[0] + datetime.timedelta(days=x) for x in range(31)]\n"
   ]
  },
  {
   "cell_type": "code",
   "execution_count": 11,
   "metadata": {},
   "outputs": [
    {
     "name": "stdout",
     "output_type": "stream",
     "text": [
      "06\n"
     ]
    }
   ],
   "source": [
    "m=[]\n",
    "i=5\n",
    "m.append([ f'{rMonths[i]:02}', rBOM[i] ])\n",
    "print(m[0][0])\n",
    "\n"
   ]
  },
  {
   "cell_type": "code",
   "execution_count": 8,
   "metadata": {},
   "outputs": [
    {
     "data": {
      "text/plain": [
       "'gs://ext-kiwi-excl-stat/2019/06/*.csv'"
      ]
     },
     "execution_count": 8,
     "metadata": {},
     "output_type": "execute_result"
    }
   ],
   "source": [
    "f\"gs://ext-kiwi-excl-stat/2019/{m[0][0]}/*.csv\""
   ]
  },
  {
   "cell_type": "code",
   "execution_count": null,
   "metadata": {},
   "outputs": [],
   "source": [
    "ds = 2020-06-01\n",
    "aDS = ds.split(''-'')\n",
    "print('%stat/stats/y={}/m={}/d={}%.csv'.format(ds_nodash)  )\n",
    "#print('%stat/stats/y={}/m={}/d={}%.csv'.format(ds_nodash)  )\n",
    "\n",
    "\n",
    "\n",
    "\n",
    "\n",
    "\n",
    "\n",
    "dictX2PassValue = {}\n",
    "\n",
    "\n",
    "\n",
    "\n",
    "\n",
    "\n",
    "\n",
    "\n",
    "\n",
    "\n"
   ]
  },
  {
   "cell_type": "code",
   "execution_count": null,
   "metadata": {},
   "outputs": [],
   "source": [
    "six_months = datetime.datetime.today() + relativedelta(months=+6)"
   ]
  },
  {
   "cell_type": "code",
   "execution_count": 62,
   "metadata": {},
   "outputs": [
    {
     "name": "stdout",
     "output_type": "stream",
     "text": [
      "(4, 28)\n"
     ]
    }
   ],
   "source": [
    "from calendar import monthrange\n",
    "num_days = monthrange(2019, 2) # [1] num_days = 28\n",
    "print(num_days) # Prints 28\n"
   ]
  },
  {
   "cell_type": "code",
   "execution_count": 65,
   "metadata": {},
   "outputs": [
    {
     "name": "stdout",
     "output_type": "stream",
     "text": [
      "   February 2019\n",
      "Mo Tu We Th Fr Sa Su\n",
      "             1  2  3\n",
      " 4  5  6  7  8  9 10\n",
      "11 12 13 14 15 16 17\n",
      "18 19 20 21 22 23 24\n",
      "25 26 27 28\n",
      "\n"
     ]
    }
   ],
   "source": [
    "x = calendar.month(2019, 2) \n",
    "print(x)"
   ]
  },
  {
   "cell_type": "code",
   "execution_count": null,
   "metadata": {},
   "outputs": [],
   "source": [
    "#from calendar import Calendar\n",
    "import calendar\n",
    "c = Calendar()"
   ]
  },
  {
   "cell_type": "code",
   "execution_count": null,
   "metadata": {},
   "outputs": [],
   "source": [
    "lDates = c.itermonthdates(year = 2019, month = 1)\n",
    "for i in lDates:\n",
    "    print(i)"
   ]
  },
  {
   "cell_type": "code",
   "execution_count": null,
   "metadata": {},
   "outputs": [],
   "source": [
    "lDates = c.itermonthdays3(year = 2019, month = 1)\n",
    "for i in lDates:\n",
    "    print(i)"
   ]
  },
  {
   "cell_type": "code",
   "execution_count": 58,
   "metadata": {},
   "outputs": [
    {
     "ename": "NameError",
     "evalue": "name 'TextCalendar' is not defined",
     "output_type": "error",
     "traceback": [
      "\u001b[1;31m---------------------------------------------------------------------------\u001b[0m",
      "\u001b[1;31mNameError\u001b[0m                                 Traceback (most recent call last)",
      "\u001b[1;32m<ipython-input-58-069b7a90cdb9>\u001b[0m in \u001b[0;36m<module>\u001b[1;34m\u001b[0m\n\u001b[1;32m----> 1\u001b[1;33m \u001b[0mtc\u001b[0m \u001b[1;33m=\u001b[0m \u001b[0mTextCalendar\u001b[0m\u001b[1;33m(\u001b[0m\u001b[1;33m)\u001b[0m\u001b[1;33m\u001b[0m\u001b[1;33m\u001b[0m\u001b[0m\n\u001b[0m\u001b[0;32m      2\u001b[0m \u001b[0mlDates\u001b[0m \u001b[1;33m=\u001b[0m \u001b[0mtc\u001b[0m\u001b[1;33m.\u001b[0m\u001b[0mformatmonth\u001b[0m\u001b[1;33m(\u001b[0m\u001b[1;36m2019\u001b[0m\u001b[1;33m,\u001b[0m \u001b[1;36m1\u001b[0m\u001b[1;33m)\u001b[0m\u001b[1;33m\u001b[0m\u001b[1;33m\u001b[0m\u001b[0m\n\u001b[0;32m      3\u001b[0m \u001b[1;32mfor\u001b[0m \u001b[0mi\u001b[0m \u001b[1;32min\u001b[0m \u001b[0mlDates\u001b[0m\u001b[1;33m:\u001b[0m\u001b[1;33m\u001b[0m\u001b[1;33m\u001b[0m\u001b[0m\n\u001b[0;32m      4\u001b[0m     \u001b[0mprint\u001b[0m\u001b[1;33m(\u001b[0m\u001b[0mi\u001b[0m\u001b[1;33m)\u001b[0m\u001b[1;33m\u001b[0m\u001b[1;33m\u001b[0m\u001b[0m\n",
      "\u001b[1;31mNameError\u001b[0m: name 'TextCalendar' is not defined"
     ]
    }
   ],
   "source": [
    "tc = TextCalendar()\n",
    "lDates = tc.formatmonth(2019, 1)\n",
    "for i in lDates:\n",
    "    print(i)"
   ]
  },
  {
   "cell_type": "code",
   "execution_count": 2,
   "metadata": {},
   "outputs": [],
   "source": [
    "l=[]"
   ]
  },
  {
   "cell_type": "code",
   "execution_count": 68,
   "metadata": {},
   "outputs": [],
   "source": [
    "l.append(['',0])"
   ]
  },
  {
   "cell_type": "code",
   "execution_count": 12,
   "metadata": {},
   "outputs": [],
   "source": [
    "import os\n",
    "from datetime import datetime, timedelta\n",
    "from calendar import monthrange\n",
    "\n"
   ]
  },
  {
   "cell_type": "code",
   "execution_count": 13,
   "metadata": {},
   "outputs": [
    {
     "name": "stdout",
     "output_type": "stream",
     "text": [
      "2019-02-28\n",
      "2019-03-31\n"
     ]
    }
   ],
   "source": [
    "batchYear = 2019\n",
    "rMonths = range (0, 13)\n",
    "minMonth = 2\n",
    "maxMonth = 3\t# make minMonth and maxMonth same to run one month at a time\n",
    "lMonths = []\n",
    "\n",
    "# loop through the Month(s) we want to use to build up our DAG\n",
    "for i in rMonths:\n",
    "    if minMonth <= i <= maxMonth:\n",
    "        BOM = datetime(batchYear, rMonths[i], 1)\n",
    "        DayCount = monthrange(batchYear, rMonths[i])[1]\n",
    "        lDates = [BOM + timedelta(days = x) for x in range(DayCount)]\n",
    "        lYYYYMM = [format(x, '%Y%m') for x in lDates]\n",
    "        lDatesString = [format(x, '%Y-%m-%d') for x in lDates]\n",
    "        #f'{i:02}' = 'MM'\n",
    "        lMonths.append([ lYYYYMM, lDatesString ])    #lMonths will be a list of lists of MonthDays between minMonth and maxMonth\n",
    "\n",
    "#firstMonth = True\n",
    "for m in lMonths:\n",
    "    \n",
    "    print(m[1][-1])"
   ]
  },
  {
   "cell_type": "code",
   "execution_count": 12,
   "metadata": {},
   "outputs": [
    {
     "ename": "NameError",
     "evalue": "name 'lDatesString' is not defined",
     "output_type": "error",
     "traceback": [
      "\u001b[1;31m---------------------------------------------------------------------------\u001b[0m",
      "\u001b[1;31mNameError\u001b[0m                                 Traceback (most recent call last)",
      "\u001b[1;32m<ipython-input-12-cf39be1a6673>\u001b[0m in \u001b[0;36m<module>\u001b[1;34m\u001b[0m\n\u001b[1;32m----> 1\u001b[1;33m \u001b[0mdayChar1\u001b[0m \u001b[1;33m=\u001b[0m \u001b[0mlDatesString\u001b[0m\u001b[1;33m[\u001b[0m\u001b[1;36m0\u001b[0m\u001b[1;33m]\u001b[0m\u001b[1;33m[\u001b[0m\u001b[1;36m8\u001b[0m\u001b[1;33m]\u001b[0m\u001b[1;33m\u001b[0m\u001b[1;33m\u001b[0m\u001b[0m\n\u001b[0m",
      "\u001b[1;31mNameError\u001b[0m: name 'lDatesString' is not defined"
     ]
    }
   ],
   "source": [
    "dayChar1 = lDatesString[0][8]"
   ]
  },
  {
   "cell_type": "code",
   "execution_count": null,
   "metadata": {},
   "outputs": [],
   "source": []
  },
  {
   "cell_type": "code",
   "execution_count": 4,
   "metadata": {},
   "outputs": [
    {
     "name": "stdout",
     "output_type": "stream",
     "text": [
      "2020-05-05T17:33:37.155309\n"
     ]
    }
   ],
   "source": [
    "from datetime import datetime, timedelta\n",
    "af_ts = str(datetime.now().isoformat())\n",
    "print(af_ts)"
   ]
  },
  {
   "cell_type": "code",
   "execution_count": 5,
   "metadata": {},
   "outputs": [
    {
     "data": {
      "text/plain": [
       "'bq --location=EU --batch --use_legacy_sql=false \\'\" + f\"{log_sql}\" + \"\\'{{ task_instance }}\\' )\\''"
      ]
     },
     "execution_count": 5,
     "metadata": {},
     "output_type": "execute_result"
    }
   ],
   "source": [
    "log_sql_base = \"insert into log.load(af_load_ts, ds, tb, af_task_instance) values( '{}', '{}', '{}', \"\n",
    "\n",
    "af_ts = str(datetime.now().isoformat())\n",
    "dtbl = f'X4'\n",
    "log_sql = log_sql_base.format(af_ts, 'dset', 'dtbl')\n",
    "\n",
    "\n",
    "\"\"\"bq --location=EU --batch --use_legacy_sql=false '\" + f\"{log_sql}\" + \"'{{ task_instance }}' )'\"\"\""
   ]
  },
  {
   "cell_type": "code",
   "execution_count": 48,
   "metadata": {},
   "outputs": [
    {
     "name": "stdout",
     "output_type": "stream",
     "text": [
      "<class 'str'>\n",
      "178\n",
      "bq --location=EU --batch --use_legacy_sql=false \"insert into log.load(af_load_ts, ds, tb, af_task_instance) values( '2020-01-11T17:50:19.985369', 'X4', 'X4', ' task_instance ' )\"\n"
     ]
    }
   ],
   "source": [
    "log_sql_base = \"insert into log.load(af_load_ts, ds, tb, af_task_instance) values( '{}', '{}', '{}',\"\n",
    "log_cmd_base = 'bq --location=EU --batch --use_legacy_sql=false \"'\n",
    "\n",
    "af_ts = str(datetime.now().isoformat())\n",
    "dset = f'X4'\n",
    "dtbl = f'X4'\n",
    "log_sql = log_sql_base.format(af_ts, dset, dtbl)\n",
    "#cmd = log_cmd_base + log_sql + \" '{{ task_instance }}' )\" + '\"'\n",
    "cmd = log_cmd_base + log_sql + ''' ' task_instance ' )''' + '\"'\n",
    "print(type(cmd))\n",
    "print(len(cmd))\n",
    "print(cmd)"
   ]
  },
  {
   "cell_type": "code",
   "execution_count": 29,
   "metadata": {},
   "outputs": [
    {
     "data": {
      "text/plain": [
       "'delete X4.X4 where search_date =  \\'{d}\\' \"'"
      ]
     },
     "execution_count": 29,
     "metadata": {},
     "output_type": "execute_result"
    }
   ],
   "source": [
    "dset = 'X4'\n",
    "dtbl = 'X4'\n",
    "d = 'X4'\n",
    "\n",
    "#f\"delete {dset}.{dtbl} where search_date = '{d}'\"\n",
    "f'delete {dset}.{dtbl} where search_date = ' + ''' '{d}' ''' + '\"'"
   ]
  },
  {
   "cell_type": "code",
   "execution_count": 21,
   "metadata": {},
   "outputs": [
    {
     "name": "stdout",
     "output_type": "stream",
     "text": [
      "search_date between '2019-03-11' and '2019-03-20' and search_date between '2019-03-02' and '2019-03-19'\"\n"
     ]
    }
   ],
   "source": [
    "YYYYMM = '201903'\n",
    "minDay = 2\n",
    "maxDay = 19\n",
    "date_filter_safe = f\" and search_date between '{m[1][minDay-1]}' and '{m[1][maxDay-1]}'\" +'\"'\n",
    "\n",
    "DayGroup_01_date_filter = f\"search_date between '{m[1][0]}' and '{m[1][9]}'\" + date_filter_safe\n",
    "DayGroup_11_date_filter = f\"search_date between '{m[1][10]}' and '{m[1][19]}'\" + date_filter_safe\n",
    "DayGroup_20_date_filter = f\"search_date between '{m[1][20]}' and '{m[1][-1]}'\" + date_filter_safe\n",
    "print(DayGroup_11_date_filter)"
   ]
  },
  {
   "cell_type": "code",
   "execution_count": 25,
   "metadata": {},
   "outputs": [
    {
     "name": "stdout",
     "output_type": "stream",
     "text": [
      "31\n",
      "19\n"
     ]
    }
   ],
   "source": [
    "maxDayValid = min(len(m[1]), maxDay)\n",
    "print(len(m[1]))\n",
    "print(maxDayValid)"
   ]
  },
  {
   "cell_type": "code",
   "execution_count": 1,
   "metadata": {},
   "outputs": [
    {
     "data": {
      "text/plain": [
       "'data/2019/03/20/*.gz.parquet'"
      ]
     },
     "execution_count": 1,
     "metadata": {},
     "output_type": "execute_result"
    }
   ],
   "source": [
    "sourceObjects= 'data/{}/*.gz.parquet'\n",
    "sourceObjects.format('2019-03-20'.replace('-','/'))"
   ]
  },
  {
   "cell_type": "code",
   "execution_count": 4,
   "metadata": {},
   "outputs": [
    {
     "name": "stdout",
     "output_type": "stream",
     "text": [
      "DECLARE fd DATE DEFAULT '2019-01-01'; DECLARE td DATE DEFAULT '2019-01-31'; CALL matching.sp_process_X6(fd, td, false);\"\n",
      "\n",
      "DECLARE fd DATE DEFAULT '2019-02-01'; DECLARE td DATE DEFAULT '2019-02-28'; CALL matching.sp_process_X6(fd, td, false);\"\n",
      "\n",
      "DECLARE fd DATE DEFAULT '2019-03-01'; DECLARE td DATE DEFAULT '2019-03-31'; CALL matching.sp_process_X6(fd, td, false);\"\n",
      "\n",
      "DECLARE fd DATE DEFAULT '2019-04-01'; DECLARE td DATE DEFAULT '2019-04-30'; CALL matching.sp_process_X6(fd, td, false);\"\n",
      "\n",
      "DECLARE fd DATE DEFAULT '2019-05-01'; DECLARE td DATE DEFAULT '2019-05-31'; CALL matching.sp_process_X6(fd, td, false);\"\n",
      "\n",
      "DECLARE fd DATE DEFAULT '2019-06-01'; DECLARE td DATE DEFAULT '2019-06-30'; CALL matching.sp_process_X6(fd, td, false);\"\n",
      "\n",
      "DECLARE fd DATE DEFAULT '2019-07-01'; DECLARE td DATE DEFAULT '2019-07-31'; CALL matching.sp_process_X6(fd, td, false);\"\n",
      "\n",
      "DECLARE fd DATE DEFAULT '2019-08-01'; DECLARE td DATE DEFAULT '2019-08-31'; CALL matching.sp_process_X6(fd, td, false);\"\n",
      "\n",
      "DECLARE fd DATE DEFAULT '2019-09-01'; DECLARE td DATE DEFAULT '2019-09-30'; CALL matching.sp_process_X6(fd, td, false);\"\n",
      "\n",
      "DECLARE fd DATE DEFAULT '2019-10-01'; DECLARE td DATE DEFAULT '2019-10-31'; CALL matching.sp_process_X6(fd, td, false);\"\n",
      "\n",
      "DECLARE fd DATE DEFAULT '2019-11-01'; DECLARE td DATE DEFAULT '2019-11-30'; CALL matching.sp_process_X6(fd, td, false);\"\n",
      "\n",
      "DECLARE fd DATE DEFAULT '2019-12-01'; DECLARE td DATE DEFAULT '2019-12-31'; CALL matching.sp_process_X6(fd, td, false);\"\n",
      "\n"
     ]
    }
   ],
   "source": [
    "rMonths = range (0, 12)\n",
    "Mth = ['01','02','03','04','05','06','07','08','09','10','11','12']\n",
    "EOM = ['31','28','31','30','31','30','31','31','30','31','30','31']\n",
    "\n",
    "for i in rMonths:\n",
    "    mm = Mth[i]\n",
    "    ddEOM = EOM[i]\n",
    "    print(f\"DECLARE fd DATE DEFAULT '2019-{mm}-01'; DECLARE td DATE DEFAULT '2019-{mm}-{ddEOM}'; CALL matching.sp_process_X6(fd, td, false);\" + '\"')\n",
    "    print('')"
   ]
  },
  {
   "cell_type": "code",
   "execution_count": 11,
   "metadata": {},
   "outputs": [
    {
     "ename": "TypeError",
     "evalue": "'months' is an invalid keyword argument for __new__()",
     "output_type": "error",
     "traceback": [
      "\u001b[1;31m---------------------------------------------------------------------------\u001b[0m",
      "\u001b[1;31mTypeError\u001b[0m                                 Traceback (most recent call last)",
      "\u001b[1;32m<ipython-input-11-d6be86855a79>\u001b[0m in \u001b[0;36m<module>\u001b[1;34m\u001b[0m\n\u001b[0;32m      9\u001b[0m \u001b[1;32mfor\u001b[0m \u001b[0mi\u001b[0m \u001b[1;32min\u001b[0m \u001b[0mrMonths\u001b[0m\u001b[1;33m:\u001b[0m\u001b[1;33m\u001b[0m\u001b[1;33m\u001b[0m\u001b[0m\n\u001b[0;32m     10\u001b[0m     \u001b[0mBOM\u001b[0m \u001b[1;33m=\u001b[0m \u001b[0mdatetime\u001b[0m\u001b[1;33m(\u001b[0m\u001b[0mbatchYear\u001b[0m\u001b[1;33m,\u001b[0m \u001b[0mi\u001b[0m\u001b[1;33m,\u001b[0m \u001b[1;36m1\u001b[0m\u001b[1;33m)\u001b[0m\u001b[1;33m\u001b[0m\u001b[1;33m\u001b[0m\u001b[0m\n\u001b[1;32m---> 11\u001b[1;33m     \u001b[0mNextMonth\u001b[0m \u001b[1;33m=\u001b[0m \u001b[0mBOM\u001b[0m \u001b[1;33m+\u001b[0m \u001b[0mtimedelta\u001b[0m\u001b[1;33m(\u001b[0m\u001b[0mmonths\u001b[0m \u001b[1;33m=\u001b[0m \u001b[1;36m1\u001b[0m\u001b[1;33m)\u001b[0m\u001b[1;33m\u001b[0m\u001b[1;33m\u001b[0m\u001b[0m\n\u001b[0m\u001b[0;32m     12\u001b[0m     \u001b[0mddEOM\u001b[0m \u001b[1;33m=\u001b[0m \u001b[0mNextMonth\u001b[0m \u001b[1;33m+\u001b[0m \u001b[0mtimedelta\u001b[0m\u001b[1;33m(\u001b[0m\u001b[0mdays\u001b[0m \u001b[1;33m=\u001b[0m \u001b[1;33m-\u001b[0m\u001b[1;36m1\u001b[0m\u001b[1;33m)\u001b[0m\u001b[1;33m\u001b[0m\u001b[1;33m\u001b[0m\u001b[0m\n\u001b[0;32m     13\u001b[0m     \u001b[1;31m#lMonths.append([ lYYYYMM, lDatesString ])    #lMonths will be a list of lists of MonthDays between minMonth and maxMonth\u001b[0m\u001b[1;33m\u001b[0m\u001b[1;33m\u001b[0m\u001b[1;33m\u001b[0m\u001b[0m\n",
      "\u001b[1;31mTypeError\u001b[0m: 'months' is an invalid keyword argument for __new__()"
     ]
    }
   ],
   "source": [
    "# FOR index2\\af\\dags\\dag_IATA_X3_week.py\n",
    "\n",
    "from datetime import datetime, timedelta\n",
    "\n",
    "batchYear = 2020\n",
    "rMonths = range (1, 12)\n",
    "lMonths = []\n",
    "\n",
    "for i in rMonths:\n",
    "    BOM = datetime(batchYear, i, 1)\n",
    "    NextMonth = BOM + timedelta(months = 1)\n",
    "    ddEOM = NextMonth + timedelta(days = -1) \n",
    "    #lMonths.append([ lYYYYMM, lDatesString ])    #lMonths will be a list of lists of MonthDays between minMonth and maxMonth\n",
    "    print(ddEOM)\n",
    "\n",
    "#firstMonth = True\n",
    "#for m in lMonths:\n",
    "    #print(m[1][-1])\n"
   ]
  },
  {
   "cell_type": "code",
   "execution_count": 26,
   "metadata": {},
   "outputs": [
    {
     "name": "stdout",
     "output_type": "stream",
     "text": [
      "26/Mar/2020\n"
     ]
    }
   ],
   "source": [
    "from datetime import datetime, timedelta\n",
    "\n",
    "if 1==1:\n",
    "  yest = datetime.today().date() - timedelta(days = 1)\n",
    "  dtfrom = yest.strftime(\"%d/%b/%Y\")\n",
    "  #Date,FX,BOE_FX\n",
    "  #lst = yest.strftime(\"%Y/%m/%d\")\n",
    "  #lne = ','.join([lst, '2', '3', '4'])\n",
    "  print(dtfrom)"
   ]
  },
  {
   "cell_type": "code",
   "execution_count": 2,
   "metadata": {},
   "outputs": [],
   "source": [
    "#for IATA Weekly \n",
    "from datetime import datetime, timedelta"
   ]
  },
  {
   "cell_type": "code",
   "execution_count": 40,
   "metadata": {},
   "outputs": [
    {
     "name": "stdout",
     "output_type": "stream",
     "text": [
      "2020-04-22 2020-04-28\n",
      "2020-04-18 2020-04-24\n"
     ]
    }
   ],
   "source": [
    "# Must be run on Monday to return previous Mon->Sun\n",
    "dfmt= \"%Y-%m-%d\"\n",
    "Sun = datetime.today().date() - timedelta(days = 1)\n",
    "dtTo = Sun.strftime(dfmt)\n",
    "dtFrom = (Sun - timedelta(days = 6)).strftime(dfmt) # Mon\n",
    "\n",
    "# X6 is offset a further -ve 4 days due to the lag between DOI and FileDate\n",
    "dtFrom_X6 = (Sun - timedelta(days = 10)).strftime(dfmt) #Thu\n",
    "dtTo_X6 = (Sun - timedelta(days = 4)).strftime(dfmt) #Wed\n",
    "\n",
    "print(dtFrom + ' ' + dtTo)\n",
    "print(dtFrom_X6 + ' ' + dtTo_X6)\n"
   ]
  },
  {
   "cell_type": "code",
   "execution_count": 15,
   "metadata": {},
   "outputs": [],
   "source": [
    "fileFull = f'FinalOutput_{dtFrom}_w_{dtTo}_Global.csv'\n",
    "gcsPrefix = 'gs://ext-iata-excl-data/2020/unzipped/'\n",
    "\n",
    "cmd_base =    'bq query --location=EU --use_legacy_sql=false \"'\n",
    "cmd_base_sp = 'bq query --location=EU --use_legacy_sql=false \"' + \"CALL iata_sp.sp_process_{}('{}', '{}', '{}');\" + '\"'"
   ]
  },
  {
   "cell_type": "code",
   "execution_count": 19,
   "metadata": {},
   "outputs": [
    {
     "name": "stdout",
     "output_type": "stream",
     "text": [
      "bq query --location=EU --use_legacy_sql=false \"CALL iata_sp.sp_process_X3('2020-04-21', '2020-04-27', 'FinalOutput_2020-04-21_w_2020-04-27_Global.csv');\"\n"
     ]
    }
   ],
   "source": [
    "cmd = cmd_base_sp.format('X3', dtFrom, dtTo, fileFull)\n",
    "print(cmd)"
   ]
  },
  {
   "cell_type": "code",
   "execution_count": 23,
   "metadata": {},
   "outputs": [
    {
     "name": "stdout",
     "output_type": "stream",
     "text": [
      "bq query --location=EU --use_legacy_sql=false \"CALL iata_sp.sp_process_X3('2020-04-21', '2020-04-27', 'FinalOutput_2020-04-21_w_2020-04-27_Global.csv', 'gs://ext-iata-excl-data/2020/unzipped/');\"\n"
     ]
    }
   ],
   "source": [
    "cmd_X3 = cmd.replace(');', f\", '{gcsPrefix}');\")\n",
    "print(cmd_X3)"
   ]
  },
  {
   "cell_type": "code",
   "execution_count": 32,
   "metadata": {},
   "outputs": [
    {
     "name": "stdout",
     "output_type": "stream",
     "text": [
      "<class 'int'>\n",
      "20200429104458561407\n"
     ]
    }
   ],
   "source": [
    "#ts = datetime.now().isoformat()\n",
    "ts = int(datetime.now().strftime(\"%Y%m%d%H%M%S%f\"))\n",
    "print(type(ts)) #str\n",
    "print(ts)"
   ]
  },
  {
   "cell_type": "code",
   "execution_count": 55,
   "metadata": {},
   "outputs": [
    {
     "name": "stdout",
     "output_type": "stream",
     "text": [
      "01052020\n"
     ]
    }
   ],
   "source": [
    "dfmt= \"%d%m%Y\"\n",
    "d = datetime.today().date().strftime(dfmt) \n",
    "print(d)"
   ]
  },
  {
   "cell_type": "code",
   "execution_count": 3,
   "metadata": {},
   "outputs": [
    {
     "name": "stdout",
     "output_type": "stream",
     "text": [
      "[2020050514072907995, '2020-05-05 14:07:29.079955 UTC']\n"
     ]
    }
   ],
   "source": [
    "dt = datetime.now()\n",
    "ls = [ int(dt.strftime(\"%Y%m%d%H%M%S%f\")[:-1]) , dt.strftime(\"%Y-%m-%d %H:%M:%S.%f UTC\") ]\n",
    "#print( dt.strftime(\"%Y-%m-%d %H:%M:%S.%f UTC\") )\n",
    "#2020-02-07 22:42:39.652792 UTC\n",
    "print(ls)"
   ]
  },
  {
   "cell_type": "code",
   "execution_count": 2,
   "metadata": {},
   "outputs": [
    {
     "data": {
      "text/plain": [
       "'20201104_1838'"
      ]
     },
     "execution_count": 2,
     "metadata": {},
     "output_type": "execute_result"
    }
   ],
   "source": [
    "#str(datetime.datetime.now().isoformat())[0:16]\n",
    "from datetime import datetime                                        \n",
    "datetime.now().strftime('%Y%m%d_%H%M')                                         "
   ]
  }
 ],
 "metadata": {
  "kernelspec": {
   "display_name": "Python 3",
   "language": "python",
   "name": "python3"
  },
  "language_info": {
   "codemirror_mode": {
    "name": "ipython",
    "version": 3
   },
   "file_extension": ".py",
   "mimetype": "text/x-python",
   "name": "python",
   "nbconvert_exporter": "python",
   "pygments_lexer": "ipython3",
   "version": "3.7.6"
  }
 },
 "nbformat": 4,
 "nbformat_minor": 2
}
