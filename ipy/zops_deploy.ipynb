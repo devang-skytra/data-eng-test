{
 "cells": [
  {
   "cell_type": "code",
   "execution_count": 15,
   "metadata": {},
   "outputs": [],
   "source": [
    "def mock_dag_conf_run(dag_run):\n",
    "  print(  dag_run.conf['dset'] if 'dset' in dag_run.conf else 'iata'  )"
   ]
  },
  {
   "cell_type": "code",
   "execution_count": 13,
   "metadata": {},
   "outputs": [],
   "source": [
    "class c_dag_run:\n",
    "\n",
    "  def __init__(self, conf):\n",
    "    self.conf = conf\n",
    "    \n",
    "  def set_conf(self, conf):\n",
    "    self.conf = conf\n",
    "    \n",
    "  def conf(self):\n",
    "    return self.conf"
   ]
  },
  {
   "cell_type": "code",
   "execution_count": 18,
   "metadata": {},
   "outputs": [
    {
     "name": "stdout",
     "output_type": "stream",
     "text": [
      "iata_z_bak_expiry_14d\n",
      "iata\n"
     ]
    }
   ],
   "source": [
    "dag_run = c_dag_run({ \"replacement_age_interval\":\"1 DAY\", \"dset\":\"iata_z_bak_expiry_14d\"})\n",
    "mock_dag_conf_run(dag_run)\n",
    "\n",
    "dag_run.set_conf({ \"replacement_age_interval\":\"1 DAY\"})\n",
    "mock_dag_conf_run(dag_run)"
   ]
  }
 ],
 "metadata": {
  "kernelspec": {
   "display_name": "Python 3",
   "language": "python",
   "name": "python3"
  },
  "language_info": {
   "codemirror_mode": {
    "name": "ipython",
    "version": 3
   },
   "file_extension": ".py",
   "mimetype": "text/x-python",
   "name": "python",
   "nbconvert_exporter": "python",
   "pygments_lexer": "ipython3",
   "version": "3.7.6"
  }
 },
 "nbformat": 4,
 "nbformat_minor": 4
}
