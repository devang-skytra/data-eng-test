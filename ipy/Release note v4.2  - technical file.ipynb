{
 "cells": [
  {
   "cell_type": "code",
   "execution_count": 2,
   "metadata": {},
   "outputs": [],
   "source": [
    "import datetime\n",
    "import pandas as pd\n",
    "import numpy as np\n",
    "from sklearn import linear_model\n",
    "from google.cloud import bigquery\n",
    "import datalab.storage as gcs #v1.1.5"
   ]
  },
  {
   "cell_type": "markdown",
   "metadata": {},
   "source": [
    "# Product purpose"
   ]
  },
  {
   "cell_type": "markdown",
   "metadata": {},
   "source": [
    "To enable research on the price of air travel in regional markets to enable potential future users to develop their own understanding of volatilities, seasonalities and correlations with other parts of the world economy. To enable in depth discussion with potential users as to the functionality and definitions used for the indices.\n",
    "Licensees are forbidden from creating new derived data products from these indices and or using these indices/data as benchmarks."
   ]
  },
  {
   "cell_type": "markdown",
   "metadata": {},
   "source": [
    "# Input Data/Data repositories\n"
   ]
  },
  {
   "cell_type": "markdown",
   "metadata": {},
   "source": [
    "Kiwi raw data:  gs://ext-kiwi-excl-data\n",
    "        \n",
    "Iata raw data:  gs://ext-iata-excel-data\n",
    "\n",
    "Auxiliary data : BQ dataset generic        "
   ]
  },
  {
   "cell_type": "markdown",
   "metadata": {},
   "source": [
    "# Applicable regulatory documentation"
   ]
  },
  {
   "cell_type": "markdown",
   "metadata": {},
   "source": [
    "# Applicable internal documentation"
   ]
  },
  {
   "cell_type": "markdown",
   "metadata": {},
   "source": [
    "# Benchmark code repository"
   ]
  },
  {
   "cell_type": "markdown",
   "metadata": {},
   "source": [
    "Latest commit for this version \n",
    "814f8f6 \n",
    "\n",
    "https://bitbucket.org/indexproduction_SK/indexproduction/commits/814f8f6f7ab4b742bdef53a470714341af150703"
   ]
  },
  {
   "cell_type": "markdown",
   "metadata": {},
   "source": [
    "# Divisors & rationales"
   ]
  },
  {
   "cell_type": "markdown",
   "metadata": {},
   "source": [
    "# Models used"
   ]
  },
  {
   "cell_type": "markdown",
   "metadata": {},
   "source": [
    "In order o build a longer time series, the skytra index before 2018 is a modelled version\n",
    "\n",
    "This index is produced by the IATA-only index code v4.1, which accounts for the spot window changes in all regions\n",
    "\n",
    "The input dataset is IATA_full_process.I2_2013_to_2018\n",
    "\n",
    "The output dataset is stored in iata_RESEARCH.X7_IATA_index_2013_2018\n",
    "\n",
    "Final calculation of the IATA index for each flown date and region_pair\n",
    "\n",
    "Process IATA only itineraries\n",
    "\n",
    "flight_date filter according to variable spot window\n",
    "\n",
    "od_km looked up from our skytra.airports dataset\n",
    "\n",
    "IATA bad price filtering applied\n",
    "\n",
    "median price of cohort of journey maps\n",
    "\n",
    "IATA_TOT_RPK weighting by nleg of combo index"
   ]
  },
  {
   "cell_type": "code",
   "execution_count": 16,
   "metadata": {},
   "outputs": [],
   "source": [
    "# Function that calls SQL code\n",
    "def iata_index_table():\n",
    "    client=bigquery.Client()\n",
    "    query_job=client.query(\"\"\"\n",
    "                    SELECT *\n",
    "                    FROM `d-dat-digitalaircrafttransport.iata_RESEARCH.X7_IATA_index_2013_2018`\n",
    "                    \"\"\")\n",
    "    print(\"Reading iata_RESEARCH.X7_IATA_index_2013_2018\")\n",
    "    results = query_job.result().to_dataframe()\n",
    "    print('Compiled the dataframe')\n",
    "    df_lines = len(results.index)\n",
    "    print('Processed {0} lines'.format(df_lines))\n",
    "    return results\n",
    "\n",
    "# region pair dict\n",
    "region_dict = {\n",
    "        'EU-EU': 'Europe-Europe',\n",
    "        'NA-NA': 'North America-North America',\n",
    "        'AS-AS': 'Asia/Pacific-Asia/Pacific',\n",
    "        'AS-NA': 'Asia/Pacific-North America',\n",
    "        'AS-EU': 'Asia/Pacific-Europe',\n",
    "        'EU-NA': 'Europe-North America'\n",
    "        }"
   ]
  },
  {
   "cell_type": "code",
   "execution_count": 8,
   "metadata": {},
   "outputs": [
    {
     "name": "stdout",
     "output_type": "stream",
     "text": [
      "Reading iata_RESEARCH.X7_IATA_index_2013_2018\n",
      "Compiled the dataframe\n",
      "Processed 12972 lines\n"
     ]
    },
    {
     "data": {
      "text/html": [
       "<div>\n",
       "<style scoped>\n",
       "    .dataframe tbody tr th:only-of-type {\n",
       "        vertical-align: middle;\n",
       "    }\n",
       "\n",
       "    .dataframe tbody tr th {\n",
       "        vertical-align: top;\n",
       "    }\n",
       "\n",
       "    .dataframe thead th {\n",
       "        text-align: right;\n",
       "    }\n",
       "</style>\n",
       "<table border=\"1\" class=\"dataframe\">\n",
       "  <thead>\n",
       "    <tr style=\"text-align: right;\">\n",
       "      <th></th>\n",
       "      <th>region_pair</th>\n",
       "      <th>first_flight_date</th>\n",
       "      <th>IATA_RRPK_USD</th>\n",
       "      <th>IATA_TOT_RPK</th>\n",
       "      <th>iata_tickets</th>\n",
       "    </tr>\n",
       "  </thead>\n",
       "  <tbody>\n",
       "    <tr>\n",
       "      <th>0</th>\n",
       "      <td>Asia/Pacific-Asia/Pacific</td>\n",
       "      <td>2013-02-02</td>\n",
       "      <td>0.123531</td>\n",
       "      <td>4.975690e+08</td>\n",
       "      <td>257774</td>\n",
       "    </tr>\n",
       "    <tr>\n",
       "      <th>1</th>\n",
       "      <td>Asia/Pacific-Europe</td>\n",
       "      <td>2013-02-02</td>\n",
       "      <td>0.047475</td>\n",
       "      <td>1.917573e+08</td>\n",
       "      <td>11257</td>\n",
       "    </tr>\n",
       "    <tr>\n",
       "      <th>2</th>\n",
       "      <td>Asia/Pacific-North America</td>\n",
       "      <td>2013-02-02</td>\n",
       "      <td>0.060670</td>\n",
       "      <td>2.666811e+08</td>\n",
       "      <td>13200</td>\n",
       "    </tr>\n",
       "    <tr>\n",
       "      <th>3</th>\n",
       "      <td>Europe-Europe</td>\n",
       "      <td>2013-02-02</td>\n",
       "      <td>0.079758</td>\n",
       "      <td>8.978834e+07</td>\n",
       "      <td>51026</td>\n",
       "    </tr>\n",
       "    <tr>\n",
       "      <th>4</th>\n",
       "      <td>Europe-North America</td>\n",
       "      <td>2013-02-02</td>\n",
       "      <td>0.034561</td>\n",
       "      <td>2.078784e+08</td>\n",
       "      <td>14414</td>\n",
       "    </tr>\n",
       "  </tbody>\n",
       "</table>\n",
       "</div>"
      ],
      "text/plain": [
       "                  region_pair first_flight_date  IATA_RRPK_USD  IATA_TOT_RPK  \\\n",
       "0   Asia/Pacific-Asia/Pacific        2013-02-02       0.123531  4.975690e+08   \n",
       "1         Asia/Pacific-Europe        2013-02-02       0.047475  1.917573e+08   \n",
       "2  Asia/Pacific-North America        2013-02-02       0.060670  2.666811e+08   \n",
       "3               Europe-Europe        2013-02-02       0.079758  8.978834e+07   \n",
       "4        Europe-North America        2013-02-02       0.034561  2.078784e+08   \n",
       "\n",
       "   iata_tickets  \n",
       "0        257774  \n",
       "1         11257  \n",
       "2         13200  \n",
       "3         51026  \n",
       "4         14414  "
      ]
     },
     "execution_count": 8,
     "metadata": {},
     "output_type": "execute_result"
    }
   ],
   "source": [
    "# The main IATA index dataframe\n",
    "iata_df=iata_index_table()\n",
    "iata_df.head()"
   ]
  },
  {
   "cell_type": "code",
   "execution_count": 9,
   "metadata": {},
   "outputs": [],
   "source": [
    "# Creating a pivot table of the index based on the region pair\n",
    "iata_df['first_flight_date'] = pd.to_datetime(iata_df['first_flight_date'])\n",
    "iata_index_df=pd.pivot_table(iata_df, index='first_flight_date', values='IATA_RRPK_USD', columns='region_pair')"
   ]
  },
  {
   "cell_type": "code",
   "execution_count": 10,
   "metadata": {},
   "outputs": [
    {
     "data": {
      "text/html": [
       "<div>\n",
       "<style scoped>\n",
       "    .dataframe tbody tr th:only-of-type {\n",
       "        vertical-align: middle;\n",
       "    }\n",
       "\n",
       "    .dataframe tbody tr th {\n",
       "        vertical-align: top;\n",
       "    }\n",
       "\n",
       "    .dataframe thead th {\n",
       "        text-align: right;\n",
       "    }\n",
       "</style>\n",
       "<table border=\"1\" class=\"dataframe\">\n",
       "  <thead>\n",
       "    <tr style=\"text-align: right;\">\n",
       "      <th>region_pair</th>\n",
       "      <th>Asia/Pacific-Asia/Pacific</th>\n",
       "      <th>Asia/Pacific-Europe</th>\n",
       "      <th>Asia/Pacific-North America</th>\n",
       "      <th>Europe-Europe</th>\n",
       "      <th>Europe-North America</th>\n",
       "      <th>North America-North America</th>\n",
       "    </tr>\n",
       "    <tr>\n",
       "      <th>first_flight_date</th>\n",
       "      <th></th>\n",
       "      <th></th>\n",
       "      <th></th>\n",
       "      <th></th>\n",
       "      <th></th>\n",
       "      <th></th>\n",
       "    </tr>\n",
       "  </thead>\n",
       "  <tbody>\n",
       "    <tr>\n",
       "      <th>2017-12-27</th>\n",
       "      <td>0.081956</td>\n",
       "      <td>0.039446</td>\n",
       "      <td>0.044838</td>\n",
       "      <td>0.110136</td>\n",
       "      <td>0.047558</td>\n",
       "      <td>0.124283</td>\n",
       "    </tr>\n",
       "    <tr>\n",
       "      <th>2017-12-28</th>\n",
       "      <td>0.083335</td>\n",
       "      <td>0.037382</td>\n",
       "      <td>0.044447</td>\n",
       "      <td>0.096926</td>\n",
       "      <td>0.044301</td>\n",
       "      <td>0.113214</td>\n",
       "    </tr>\n",
       "    <tr>\n",
       "      <th>2017-12-29</th>\n",
       "      <td>0.095741</td>\n",
       "      <td>0.036113</td>\n",
       "      <td>0.043160</td>\n",
       "      <td>0.094337</td>\n",
       "      <td>0.042012</td>\n",
       "      <td>0.107193</td>\n",
       "    </tr>\n",
       "    <tr>\n",
       "      <th>2017-12-30</th>\n",
       "      <td>0.084774</td>\n",
       "      <td>0.034390</td>\n",
       "      <td>0.039300</td>\n",
       "      <td>0.094961</td>\n",
       "      <td>0.040291</td>\n",
       "      <td>0.107799</td>\n",
       "    </tr>\n",
       "    <tr>\n",
       "      <th>2017-12-31</th>\n",
       "      <td>0.073238</td>\n",
       "      <td>0.029761</td>\n",
       "      <td>0.036892</td>\n",
       "      <td>0.079206</td>\n",
       "      <td>0.040518</td>\n",
       "      <td>0.096926</td>\n",
       "    </tr>\n",
       "  </tbody>\n",
       "</table>\n",
       "</div>"
      ],
      "text/plain": [
       "region_pair        Asia/Pacific-Asia/Pacific  Asia/Pacific-Europe  \\\n",
       "first_flight_date                                                   \n",
       "2017-12-27                          0.081956             0.039446   \n",
       "2017-12-28                          0.083335             0.037382   \n",
       "2017-12-29                          0.095741             0.036113   \n",
       "2017-12-30                          0.084774             0.034390   \n",
       "2017-12-31                          0.073238             0.029761   \n",
       "\n",
       "region_pair        Asia/Pacific-North America  Europe-Europe  \\\n",
       "first_flight_date                                              \n",
       "2017-12-27                           0.044838       0.110136   \n",
       "2017-12-28                           0.044447       0.096926   \n",
       "2017-12-29                           0.043160       0.094337   \n",
       "2017-12-30                           0.039300       0.094961   \n",
       "2017-12-31                           0.036892       0.079206   \n",
       "\n",
       "region_pair        Europe-North America  North America-North America  \n",
       "first_flight_date                                                     \n",
       "2017-12-27                     0.047558                     0.124283  \n",
       "2017-12-28                     0.044301                     0.113214  \n",
       "2017-12-29                     0.042012                     0.107193  \n",
       "2017-12-30                     0.040291                     0.107799  \n",
       "2017-12-31                     0.040518                     0.096926  "
      ]
     },
     "execution_count": 10,
     "metadata": {},
     "output_type": "execute_result"
    }
   ],
   "source": [
    "# Manipulating the IATA dataframe\n",
    "iata_index_df=iata_index_df.loc[:datetime.date(2017,12,31), :]\n",
    "iata_index_df.tail()"
   ]
  },
  {
   "cell_type": "code",
   "execution_count": 11,
   "metadata": {},
   "outputs": [],
   "source": [
    "# v4 Skytra index\n",
    "# Function that calls SQL code\n",
    "def skytra_index_table():\n",
    "    client=bigquery.Client()\n",
    "    query_job=client.query(\"\"\"\n",
    "                    SELECT *\n",
    "                    FROM `d-dat-digitalaircrafttransport.index.X7_v4_2018_2019`\n",
    "                    WHERE region_pair in ('Europe-Europe', 'Asia/Pacific-Asia/Pacific', 'Asia/Pacific-North America', \n",
    "                        'Asia/Pacific-Europe', 'Europe-North America', 'North America-North America')\n",
    "                    \"\"\")\n",
    "    print(\"Reading index.X7_v4_2018_2019\")\n",
    "    results = query_job.result().to_dataframe()\n",
    "    print('Compiled the dataframe')\n",
    "    df_lines = len(results.index)\n",
    "    print('Processed {0} lines'.format(df_lines))\n",
    "    return results"
   ]
  },
  {
   "cell_type": "code",
   "execution_count": 12,
   "metadata": {},
   "outputs": [
    {
     "name": "stdout",
     "output_type": "stream",
     "text": [
      "Reading index.X7_v4_2018_2019\n",
      "Compiled the dataframe\n",
      "Processed 4650 lines\n"
     ]
    },
    {
     "data": {
      "text/html": [
       "<div>\n",
       "<style scoped>\n",
       "    .dataframe tbody tr th:only-of-type {\n",
       "        vertical-align: middle;\n",
       "    }\n",
       "\n",
       "    .dataframe tbody tr th {\n",
       "        vertical-align: top;\n",
       "    }\n",
       "\n",
       "    .dataframe thead th {\n",
       "        text-align: right;\n",
       "    }\n",
       "</style>\n",
       "<table border=\"1\" class=\"dataframe\">\n",
       "  <thead>\n",
       "    <tr style=\"text-align: right;\">\n",
       "      <th></th>\n",
       "      <th>region_pair</th>\n",
       "      <th>first_flight_date</th>\n",
       "      <th>iata_index</th>\n",
       "      <th>skytra_index</th>\n",
       "      <th>iata_rpk</th>\n",
       "      <th>skytra_rpk</th>\n",
       "      <th>iata_tickets</th>\n",
       "      <th>skytra_tickets</th>\n",
       "      <th>skytra_coverage</th>\n",
       "    </tr>\n",
       "  </thead>\n",
       "  <tbody>\n",
       "    <tr>\n",
       "      <th>0</th>\n",
       "      <td>Asia/Pacific-Asia/Pacific</td>\n",
       "      <td>2017-11-20</td>\n",
       "      <td>0.084904</td>\n",
       "      <td>0.180503</td>\n",
       "      <td>1.426914e+09</td>\n",
       "      <td>1.022286e+09</td>\n",
       "      <td>755675</td>\n",
       "      <td>524994</td>\n",
       "      <td>69.473517</td>\n",
       "    </tr>\n",
       "    <tr>\n",
       "      <th>1</th>\n",
       "      <td>Asia/Pacific-Asia/Pacific</td>\n",
       "      <td>2017-11-21</td>\n",
       "      <td>0.080982</td>\n",
       "      <td>0.174716</td>\n",
       "      <td>1.228978e+09</td>\n",
       "      <td>8.841162e+08</td>\n",
       "      <td>635151</td>\n",
       "      <td>443030</td>\n",
       "      <td>69.751917</td>\n",
       "    </tr>\n",
       "    <tr>\n",
       "      <th>2</th>\n",
       "      <td>Asia/Pacific-Asia/Pacific</td>\n",
       "      <td>2017-11-22</td>\n",
       "      <td>0.083657</td>\n",
       "      <td>0.177700</td>\n",
       "      <td>1.201197e+09</td>\n",
       "      <td>8.612813e+08</td>\n",
       "      <td>606920</td>\n",
       "      <td>418892</td>\n",
       "      <td>69.019311</td>\n",
       "    </tr>\n",
       "    <tr>\n",
       "      <th>3</th>\n",
       "      <td>Asia/Pacific-Asia/Pacific</td>\n",
       "      <td>2017-11-23</td>\n",
       "      <td>0.083663</td>\n",
       "      <td>0.179683</td>\n",
       "      <td>1.211926e+09</td>\n",
       "      <td>8.701816e+08</td>\n",
       "      <td>631782</td>\n",
       "      <td>439731</td>\n",
       "      <td>69.601698</td>\n",
       "    </tr>\n",
       "    <tr>\n",
       "      <th>4</th>\n",
       "      <td>Asia/Pacific-Asia/Pacific</td>\n",
       "      <td>2017-11-24</td>\n",
       "      <td>0.084900</td>\n",
       "      <td>0.175863</td>\n",
       "      <td>1.228781e+09</td>\n",
       "      <td>8.754931e+08</td>\n",
       "      <td>681241</td>\n",
       "      <td>475626</td>\n",
       "      <td>69.817583</td>\n",
       "    </tr>\n",
       "  </tbody>\n",
       "</table>\n",
       "</div>"
      ],
      "text/plain": [
       "                 region_pair first_flight_date  iata_index  skytra_index  \\\n",
       "0  Asia/Pacific-Asia/Pacific        2017-11-20    0.084904      0.180503   \n",
       "1  Asia/Pacific-Asia/Pacific        2017-11-21    0.080982      0.174716   \n",
       "2  Asia/Pacific-Asia/Pacific        2017-11-22    0.083657      0.177700   \n",
       "3  Asia/Pacific-Asia/Pacific        2017-11-23    0.083663      0.179683   \n",
       "4  Asia/Pacific-Asia/Pacific        2017-11-24    0.084900      0.175863   \n",
       "\n",
       "       iata_rpk    skytra_rpk  iata_tickets  skytra_tickets  skytra_coverage  \n",
       "0  1.426914e+09  1.022286e+09        755675          524994        69.473517  \n",
       "1  1.228978e+09  8.841162e+08        635151          443030        69.751917  \n",
       "2  1.201197e+09  8.612813e+08        606920          418892        69.019311  \n",
       "3  1.211926e+09  8.701816e+08        631782          439731        69.601698  \n",
       "4  1.228781e+09  8.754931e+08        681241          475626        69.817583  "
      ]
     },
     "execution_count": 12,
     "metadata": {},
     "output_type": "execute_result"
    }
   ],
   "source": [
    "# The main v4 Skytra index\n",
    "skytra_df=skytra_index_table()\n",
    "skytra_df.head()"
   ]
  },
  {
   "cell_type": "code",
   "execution_count": 13,
   "metadata": {},
   "outputs": [],
   "source": [
    "# Filtering for the days in 2018 & 2019\n",
    "skytra_df['first_flight_date'] = pd.to_datetime(skytra_df['first_flight_date'])\n",
    "# Creating a pivot table of the Skytra index based on the region pair\n",
    "skytra_index_df=pd.pivot_table(skytra_df, index='first_flight_date', values='skytra_index', columns='region_pair')\n",
    "skytra_index_df=skytra_index_df.loc[datetime.date(2018,1,1):datetime.date(2019,12,31), :]"
   ]
  },
  {
   "cell_type": "code",
   "execution_count": 14,
   "metadata": {},
   "outputs": [],
   "source": [
    "# Creating a pivot table of the IATA index based on the region pair\n",
    "skytra_iata_index_df=pd.pivot_table(skytra_df, index='first_flight_date', values='iata_index', columns='region_pair')\n",
    "skytra_iata_index_df=skytra_iata_index_df.loc[datetime.date(2018,1,1):datetime.date(2019,12,31), :]"
   ]
  },
  {
   "cell_type": "code",
   "execution_count": 17,
   "metadata": {},
   "outputs": [
    {
     "name": "stdout",
     "output_type": "stream",
     "text": [
      "Calibrating the linear regression model for Asia/Pacific-Asia/Pacific\n",
      "Calibrating the linear regression model for Asia/Pacific-Europe\n",
      "Calibrating the linear regression model for Asia/Pacific-North America\n",
      "Calibrating the linear regression model for Europe-Europe\n",
      "Calibrating the linear regression model for Europe-North America\n",
      "Calibrating the linear regression model for North America-North America\n"
     ]
    }
   ],
   "source": [
    "# Setting up and calibrating the linear regression model\n",
    "lin_reg_params_df=pd.DataFrame(index=['slope', 'intercept'], columns=sorted(region_dict.values()))\n",
    "\n",
    "for region in sorted(region_dict.values()):\n",
    "    \n",
    "    print('Calibrating the linear regression model for {0}'.format(region))\n",
    "    x_data=skytra_iata_index_df[[region]]\n",
    "    y_data=skytra_index_df[region]\n",
    "    \n",
    "    # the lin reg model calibration\n",
    "    clf = linear_model.LinearRegression()\n",
    "    clf.fit(x_data, y_data)\n",
    "    \n",
    "    lin_reg_params_df.loc['slope', region]=clf.coef_[0]\n",
    "    lin_reg_params_df.loc['intercept', region]=clf.intercept_"
   ]
  },
  {
   "cell_type": "code",
   "execution_count": 18,
   "metadata": {},
   "outputs": [
    {
     "data": {
      "text/html": [
       "<div>\n",
       "<style scoped>\n",
       "    .dataframe tbody tr th:only-of-type {\n",
       "        vertical-align: middle;\n",
       "    }\n",
       "\n",
       "    .dataframe tbody tr th {\n",
       "        vertical-align: top;\n",
       "    }\n",
       "\n",
       "    .dataframe thead th {\n",
       "        text-align: right;\n",
       "    }\n",
       "</style>\n",
       "<table border=\"1\" class=\"dataframe\">\n",
       "  <thead>\n",
       "    <tr style=\"text-align: right;\">\n",
       "      <th></th>\n",
       "      <th>Asia/Pacific-Asia/Pacific</th>\n",
       "      <th>Asia/Pacific-Europe</th>\n",
       "      <th>Asia/Pacific-North America</th>\n",
       "      <th>Europe-Europe</th>\n",
       "      <th>Europe-North America</th>\n",
       "      <th>North America-North America</th>\n",
       "    </tr>\n",
       "  </thead>\n",
       "  <tbody>\n",
       "    <tr>\n",
       "      <th>slope</th>\n",
       "      <td>2.11645</td>\n",
       "      <td>1.79586</td>\n",
       "      <td>1.58533</td>\n",
       "      <td>1.08271</td>\n",
       "      <td>1.55406</td>\n",
       "      <td>1.25687</td>\n",
       "    </tr>\n",
       "    <tr>\n",
       "      <th>intercept</th>\n",
       "      <td>-0.0228907</td>\n",
       "      <td>0.0270886</td>\n",
       "      <td>0.0225095</td>\n",
       "      <td>0.0767634</td>\n",
       "      <td>0.058651</td>\n",
       "      <td>0.0169509</td>\n",
       "    </tr>\n",
       "  </tbody>\n",
       "</table>\n",
       "</div>"
      ],
      "text/plain": [
       "          Asia/Pacific-Asia/Pacific Asia/Pacific-Europe  \\\n",
       "slope                       2.11645             1.79586   \n",
       "intercept                -0.0228907           0.0270886   \n",
       "\n",
       "          Asia/Pacific-North America Europe-Europe Europe-North America  \\\n",
       "slope                        1.58533       1.08271              1.55406   \n",
       "intercept                  0.0225095     0.0767634             0.058651   \n",
       "\n",
       "          North America-North America  \n",
       "slope                         1.25687  \n",
       "intercept                   0.0169509  "
      ]
     },
     "execution_count": 18,
     "metadata": {},
     "output_type": "execute_result"
    }
   ],
   "source": [
    "lin_reg_params_df.head()"
   ]
  },
  {
   "cell_type": "markdown",
   "metadata": {},
   "source": [
    "# Master content"
   ]
  },
  {
   "cell_type": "markdown",
   "metadata": {},
   "source": [
    "# Customisation"
   ]
  },
  {
   "cell_type": "markdown",
   "metadata": {},
   "source": [
    "# Other considerations"
   ]
  }
 ],
 "metadata": {
  "kernelspec": {
   "display_name": "Python 3",
   "language": "python",
   "name": "python3"
  },
  "language_info": {
   "codemirror_mode": {
    "name": "ipython",
    "version": 3
   },
   "file_extension": ".py",
   "mimetype": "text/x-python",
   "name": "python",
   "nbconvert_exporter": "python",
   "pygments_lexer": "ipython3",
   "version": "3.7.4"
  }
 },
 "nbformat": 4,
 "nbformat_minor": 2
}
