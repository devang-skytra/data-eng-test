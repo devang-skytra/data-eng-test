{
 "cells": [
  {
   "cell_type": "markdown",
   "metadata": {},
   "source": [
    "<b> \n",
    "Takes existing BQ PROC TEMPLATE and inserts SQL from [referenced external files defined by \"Analysts\"] while replacing placeholders with PROC PARAMETERS AND VARIABLES:\n",
    "\n",
    "    ...\n",
    "    \n"
   ]
  },
  {
   "cell_type": "code",
   "execution_count": 32,
   "metadata": {},
   "outputs": [],
   "source": [
    "import sys\n",
    "import os\n",
    "\n",
    "# load up a cutdown version of Paul's FileOps class from dep subfolder\n",
    "if 'Documents\\ipynb\\dep' not in os.getcwd():\n",
    "    os.chdir('dep')\n",
    "\n",
    "from FileOps import fs\n",
    "\n",
    "bqfp = os.path.join('C:','\\git', 'index2', 'bq', 'r', 'sp')\n",
    "bqfpStash = os.path.join('C:','\\git', 'gitMyStash', 'af', 'dags', 'sq')"
   ]
  },
  {
   "cell_type": "code",
   "execution_count": 33,
   "metadata": {},
   "outputs": [],
   "source": [
    "#X3\n",
    "#tpl = 'iata_2019.sp_process_X3_TEMPLATE.sql'\n",
    "#sqy = 'X3.sql'"
   ]
  },
  {
   "cell_type": "code",
   "execution_count": 34,
   "metadata": {},
   "outputs": [],
   "source": [
    "#I1\n",
    "#tpl = 'iata.sp_process_I1_TEMPLATE.sql'\n",
    "#sqy = 'I1_2019.sql'"
   ]
  },
  {
   "cell_type": "code",
   "execution_count": 35,
   "metadata": {},
   "outputs": [],
   "source": [
    "#I2\n",
    "tpl = 'iata.sp_process_I2_TEMPLATE.sql'\n",
    "sqy = 'I2_2019.sql'"
   ]
  },
  {
   "cell_type": "code",
   "execution_count": 267,
   "metadata": {},
   "outputs": [],
   "source": [
    "#I3\n",
    "#tpl = 'iata.sp_process_I3_TEMPLATE.sql'\n",
    "#sqy = 'I3_2019.sql'"
   ]
  },
  {
   "cell_type": "code",
   "execution_count": 268,
   "metadata": {},
   "outputs": [],
   "source": [
    "#X6\n",
    "#tpl = 'matching.sp_process_X6_TEMPLATE.sql'\n",
    "#sqy = 'X6_2019.sql'"
   ]
  },
  {
   "cell_type": "code",
   "execution_count": 269,
   "metadata": {},
   "outputs": [],
   "source": [
    "#X7\n",
    "#tpl = 'index.sp_process_X7_TEMPLATE.sql'\n",
    "#sqy = 'X7_2019.sql'"
   ]
  },
  {
   "cell_type": "code",
   "execution_count": 36,
   "metadata": {},
   "outputs": [],
   "source": [
    "spfp = os.path.join(bqfp, tpl)\n",
    "\n",
    "#We use gitMyStash for Others code to avoid accidentally commiting Others code in our branch\n",
    "qyfp = os.path.join(bqfpStash, sqy)\n",
    "\n",
    "# recently changed spOut to goto gitStash so can WinCompare output with index2 first\n",
    "spOut= os.path.join(bqfpStash, tpl).replace('_TEMPLATE','')\n",
    "\n",
    "# first we open the sp Template\n",
    "spt = fs()\n",
    "spStr = spt.getLinesFromFile(spfp)"
   ]
  },
  {
   "cell_type": "code",
   "execution_count": 37,
   "metadata": {},
   "outputs": [],
   "source": [
    "spLineList = spStr.split('\\n')"
   ]
  },
  {
   "cell_type": "code",
   "execution_count": 38,
   "metadata": {},
   "outputs": [],
   "source": [
    "# loop through lines until hit \n",
    "#   [MAIN and then split that line into it's components and record listIndex\n",
    "#   [--%%INSERT%%] and record listIndex\n",
    "for i, s in enumerate(spLineList):\n",
    "    if '[MAIN' in s:\n",
    "        aMain = s.strip()[1:-1].split(' | ')\n",
    "        iMain = i\n",
    "    elif '[--%%INSERT%%]' in s:\n",
    "        iInsert = i"
   ]
  },
  {
   "cell_type": "code",
   "execution_count": 39,
   "metadata": {},
   "outputs": [],
   "source": [
    "# open the pipeline.SQL specified in '[MAIN' placeholder in sp Template\n",
    "qyt = fs()\n",
    "qyStr= qyt.getLinesFromFile(qyfp) #aMain[1])"
   ]
  },
  {
   "cell_type": "code",
   "execution_count": 40,
   "metadata": {},
   "outputs": [],
   "source": [
    "# loop through the replace placeholders defined inside '[MAIN'\n",
    "for j in aMain[2:]:\n",
    "    aPair = j.split(',')\n",
    "    qyStr = qyStr.replace(aPair[0],aPair[1])"
   ]
  },
  {
   "cell_type": "code",
   "execution_count": 41,
   "metadata": {},
   "outputs": [],
   "source": [
    "#  split by ), and REPLACE \n",
    "#    FIRST line [1,-X] with CREATE TEMP TABLE\n",
    "#    LAST  line , with ;\n",
    "qyStatementList = qyStr.replace('\\n),\\n','\\n);\\n|||').split('|||')\n",
    "\n",
    "qyListNew = []\n",
    "qyListNew.append(qyStatementList[0].replace('WITH','CREATE OR REPLACE TEMP TABLE') + '\\n\\n')\n",
    "\n",
    "for i2, s2 in enumerate(qyStatementList[1:]):\n",
    "    qyListNew.append('CREATE TEMP TABLE ' + s2.lstrip() + '\\n\\n')"
   ]
  },
  {
   "cell_type": "code",
   "execution_count": 42,
   "metadata": {},
   "outputs": [],
   "source": [
    "# when using \"named subqueries\" ( WITH AS () ) the last subquery does not have a ',' so was not split...\n",
    "#  ...so further split qyListNew[-1] by --%%INSERT%% to split the last subquery from the last SELECT used to INSERT\n",
    "qyStrLast2 = qyListNew[-1].split('--%%INSERT%%')"
   ]
  },
  {
   "cell_type": "code",
   "execution_count": 43,
   "metadata": {},
   "outputs": [],
   "source": [
    "#Now that we have treated and split Last2 SQL Statements, need to delete/pop the pre-split and replace with splits\n",
    "qyListNew.pop()\n",
    "qyListNew.append(qyStrLast2[0].rstrip() + ';\\n')\n",
    "qyListNew.append(qyStrLast2[1].strip() + ';')"
   ]
  },
  {
   "cell_type": "code",
   "execution_count": 44,
   "metadata": {},
   "outputs": [],
   "source": [
    "# rejoin our fixed pipeline.SQL\n",
    "sNew = ''.join(qyListNew[:-1])"
   ]
  },
  {
   "cell_type": "code",
   "execution_count": 279,
   "metadata": {},
   "outputs": [],
   "source": [
    "#qyListNew[-2]\n",
    "#This last query can lose ); at end when doco between last 2 statements  eg. \\n)\\n\\n-- Main query...\n",
    "#If consistent pattern can dealt with it here but for now handle manually"
   ]
  },
  {
   "cell_type": "code",
   "execution_count": 45,
   "metadata": {},
   "outputs": [],
   "source": [
    "# insert non-INSERT and INSERT sections of pipeline.SQL into our sp\n",
    "spLineList[iMain] = sNew\n",
    "spLineList[iInsert] = qyListNew[-1]"
   ]
  },
  {
   "cell_type": "code",
   "execution_count": 46,
   "metadata": {},
   "outputs": [
    {
     "data": {
      "text/plain": [
       "4100"
      ]
     },
     "execution_count": 46,
     "metadata": {},
     "output_type": "execute_result"
    }
   ],
   "source": [
    "# our new proc is ready as a string so write it!\n",
    "spNew = '\\n'.join(spLineList)\n",
    "open(spOut, 'w').write(spNew)"
   ]
  }
 ],
 "metadata": {
  "kernelspec": {
   "display_name": "Python 3",
   "language": "python",
   "name": "python3"
  },
  "language_info": {
   "codemirror_mode": {
    "name": "ipython",
    "version": 3
   },
   "file_extension": ".py",
   "mimetype": "text/x-python",
   "name": "python",
   "nbconvert_exporter": "python",
   "pygments_lexer": "ipython3",
   "version": "3.7.4"
  }
 },
 "nbformat": 4,
 "nbformat_minor": 2
}
