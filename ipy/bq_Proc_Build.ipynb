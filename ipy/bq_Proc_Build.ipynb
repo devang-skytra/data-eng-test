{
 "cells": [
  {
   "cell_type": "code",
   "execution_count": 4,
   "metadata": {},
   "outputs": [],
   "source": [
    "import yaml\n",
    "\n",
    "ymlFullPath = './bq_Proc_Build.yml'\n",
    "\n",
    "with open(ymlFullPath, 'r') as ymlfile:\n",
    "    y = yaml.load(ymlfile, Loader=yaml.FullLoader)\n",
    "    \n",
    "lACTIVE_SECTIONS = y['ACTIVE_SECTIONS']"
   ]
  },
  {
   "cell_type": "code",
   "execution_count": 6,
   "metadata": {},
   "outputs": [
    {
     "name": "stdout",
     "output_type": "stream",
     "text": [
      "blank\n",
      "data/2019/01/01/01/*.gz.parquet\n",
      "data/2019/01/{}/*.gz.parquet\n"
     ]
    }
   ],
   "source": [
    "#ACTIVE_SECTION = y['ACTIVE_SECTION']\n",
    "section = 'kiwi_2019_test_2d'\n",
    "\n",
    "for section in lACTIVE_SECTIONS:\n",
    "\n",
    "    MODE = y[section]['MODE']\n",
    "    TableSuffix = y[section]['TableSuffix']\n",
    "    batchYear = y[section]['batchYear']\n",
    "    minMonth = y[section]['minMonth']\n",
    "    maxMonth = y[section]['maxMonth']\t# make minMonth and maxMonth same to run one month at a time\n",
    "    minDay = y[section]['minDay']\n",
    "    maxDay = y[section]['maxDay']\t    # make minDay and maxDay same to run one day at a time\n",
    "    sourceBucket = y[section]['sourceBucket']\n",
    "    sourceObjects = y[section]['sourceObjects']\n",
    "    \n",
    "    print(sourceObjects)"
   ]
  }
 ],
 "metadata": {
  "kernelspec": {
   "display_name": "Python 3",
   "language": "python",
   "name": "python3"
  },
  "language_info": {
   "codemirror_mode": {
    "name": "ipython",
    "version": 3
   },
   "file_extension": ".py",
   "mimetype": "text/x-python",
   "name": "python",
   "nbconvert_exporter": "python",
   "pygments_lexer": "ipython3",
   "version": "3.7.4"
  }
 },
 "nbformat": 4,
 "nbformat_minor": 2
}
