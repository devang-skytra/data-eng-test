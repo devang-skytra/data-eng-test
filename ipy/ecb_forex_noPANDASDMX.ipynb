{
 "cells": [
  {
   "cell_type": "code",
   "execution_count": 20,
   "metadata": {},
   "outputs": [],
   "source": [
    "# https://www.datacareer.de/blog/accessing-ecb-exchange-rate-data-in-python/\n",
    "# https://sdw-wsrest.ecb.europa.eu/help/\n",
    "\n",
    "# airflow https://blog.freetrade.io/how-we-simplified-our-data-pipeline-54f377fad3c\n",
    "\n",
    "# existing pandas based airflow C:\\git\\index2\\af\\dags\\py\\load_fx_prices.py\n",
    "# existing non-pandas version   C:\\gAirbusLaptopBak\\AUDBackup\\CustomFolders\\git\\index2Stash\\gcf\\__Need Folders for These\\fxrates-get.py"
   ]
  },
  {
   "cell_type": "code",
   "execution_count": 21,
   "metadata": {},
   "outputs": [],
   "source": [
    "import requests     # 2.18.4\n",
    "from datetime import datetime"
   ]
  },
  {
   "cell_type": "code",
   "execution_count": 22,
   "metadata": {},
   "outputs": [],
   "source": [
    "b = 'C:\\\\Users\\\\PaulDesmond\\\\OneDrive - SKYTRA LIMITED\\\\Automation\\\\ipy\\\\data\\\\'\n",
    "f = 'to_data.csv'\n",
    "\n",
    "dte_as_str = '2020-08-10'\n",
    "\n",
    "# b = 'gs://pd-fxrates'\n",
    "# f = '/to/data.csv'"
   ]
  },
  {
   "cell_type": "code",
   "execution_count": 23,
   "metadata": {},
   "outputs": [],
   "source": [
    "# open for read here so we can set row_write to previous line straight away if necessary\n",
    "\n",
    "# with open( os.join('data','to_data.csv')) as fin:\n",
    "with open(b + f) as fin:    \n",
    "    csv = fin.read()"
   ]
  },
  {
   "cell_type": "code",
   "execution_count": 24,
   "metadata": {},
   "outputs": [
    {
     "name": "stdout",
     "output_type": "stream",
     "text": [
      "19/07/2020,1.1428,1.1428\n",
      "20/07/2020,1.1448,1.1448\n",
      "21/07/2020,1.1443,1.1443\n",
      "22/07/2020,1.1578,1.1578\n",
      "\n"
     ]
    }
   ],
   "source": [
    "print( csv[-100:] )"
   ]
  },
  {
   "cell_type": "code",
   "execution_count": 25,
   "metadata": {},
   "outputs": [],
   "source": [
    "#*********************\n",
    "# ECB\n",
    "#*********************"
   ]
  },
  {
   "cell_type": "code",
   "execution_count": 26,
   "metadata": {},
   "outputs": [],
   "source": [
    "entrypoint = 'https://sdw-wsrest.ecb.europa.eu/service/' # Using protocol 'https'\n",
    "resource = 'data'           # The resource for data queries is always'data'\n",
    "flowRef ='EXR'              # Dataflow describing the data that needs to be returned, exchange rates in this case\n",
    "key = 'D.USD.EUR.SP00.A'    # Defining the dimension values, explained below\n",
    "\n",
    "parameters = {\n",
    "    'startPeriod': dte_as_str,  \n",
    "    'endPeriod':   dte_as_str   \n",
    "}"
   ]
  },
  {
   "cell_type": "code",
   "execution_count": 27,
   "metadata": {},
   "outputs": [],
   "source": [
    "# Construct the URL: https://sdw-wsrest.ecb.europa.eu/service/data/EXR/D.USD.EUR.SP00.A\n",
    "request_url = entrypoint + resource + '/'+ flowRef + '/' + key\n",
    "response = requests.get(request_url, params=parameters, headers={'Accept': 'text/csv'})"
   ]
  },
  {
   "cell_type": "code",
   "execution_count": 40,
   "metadata": {},
   "outputs": [
    {
     "name": "stdout",
     "output_type": "stream",
     "text": [
      "http://www.bankofengland.co.uk/boeapps/iadb/fromshowcolumns.asp?csv.x=yes&Datefrom=10%2FAug%2F2020&Dateto=10%2FAug%2F2020&SeriesCodes=XUDLERD&CSVF=TN&UsingCodes=Y&VPD=Y&VFD=N\n",
      "14\n"
     ]
    }
   ],
   "source": [
    "# print(response)\n",
    "print(response.url)\n",
    "print(len(response.text))"
   ]
  },
  {
   "cell_type": "code",
   "execution_count": 30,
   "metadata": {},
   "outputs": [],
   "source": [
    "idx_dte = 6\n",
    "idx_val = 7\n",
    "\n",
    "if len(response.text) == 0:\n",
    "    #then assume weekend or holiday and we need to use PREVIOUS value from 'csv'\n",
    "    dte_str = datetime.datetime.strptime(dte, '%Y-%m-%d').strftime('%d/%m/%Y')\n",
    "    row_write = ''.join( csv.split('\\n')[-2:] ) + '\\n'\n",
    "    row_write = dte_str + row_write[10:]\n",
    "else:\n",
    "    lin_split = response.text.split('\\n')\n",
    "    row_split = lin_split[1].split(',')\n",
    "    \n",
    "    # format date from yyyy-mm-dd to dd/mm/yyyy only because how csv originally done\n",
    "    dte_str = datetime.strptime(row_split[idx_dte], '%Y-%m-%d').strftime('%d/%m/%Y')\n",
    "    val_str = row_split[idx_val]\n",
    "    \n",
    "    # continues for next 2 cells which we split for debugging"
   ]
  },
  {
   "cell_type": "code",
   "execution_count": 39,
   "metadata": {},
   "outputs": [
    {
     "name": "stdout",
     "output_type": "stream",
     "text": [
      "['']\n",
      "1.1763\n"
     ]
    }
   ],
   "source": [
    "#*********************\n",
    "# BOE\n",
    "#*********************\n",
    "\n",
    "# dte_as_str = '2020-08-10'\n",
    "\n",
    "dte_boe = datetime.strptime(dte_as_str, '%Y-%m-%d').strftime('%d/%b/%Y')\n",
    "\n",
    "url_endpoint = 'http://www.bankofengland.co.uk/boeapps/iadb/fromshowcolumns.asp?csv.x=yes'\n",
    "payload = {\n",
    "    'Datefrom'   : dte_boe,\n",
    "    'Dateto'     : dte_boe,\n",
    "    'SeriesCodes': 'XUDLERD',\n",
    "    'CSVF'       : 'TN',\n",
    "    'UsingCodes' : 'Y',\n",
    "    'VPD'        : 'Y',\n",
    "    'VFD'        : 'N'\n",
    "}\n",
    "response_boe = requests.get(url_endpoint, params=payload)\n",
    "\n",
    "\"\"\"\n",
    "print(response_boe.url)\n",
    "print(response_boe.status_code)\n",
    "print(type(response_boe.content))\n",
    "print(len(response_boe.content))\n",
    "print(response_boe.content.decode())\n",
    "\"\"\"\n",
    "# END BOE rate request\n",
    "\n",
    "# make BOE section more robust than orig in case some decimal place change surprise\n",
    "#   orig -  val_str_boe = response.content[-8:-2].decode()\n",
    "# response.content sample -  b'DATE,XUDLERD\\r\\n06 Aug 2020,0.8439\\r\\n'\n",
    "# list_split1 sample -  ['DATE,XUDLERD', '06 Aug 2020,0.8439', '']\n",
    "list_split1 = response_boe.content.decode().split('\\r\\n') \n",
    "val_str_boe = list_split1[1].split(',')\n",
    "print(val_str_boe)\n",
    "if len(val_str_boe) == 1:\n",
    "    boe_str = val_str\n",
    "else:\n",
    "    # val_str_boe = list_split1[1].split(',')[1]\n",
    "    boe_float = round(1 / float(val_str_boe[1]), 4)\n",
    "    boe_str = str(boe_float)\n",
    "# END BOE rate transform\n",
    "\n",
    "print(boe_str)"
   ]
  },
  {
   "cell_type": "code",
   "execution_count": 1,
   "metadata": {},
   "outputs": [],
   "source": [
    "import requests     # 2.18.4\n",
    "from datetime import datetime"
   ]
  },
  {
   "cell_type": "code",
   "execution_count": 2,
   "metadata": {},
   "outputs": [
    {
     "name": "stdout",
     "output_type": "stream",
     "text": [
      "http://www.bankofengland.co.uk/boeapps/iadb/fromshowcolumns.asp?csv.x=yes&Datefrom=24%2FAug%2F2020&Dateto=24%2FAug%2F2020&SeriesCodes=XUDLERD&CSVF=TN&UsingCodes=Y&VPD=Y&VFD=N\n",
      "500\n",
      "<class 'bytes'>\n",
      "0\n",
      "\n"
     ]
    }
   ],
   "source": [
    "\n",
    "\n",
    "#*********************\n",
    "# BOE\n",
    "#*********************\n",
    "\n",
    "dte_as_str = '2020-08-24'\n",
    "\n",
    "dte_boe = datetime.strptime(dte_as_str, '%Y-%m-%d').strftime('%d/%b/%Y')\n",
    "\n",
    "url_endpoint = 'http://www.bankofengland.co.uk/boeapps/iadb/fromshowcolumns.asp?csv.x=yes'\n",
    "payload = {\n",
    "    'Datefrom'   : dte_boe,\n",
    "    'Dateto'     : dte_boe,\n",
    "    'SeriesCodes': 'XUDLERD',\n",
    "    'CSVF'       : 'TN',\n",
    "    'UsingCodes' : 'Y',\n",
    "    'VPD'        : 'Y',\n",
    "    'VFD'        : 'N'\n",
    "}\n",
    "response_boe = requests.get(url_endpoint, params=payload)\n",
    "\n",
    "\n",
    "print(response_boe.url)\n",
    "print(response_boe.status_code)\n",
    "print(type(response_boe.content))\n",
    "print(len(response_boe.content))\n",
    "print(response_boe.content.decode())\n"
   ]
  },
  {
   "cell_type": "code",
   "execution_count": null,
   "metadata": {},
   "outputs": [],
   "source": []
  },
  {
   "cell_type": "code",
   "execution_count": 38,
   "metadata": {},
   "outputs": [
    {
     "name": "stdout",
     "output_type": "stream",
     "text": [
      "['DATE,XUDLERD', '']\n",
      "['']\n"
     ]
    }
   ],
   "source": [
    "print(list_split1)\n",
    "val_str_boe = list_split1[1].split(',')\n",
    "print(val_str_boe)"
   ]
  },
  {
   "cell_type": "code",
   "execution_count": 32,
   "metadata": {},
   "outputs": [],
   "source": [
    "row_write = ','.join([dte_str, val_str, boe_str]) + '\\n'"
   ]
  },
  {
   "cell_type": "code",
   "execution_count": 33,
   "metadata": {},
   "outputs": [],
   "source": [
    "with open( b + f, 'w') as fout:\n",
    "    fout.write(csv + row_write)"
   ]
  },
  {
   "cell_type": "code",
   "execution_count": 34,
   "metadata": {},
   "outputs": [
    {
     "name": "stdout",
     "output_type": "stream",
     "text": [
      "19/07/2020,1.1428,1.1428\n",
      "20/07/2020,1.1448,1.1448\n",
      "21/07/2020,1.1443,1.1443\n",
      "22/07/2020,1.1578,1.1578\n",
      "10/08/2020,1.1763,1.1763\n",
      "\n"
     ]
    }
   ],
   "source": [
    "# print(csv[-200:])\n",
    "print( (csv + row_write)[-125:] )"
   ]
  }
 ],
 "metadata": {
  "kernelspec": {
   "display_name": "Python 3",
   "language": "python",
   "name": "python3"
  },
  "language_info": {
   "codemirror_mode": {
    "name": "ipython",
    "version": 3
   },
   "file_extension": ".py",
   "mimetype": "text/x-python",
   "name": "python",
   "nbconvert_exporter": "python",
   "pygments_lexer": "ipython3",
   "version": "3.7.6"
  }
 },
 "nbformat": 4,
 "nbformat_minor": 4
}
