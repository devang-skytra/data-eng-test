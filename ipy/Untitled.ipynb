{
 "cells": [
  {
   "cell_type": "code",
   "execution_count": 9,
   "metadata": {},
   "outputs": [
    {
     "data": {
      "text/plain": [
       "'C:\\\\Users\\\\pdesmond\\\\*.ipynb'"
      ]
     },
     "execution_count": 9,
     "metadata": {},
     "output_type": "execute_result"
    }
   ],
   "source": [
    "import os"
   ]
  },
  {
   "cell_type": "code",
   "execution_count": null,
   "metadata": {},
   "outputs": [],
   "source": [
    "cd = %pwd\n",
    "src = os.path.join(cd, '*.ipynb')\n",
    "dst = 'H:\\git\\index_NoGit\\ipy'"
   ]
  },
  {
   "cell_type": "code",
   "execution_count": null,
   "metadata": {},
   "outputs": [],
   "source": [
    "from shutil import copyfile\n",
    "copyfile(src, dst)\n"
   ]
  },
  {
   "cell_type": "code",
   "execution_count": 4,
   "metadata": {},
   "outputs": [
    {
     "ename": "KeyError",
     "evalue": "'src'",
     "output_type": "error",
     "traceback": [
      "\u001b[1;31m---------------------------------------------------------------------------\u001b[0m",
      "\u001b[1;31mKeyError\u001b[0m                                  Traceback (most recent call last)",
      "\u001b[1;32m<ipython-input-4-26b236e16543>\u001b[0m in \u001b[0;36m<module>\u001b[1;34m\u001b[0m\n\u001b[0;32m      1\u001b[0m \u001b[0msrcBucket\u001b[0m \u001b[1;33m=\u001b[0m \u001b[1;34m'-uat-'\u001b[0m\u001b[1;33m\u001b[0m\u001b[1;33m\u001b[0m\u001b[0m\n\u001b[0;32m      2\u001b[0m \u001b[0msrc\u001b[0m \u001b[1;33m=\u001b[0m \u001b[1;34m'log.proc_load'\u001b[0m\u001b[1;33m\u001b[0m\u001b[1;33m\u001b[0m\u001b[0m\n\u001b[1;32m----> 3\u001b[1;33m \u001b[0mdest\u001b[0m \u001b[1;33m=\u001b[0m \u001b[1;34m'gs://bq-generic{}/{src}'\u001b[0m\u001b[1;33m.\u001b[0m\u001b[0mformat\u001b[0m\u001b[1;33m(\u001b[0m\u001b[0msrcBucket\u001b[0m\u001b[1;33m[\u001b[0m\u001b[1;33m:\u001b[0m\u001b[1;36m4\u001b[0m\u001b[1;33m]\u001b[0m\u001b[1;33m,\u001b[0m \u001b[0msrc\u001b[0m\u001b[1;33m)\u001b[0m \u001b[1;31m# + 'json.gz'\u001b[0m\u001b[1;33m\u001b[0m\u001b[1;33m\u001b[0m\u001b[0m\n\u001b[0m\u001b[0;32m      4\u001b[0m \u001b[0mprint\u001b[0m\u001b[1;33m(\u001b[0m\u001b[0mdest\u001b[0m\u001b[1;33m)\u001b[0m\u001b[1;33m\u001b[0m\u001b[1;33m\u001b[0m\u001b[0m\n",
      "\u001b[1;31mKeyError\u001b[0m: 'src'"
     ]
    }
   ],
   "source": [
    "srcBucket = '-uat-'\n",
    "src = 'log.proc_load'\n",
    "dest = 'gs://bq-generic{}/{src}'.format(srcBucket[:4], src) # + 'json.gz'\n",
    "print(dest)"
   ]
  },
  {
   "cell_type": "code",
   "execution_count": 3,
   "metadata": {},
   "outputs": [
    {
     "data": {
      "text/plain": [
       "'gs://bq-generic/xyz.json'"
      ]
     },
     "execution_count": 3,
     "metadata": {},
     "output_type": "execute_result"
    }
   ],
   "source": [
    "'gs://bq-generic/xyz.json.gz'[:-3]"
   ]
  },
  {
   "cell_type": "code",
   "execution_count": 11,
   "metadata": {},
   "outputs": [
    {
     "ename": "IndexError",
     "evalue": "tuple index out of range",
     "output_type": "error",
     "traceback": [
      "\u001b[1;31m---------------------------------------------------------------------------\u001b[0m",
      "\u001b[1;31mIndexError\u001b[0m                                Traceback (most recent call last)",
      "\u001b[1;32m<ipython-input-11-bd53d02fa0b2>\u001b[0m in \u001b[0;36m<module>\u001b[1;34m\u001b[0m\n\u001b[0;32m     17\u001b[0m \u001b[1;31m#dest = 'gs://bq-generic{}/{}'.format(srcBucket[:4], src + 'json.gz')\u001b[0m\u001b[1;33m\u001b[0m\u001b[1;33m\u001b[0m\u001b[1;33m\u001b[0m\u001b[0m\n\u001b[0;32m     18\u001b[0m \u001b[1;31m#dest = 'gs://bq-generic{}/{}'.format('-uat', src + '.json.gz')\u001b[0m\u001b[1;33m\u001b[0m\u001b[1;33m\u001b[0m\u001b[1;33m\u001b[0m\u001b[0m\n\u001b[1;32m---> 19\u001b[1;33m \u001b[0mcmd_expo\u001b[0m \u001b[1;33m=\u001b[0m \u001b[0mexpo_base\u001b[0m\u001b[1;33m.\u001b[0m\u001b[0mformat\u001b[0m\u001b[1;33m(\u001b[0m\u001b[0msrc\u001b[0m\u001b[1;33m,\u001b[0m \u001b[0mdest\u001b[0m\u001b[1;33m)\u001b[0m\u001b[1;33m\u001b[0m\u001b[1;33m\u001b[0m\u001b[0m\n\u001b[0m",
      "\u001b[1;31mIndexError\u001b[0m: tuple index out of range"
     ]
    }
   ],
   "source": [
    "quer_base = \"bq query --project_id={} --use_legacy_sql=false 'SELECT COUNT(*) FROM log.proc_load'\"\n",
    "load_base = 'bq load --project_id={} --replace --source_format=PARQUET kiwi.X2_t \"gs://ext-kiwi-excl{}data/data/y=2020/m=04/d=01/hr=00/part-00000-f2db2561-4c05-40b0-b759-a1e2ac32723a-c000.gz.parquet\"'\n",
    "\n",
    "expo_base = \"bq extract --project_id={} --destination_format NEWLINE_DELIMITED_JSON --compression GZIP {} '{}'\"\n",
    "#--location=EU\n",
    "\n",
    "gcloud_auth = \"gcloud auth activate-service-account cloud-composer@skytra-benchmark-devandtest.iam.gserviceaccount.com --key-file /home/airflow/gcs/data/keys/skytra-benchmark-devandtest-f7495a84e893.json && \"\n",
    "\n",
    "tgtProject = 'skytra-benchmark-uat'\n",
    "srcBucket = '-uat-'\n",
    "##gccProject = models.Variable.get('gccProject')\n",
    "\n",
    "cmd_quer = quer_base.format(tgtProject)\n",
    "cmd_load = load_base.format(tgtProject, srcBucket)\n",
    "\n",
    "src = 'log.proc_load'\n",
    "#dest = 'gs://bq-generic{}/{}'.format(srcBucket[:4], src + 'json.gz')\n",
    "dest = 'gs://bq-generic{}/{}'.format('-uat', src + '.json.gz')\n",
    "cmd_expo = expo_base.format(src, dest)"
   ]
  },
  {
   "cell_type": "code",
   "execution_count": null,
   "metadata": {},
   "outputs": [],
   "source": []
  }
 ],
 "metadata": {
  "kernelspec": {
   "display_name": "Python 3",
   "language": "python",
   "name": "python3"
  },
  "language_info": {
   "codemirror_mode": {
    "name": "ipython",
    "version": 3
   },
   "file_extension": ".py",
   "mimetype": "text/x-python",
   "name": "python",
   "nbconvert_exporter": "python",
   "pygments_lexer": "ipython3",
   "version": "3.7.4"
  }
 },
 "nbformat": 4,
 "nbformat_minor": 2
}
