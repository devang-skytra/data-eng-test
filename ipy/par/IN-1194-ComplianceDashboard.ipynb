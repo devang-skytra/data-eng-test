{
 "cells": [
  {
   "cell_type": "code",
   "execution_count": 182,
   "metadata": {},
   "outputs": [],
   "source": [
    "import datetime\n",
    "import pandas as pd\n",
    "import numpy as np\n",
    "from sklearn import linear_model\n",
    "from google.cloud import bigquery\n"
   ]
  },
  {
   "cell_type": "code",
   "execution_count": 183,
   "metadata": {},
   "outputs": [],
   "source": [
    "# Function that calls SQL code that fetches the IATA tables\n",
    "def load_table(query):\n",
    "    client=bigquery.Client()\n",
    "    query_job=client.query(query)\n",
    "    print(\"Reading table\" )\n",
    "    results = query_job.result().to_dataframe()\n",
    "    print('Compiled the dataframe')\n",
    "    df_lines = len(results.index)\n",
    "    print('Processed {0} lines'.format(df_lines))\n",
    "    return results"
   ]
  },
  {
   "cell_type": "code",
   "execution_count": 184,
   "metadata": {},
   "outputs": [],
   "source": [
    "alert_table_DF = pd.DataFrame()"
   ]
  },
  {
   "cell_type": "code",
   "execution_count": 185,
   "metadata": {},
   "outputs": [],
   "source": [
    "%%bigquery D_flight_capacity_DF\n",
    "SELECT\n",
    "  FLIGHT_DATE,\n",
    "  COUNT(FLIGHT_DATE) AS number_fligt,\n",
    "  SUM(overbooked_flight) AS overbooked,\n",
    "  SUM(low_booking_flight) AS low_booking\n",
    "FROM `compliance_dashboard_IN1194.D_flight_capacity`\n",
    "WHERE FLIGHT_DATE > \"2020-03-08\"\n",
    "  AND FLIGHT_DATE < \"2020-07-01\"\n",
    "  GROUP BY FLIGHT_DATE"
   ]
  },
  {
   "cell_type": "code",
   "execution_count": 186,
   "metadata": {},
   "outputs": [],
   "source": [
    "D_flight_capacity_DF[\"over_ratio\"] = D_flight_capacity_DF[\"overbooked\"]/D_flight_capacity_DF[\"number_fligt\"]\n",
    "D_flight_capacity_DF[\"under_ratio\"] = D_flight_capacity_DF[\"low_booking\"]/D_flight_capacity_DF[\"number_fligt\"]\n",
    "D_flight_capacity_DF[\"FLIGHT_DATE\"] = pd.to_datetime(D_flight_capacity_DF['FLIGHT_DATE'])"
   ]
  },
  {
   "cell_type": "code",
   "execution_count": 187,
   "metadata": {},
   "outputs": [],
   "source": [
    "D_flight_capacity_DF_overbooked = D_flight_capacity_DF[D_flight_capacity_DF[\"over_ratio\"] > 0.02]"
   ]
  },
  {
   "cell_type": "code",
   "execution_count": 188,
   "metadata": {},
   "outputs": [
    {
     "data": {
      "text/html": [
       "<div>\n",
       "<style scoped>\n",
       "    .dataframe tbody tr th:only-of-type {\n",
       "        vertical-align: middle;\n",
       "    }\n",
       "\n",
       "    .dataframe tbody tr th {\n",
       "        vertical-align: top;\n",
       "    }\n",
       "\n",
       "    .dataframe thead th {\n",
       "        text-align: right;\n",
       "    }\n",
       "</style>\n",
       "<table border=\"1\" class=\"dataframe\">\n",
       "  <thead>\n",
       "    <tr style=\"text-align: right;\">\n",
       "      <th></th>\n",
       "      <th>Date</th>\n",
       "      <th>Date_type</th>\n",
       "      <th>Alert</th>\n",
       "      <th>value</th>\n",
       "    </tr>\n",
       "  </thead>\n",
       "  <tbody>\n",
       "  </tbody>\n",
       "</table>\n",
       "</div>"
      ],
      "text/plain": [
       "Empty DataFrame\n",
       "Columns: [Date, Date_type, Alert, value]\n",
       "Index: []"
      ]
     },
     "execution_count": 188,
     "metadata": {},
     "output_type": "execute_result"
    }
   ],
   "source": [
    "alert_table_DF[\"Date\"] = D_flight_capacity_DF_overbooked.FLIGHT_DATE\n",
    "alert_table_DF[\"Date_type\"] = \"Flight Date\"\n",
    "alert_table_DF[\"Alert\"] = \"too many overbooked flights for the day\"\n",
    "alert_table_DF[\"value\"] = D_flight_capacity_DF_overbooked.over_ratio\n",
    "alert_table_DF"
   ]
  },
  {
   "cell_type": "code",
   "execution_count": 189,
   "metadata": {},
   "outputs": [],
   "source": [
    "D_flight_capacity_DF_underbooked = D_flight_capacity_DF[D_flight_capacity_DF[\"under_ratio\"] > 0.65].sort_values(by = \"FLIGHT_DATE\")"
   ]
  },
  {
   "cell_type": "code",
   "execution_count": 190,
   "metadata": {},
   "outputs": [
    {
     "data": {
      "text/html": [
       "<div>\n",
       "<style scoped>\n",
       "    .dataframe tbody tr th:only-of-type {\n",
       "        vertical-align: middle;\n",
       "    }\n",
       "\n",
       "    .dataframe tbody tr th {\n",
       "        vertical-align: top;\n",
       "    }\n",
       "\n",
       "    .dataframe thead th {\n",
       "        text-align: right;\n",
       "    }\n",
       "</style>\n",
       "<table border=\"1\" class=\"dataframe\">\n",
       "  <thead>\n",
       "    <tr style=\"text-align: right;\">\n",
       "      <th></th>\n",
       "      <th>Date</th>\n",
       "      <th>Date_type</th>\n",
       "      <th>Alert</th>\n",
       "      <th>value</th>\n",
       "    </tr>\n",
       "  </thead>\n",
       "  <tbody>\n",
       "    <tr>\n",
       "      <th>42</th>\n",
       "      <td>2020-03-17</td>\n",
       "      <td>Flight Date</td>\n",
       "      <td>too many underbooked flights for the day</td>\n",
       "      <td>0.005124</td>\n",
       "    </tr>\n",
       "    <tr>\n",
       "      <th>37</th>\n",
       "      <td>2020-03-18</td>\n",
       "      <td>Flight Date</td>\n",
       "      <td>too many underbooked flights for the day</td>\n",
       "      <td>0.005869</td>\n",
       "    </tr>\n",
       "    <tr>\n",
       "      <th>18</th>\n",
       "      <td>2020-03-21</td>\n",
       "      <td>Flight Date</td>\n",
       "      <td>too many underbooked flights for the day</td>\n",
       "      <td>0.009055</td>\n",
       "    </tr>\n",
       "    <tr>\n",
       "      <th>95</th>\n",
       "      <td>2020-03-22</td>\n",
       "      <td>Flight Date</td>\n",
       "      <td>too many underbooked flights for the day</td>\n",
       "      <td>0.007180</td>\n",
       "    </tr>\n",
       "    <tr>\n",
       "      <th>24</th>\n",
       "      <td>2020-03-23</td>\n",
       "      <td>Flight Date</td>\n",
       "      <td>too many underbooked flights for the day</td>\n",
       "      <td>0.004306</td>\n",
       "    </tr>\n",
       "  </tbody>\n",
       "</table>\n",
       "</div>"
      ],
      "text/plain": [
       "         Date    Date_type                                     Alert     value\n",
       "42 2020-03-17  Flight Date  too many underbooked flights for the day  0.005124\n",
       "37 2020-03-18  Flight Date  too many underbooked flights for the day  0.005869\n",
       "18 2020-03-21  Flight Date  too many underbooked flights for the day  0.009055\n",
       "95 2020-03-22  Flight Date  too many underbooked flights for the day  0.007180\n",
       "24 2020-03-23  Flight Date  too many underbooked flights for the day  0.004306"
      ]
     },
     "execution_count": 190,
     "metadata": {},
     "output_type": "execute_result"
    }
   ],
   "source": [
    "alert_table_DF_tmp = pd.DataFrame()\n",
    "alert_table_DF_tmp[\"Date\"] = D_flight_capacity_DF_underbooked.FLIGHT_DATE\n",
    "alert_table_DF_tmp[\"Date_type\"] = \"Flight Date\"\n",
    "alert_table_DF_tmp[\"Alert\"] = \"too many underbooked flights for the day\"\n",
    "alert_table_DF_tmp[\"value\"] = D_flight_capacity_DF_underbooked.over_ratio\n",
    "alert_table_DF = alert_table_DF.append(alert_table_DF_tmp)\n",
    "alert_table_DF.head()"
   ]
  },
  {
   "cell_type": "code",
   "execution_count": 191,
   "metadata": {},
   "outputs": [],
   "source": [
    "%%bigquery NewAirport_DF\n",
    "SELECT * \n",
    "FROM `compliance_dashboard_IN1194.D_First_time_outbound_airport`\n",
    "WHERE first_time_seen > \"2020-01-01\""
   ]
  },
  {
   "cell_type": "code",
   "execution_count": 192,
   "metadata": {},
   "outputs": [
    {
     "data": {
      "text/html": [
       "<div>\n",
       "<style scoped>\n",
       "    .dataframe tbody tr th:only-of-type {\n",
       "        vertical-align: middle;\n",
       "    }\n",
       "\n",
       "    .dataframe tbody tr th {\n",
       "        vertical-align: top;\n",
       "    }\n",
       "\n",
       "    .dataframe thead th {\n",
       "        text-align: right;\n",
       "    }\n",
       "</style>\n",
       "<table border=\"1\" class=\"dataframe\">\n",
       "  <thead>\n",
       "    <tr style=\"text-align: right;\">\n",
       "      <th></th>\n",
       "      <th>flyfrom_Leg</th>\n",
       "      <th>first_time_seen</th>\n",
       "      <th>number_tickets</th>\n",
       "    </tr>\n",
       "  </thead>\n",
       "  <tbody>\n",
       "    <tr>\n",
       "      <th>0</th>\n",
       "      <td>MWQ</td>\n",
       "      <td>2020-01-02</td>\n",
       "      <td>41</td>\n",
       "    </tr>\n",
       "    <tr>\n",
       "      <th>1</th>\n",
       "      <td>TSM</td>\n",
       "      <td>2020-02-03</td>\n",
       "      <td>7</td>\n",
       "    </tr>\n",
       "    <tr>\n",
       "      <th>2</th>\n",
       "      <td>JGB</td>\n",
       "      <td>2020-03-05</td>\n",
       "      <td>29</td>\n",
       "    </tr>\n",
       "    <tr>\n",
       "      <th>3</th>\n",
       "      <td>GYB</td>\n",
       "      <td>2020-05-18</td>\n",
       "      <td>87</td>\n",
       "    </tr>\n",
       "    <tr>\n",
       "      <th>4</th>\n",
       "      <td>LHU</td>\n",
       "      <td>2020-01-02</td>\n",
       "      <td>1</td>\n",
       "    </tr>\n",
       "    <tr>\n",
       "      <th>5</th>\n",
       "      <td>OLM</td>\n",
       "      <td>2020-01-02</td>\n",
       "      <td>1</td>\n",
       "    </tr>\n",
       "    <tr>\n",
       "      <th>6</th>\n",
       "      <td>BKN</td>\n",
       "      <td>2020-01-24</td>\n",
       "      <td>1</td>\n",
       "    </tr>\n",
       "    <tr>\n",
       "      <th>7</th>\n",
       "      <td>HUF</td>\n",
       "      <td>2020-01-28</td>\n",
       "      <td>1</td>\n",
       "    </tr>\n",
       "    <tr>\n",
       "      <th>8</th>\n",
       "      <td>RAL</td>\n",
       "      <td>2020-03-03</td>\n",
       "      <td>1</td>\n",
       "    </tr>\n",
       "    <tr>\n",
       "      <th>9</th>\n",
       "      <td>CDH</td>\n",
       "      <td>2020-03-03</td>\n",
       "      <td>1</td>\n",
       "    </tr>\n",
       "    <tr>\n",
       "      <th>10</th>\n",
       "      <td>BVY</td>\n",
       "      <td>2020-03-06</td>\n",
       "      <td>1</td>\n",
       "    </tr>\n",
       "    <tr>\n",
       "      <th>11</th>\n",
       "      <td>POB</td>\n",
       "      <td>2020-01-04</td>\n",
       "      <td>2</td>\n",
       "    </tr>\n",
       "    <tr>\n",
       "      <th>12</th>\n",
       "      <td>HKR</td>\n",
       "      <td>2020-02-18</td>\n",
       "      <td>2</td>\n",
       "    </tr>\n",
       "    <tr>\n",
       "      <th>13</th>\n",
       "      <td>EMR</td>\n",
       "      <td>2020-02-20</td>\n",
       "      <td>2</td>\n",
       "    </tr>\n",
       "    <tr>\n",
       "      <th>14</th>\n",
       "      <td>DAK</td>\n",
       "      <td>2020-02-22</td>\n",
       "      <td>2</td>\n",
       "    </tr>\n",
       "    <tr>\n",
       "      <th>15</th>\n",
       "      <td>WZA</td>\n",
       "      <td>2020-01-02</td>\n",
       "      <td>4</td>\n",
       "    </tr>\n",
       "    <tr>\n",
       "      <th>16</th>\n",
       "      <td>KDA</td>\n",
       "      <td>2020-01-06</td>\n",
       "      <td>6</td>\n",
       "    </tr>\n",
       "    <tr>\n",
       "      <th>17</th>\n",
       "      <td>CHX</td>\n",
       "      <td>2020-02-05</td>\n",
       "      <td>6</td>\n",
       "    </tr>\n",
       "  </tbody>\n",
       "</table>\n",
       "</div>"
      ],
      "text/plain": [
       "   flyfrom_Leg first_time_seen  number_tickets\n",
       "0          MWQ      2020-01-02              41\n",
       "1          TSM      2020-02-03               7\n",
       "2          JGB      2020-03-05              29\n",
       "3          GYB      2020-05-18              87\n",
       "4          LHU      2020-01-02               1\n",
       "5          OLM      2020-01-02               1\n",
       "6          BKN      2020-01-24               1\n",
       "7          HUF      2020-01-28               1\n",
       "8          RAL      2020-03-03               1\n",
       "9          CDH      2020-03-03               1\n",
       "10         BVY      2020-03-06               1\n",
       "11         POB      2020-01-04               2\n",
       "12         HKR      2020-02-18               2\n",
       "13         EMR      2020-02-20               2\n",
       "14         DAK      2020-02-22               2\n",
       "15         WZA      2020-01-02               4\n",
       "16         KDA      2020-01-06               6\n",
       "17         CHX      2020-02-05               6"
      ]
     },
     "execution_count": 192,
     "metadata": {},
     "output_type": "execute_result"
    }
   ],
   "source": [
    "NewAirport_DF[\"first_time_seen\"] = pd.to_datetime(NewAirport_DF['first_time_seen'])\n",
    "NewAirport_DF"
   ]
  },
  {
   "cell_type": "code",
   "execution_count": 193,
   "metadata": {},
   "outputs": [],
   "source": [
    "alert_table_DF_tmp = pd.DataFrame()\n",
    "alert_table_DF_tmp[\"Date\"] = NewAirport_DF.first_time_seen\n",
    "alert_table_DF_tmp[\"Date_type\"] = \"Issue date\"\n",
    "alert_table_DF_tmp[\"Alert\"] = \"Outbound airport seen for the first time\"\n",
    "alert_table_DF_tmp[\"value\"] = NewAirport_DF[\"flyfrom_Leg\"]  \n",
    "alert_table_DF_tmp\n",
    "alert_table_DF = alert_table_DF.append(alert_table_DF_tmp)"
   ]
  },
  {
   "cell_type": "code",
   "execution_count": 194,
   "metadata": {},
   "outputs": [],
   "source": [
    "%%bigquery NewAirport_DF\n",
    "SELECT * \n",
    "FROM `compliance_dashboard_IN1194.D_First_time_inbound_airport` \n",
    "WHERE first_time_seen > \"2020-03-08\""
   ]
  },
  {
   "cell_type": "code",
   "execution_count": 195,
   "metadata": {},
   "outputs": [
    {
     "data": {
      "text/html": [
       "<div>\n",
       "<style scoped>\n",
       "    .dataframe tbody tr th:only-of-type {\n",
       "        vertical-align: middle;\n",
       "    }\n",
       "\n",
       "    .dataframe tbody tr th {\n",
       "        vertical-align: top;\n",
       "    }\n",
       "\n",
       "    .dataframe thead th {\n",
       "        text-align: right;\n",
       "    }\n",
       "</style>\n",
       "<table border=\"1\" class=\"dataframe\">\n",
       "  <thead>\n",
       "    <tr style=\"text-align: right;\">\n",
       "      <th></th>\n",
       "      <th>flyto_leg</th>\n",
       "      <th>first_time_seen</th>\n",
       "      <th>number_tickets</th>\n",
       "    </tr>\n",
       "  </thead>\n",
       "  <tbody>\n",
       "    <tr>\n",
       "      <th>0</th>\n",
       "      <td>GYB</td>\n",
       "      <td>2020-05-18</td>\n",
       "      <td>100</td>\n",
       "    </tr>\n",
       "    <tr>\n",
       "      <th>1</th>\n",
       "      <td>KXN</td>\n",
       "      <td>2020-03-28</td>\n",
       "      <td>1</td>\n",
       "    </tr>\n",
       "    <tr>\n",
       "      <th>2</th>\n",
       "      <td>LSF</td>\n",
       "      <td>2020-04-15</td>\n",
       "      <td>5</td>\n",
       "    </tr>\n",
       "  </tbody>\n",
       "</table>\n",
       "</div>"
      ],
      "text/plain": [
       "  flyto_leg first_time_seen  number_tickets\n",
       "0       GYB      2020-05-18             100\n",
       "1       KXN      2020-03-28               1\n",
       "2       LSF      2020-04-15               5"
      ]
     },
     "execution_count": 195,
     "metadata": {},
     "output_type": "execute_result"
    }
   ],
   "source": [
    "NewAirport_DF[\"first_time_seen\"] = pd.to_datetime(NewAirport_DF['first_time_seen'])\n",
    "NewAirport_DF"
   ]
  },
  {
   "cell_type": "code",
   "execution_count": 196,
   "metadata": {},
   "outputs": [],
   "source": [
    "alert_table_DF_tmp = pd.DataFrame()\n",
    "alert_table_DF_tmp[\"Date\"] = NewAirport_DF.first_time_seen\n",
    "alert_table_DF_tmp[\"Date_type\"] = \"Issue date\"\n",
    "alert_table_DF_tmp[\"Alert\"] = \"Inboud airport seen for the first time\"\n",
    "alert_table_DF_tmp[\"value\"] = NewAirport_DF[\"flyto_leg\"]  \n",
    "alert_table_DF_tmp\n",
    "alert_table_DF = alert_table_DF.append(alert_table_DF_tmp)"
   ]
  },
  {
   "cell_type": "code",
   "execution_count": 197,
   "metadata": {},
   "outputs": [],
   "source": [
    "%%bigquery NewAirport_DF\n",
    "SELECT * \n",
    "FROM `compliance_dashboard_IN1194.D_First_time_inbound_airport` \n",
    "WHERE first_time_seen > \"2020-03-08\""
   ]
  },
  {
   "cell_type": "code",
   "execution_count": 198,
   "metadata": {},
   "outputs": [
    {
     "data": {
      "text/html": [
       "<div>\n",
       "<style scoped>\n",
       "    .dataframe tbody tr th:only-of-type {\n",
       "        vertical-align: middle;\n",
       "    }\n",
       "\n",
       "    .dataframe tbody tr th {\n",
       "        vertical-align: top;\n",
       "    }\n",
       "\n",
       "    .dataframe thead th {\n",
       "        text-align: right;\n",
       "    }\n",
       "</style>\n",
       "<table border=\"1\" class=\"dataframe\">\n",
       "  <thead>\n",
       "    <tr style=\"text-align: right;\">\n",
       "      <th></th>\n",
       "      <th>flyto_leg</th>\n",
       "      <th>first_time_seen</th>\n",
       "      <th>number_tickets</th>\n",
       "    </tr>\n",
       "  </thead>\n",
       "  <tbody>\n",
       "    <tr>\n",
       "      <th>0</th>\n",
       "      <td>GYB</td>\n",
       "      <td>2020-05-18</td>\n",
       "      <td>100</td>\n",
       "    </tr>\n",
       "    <tr>\n",
       "      <th>1</th>\n",
       "      <td>KXN</td>\n",
       "      <td>2020-03-28</td>\n",
       "      <td>1</td>\n",
       "    </tr>\n",
       "    <tr>\n",
       "      <th>2</th>\n",
       "      <td>LSF</td>\n",
       "      <td>2020-04-15</td>\n",
       "      <td>5</td>\n",
       "    </tr>\n",
       "  </tbody>\n",
       "</table>\n",
       "</div>"
      ],
      "text/plain": [
       "  flyto_leg first_time_seen  number_tickets\n",
       "0       GYB      2020-05-18             100\n",
       "1       KXN      2020-03-28               1\n",
       "2       LSF      2020-04-15               5"
      ]
     },
     "execution_count": 198,
     "metadata": {},
     "output_type": "execute_result"
    }
   ],
   "source": [
    "\n",
    "NewAirport_DF[\"first_time_seen\"] = pd.to_datetime(NewAirport_DF['first_time_seen'])\n",
    "NewAirport_DF"
   ]
  },
  {
   "cell_type": "code",
   "execution_count": 199,
   "metadata": {},
   "outputs": [],
   "source": [
    "alert_table_DF_tmp = pd.DataFrame()\n",
    "alert_table_DF_tmp[\"Date\"] = NewAirport_DF.first_time_seen\n",
    "alert_table_DF_tmp[\"Date_type\"] = \"Issue date\"\n",
    "alert_table_DF_tmp[\"Alert\"] = \"Inboud airport seen for the first time\"\n",
    "alert_table_DF_tmp[\"value\"] = NewAirport_DF[\"flyto_leg\"]  \n",
    "alert_table_DF_tmp\n",
    "alert_table_DF = alert_table_DF.append(alert_table_DF_tmp)"
   ]
  },
  {
   "cell_type": "code",
   "execution_count": 200,
   "metadata": {},
   "outputs": [],
   "source": [
    "%%bigquery NewRoute_DF\n",
    "SELECT * \n",
    "FROM `compliance_dashboard_IN1194.D_First_time_itinerary` \n",
    "WHERE first_time_seen > \"2020-03-08\" AND  number_tickets >250"
   ]
  },
  {
   "cell_type": "code",
   "execution_count": 201,
   "metadata": {},
   "outputs": [
    {
     "data": {
      "text/html": [
       "<div>\n",
       "<style scoped>\n",
       "    .dataframe tbody tr th:only-of-type {\n",
       "        vertical-align: middle;\n",
       "    }\n",
       "\n",
       "    .dataframe tbody tr th {\n",
       "        vertical-align: top;\n",
       "    }\n",
       "\n",
       "    .dataframe thead th {\n",
       "        text-align: right;\n",
       "    }\n",
       "</style>\n",
       "<table border=\"1\" class=\"dataframe\">\n",
       "  <thead>\n",
       "    <tr style=\"text-align: right;\">\n",
       "      <th></th>\n",
       "      <th>flyfrom_Leg</th>\n",
       "      <th>flyto_leg</th>\n",
       "      <th>first_time_seen</th>\n",
       "      <th>number_tickets</th>\n",
       "    </tr>\n",
       "  </thead>\n",
       "  <tbody>\n",
       "    <tr>\n",
       "      <th>0</th>\n",
       "      <td>GYU</td>\n",
       "      <td>YIW</td>\n",
       "      <td>2020-03-10</td>\n",
       "      <td>455</td>\n",
       "    </tr>\n",
       "    <tr>\n",
       "      <th>1</th>\n",
       "      <td>JJN</td>\n",
       "      <td>PKX</td>\n",
       "      <td>2020-03-12</td>\n",
       "      <td>1133</td>\n",
       "    </tr>\n",
       "    <tr>\n",
       "      <th>2</th>\n",
       "      <td>VDO</td>\n",
       "      <td>ICN</td>\n",
       "      <td>2020-03-12</td>\n",
       "      <td>1198</td>\n",
       "    </tr>\n",
       "    <tr>\n",
       "      <th>3</th>\n",
       "      <td>ICN</td>\n",
       "      <td>VDO</td>\n",
       "      <td>2020-03-12</td>\n",
       "      <td>2268</td>\n",
       "    </tr>\n",
       "    <tr>\n",
       "      <th>4</th>\n",
       "      <td>XUZ</td>\n",
       "      <td>KCA</td>\n",
       "      <td>2020-03-12</td>\n",
       "      <td>327</td>\n",
       "    </tr>\n",
       "  </tbody>\n",
       "</table>\n",
       "</div>"
      ],
      "text/plain": [
       "  flyfrom_Leg flyto_leg first_time_seen  number_tickets\n",
       "0         GYU       YIW      2020-03-10             455\n",
       "1         JJN       PKX      2020-03-12            1133\n",
       "2         VDO       ICN      2020-03-12            1198\n",
       "3         ICN       VDO      2020-03-12            2268\n",
       "4         XUZ       KCA      2020-03-12             327"
      ]
     },
     "execution_count": 201,
     "metadata": {},
     "output_type": "execute_result"
    }
   ],
   "source": [
    "NewRoute_DF[\"first_time_seen\"] = pd.to_datetime(NewRoute_DF['first_time_seen'])\n",
    "NewRoute_DF.head()"
   ]
  },
  {
   "cell_type": "code",
   "execution_count": 202,
   "metadata": {},
   "outputs": [],
   "source": [
    "alert_table_DF_tmp = pd.DataFrame()\n",
    "alert_table_DF_tmp[\"Date\"] = NewRoute_DF.first_time_seen\n",
    "alert_table_DF_tmp[\"Date_type\"] = \"Issue date\"\n",
    "alert_table_DF_tmp[\"Alert\"] = \"Route seen for the first time\"\n",
    "alert_table_DF_tmp[\"value\"] = NewRoute_DF[\"flyfrom_Leg\"] + \"-\" + NewRoute_DF[\"flyto_leg\"]  \n",
    "alert_table_DF_tmp\n",
    "alert_table_DF = alert_table_DF.append(alert_table_DF_tmp)"
   ]
  },
  {
   "cell_type": "code",
   "execution_count": 203,
   "metadata": {},
   "outputs": [],
   "source": [
    "%%bigquery exchanges_issues_DF\n",
    "SELECT * \n",
    "FROM `compliance_dashboard_IN1194.QC_exchanges_issues_refunds`\n",
    "WHERE DT_OF_ISSUE > \"2020-03-08\""
   ]
  },
  {
   "cell_type": "code",
   "execution_count": 204,
   "metadata": {},
   "outputs": [
    {
     "data": {
      "text/html": [
       "<div>\n",
       "<style scoped>\n",
       "    .dataframe tbody tr th:only-of-type {\n",
       "        vertical-align: middle;\n",
       "    }\n",
       "\n",
       "    .dataframe tbody tr th {\n",
       "        vertical-align: top;\n",
       "    }\n",
       "\n",
       "    .dataframe thead th {\n",
       "        text-align: right;\n",
       "    }\n",
       "</style>\n",
       "<table border=\"1\" class=\"dataframe\">\n",
       "  <thead>\n",
       "    <tr style=\"text-align: right;\">\n",
       "      <th></th>\n",
       "      <th>DT_OF_ISSUE</th>\n",
       "      <th>OPERATING_CARRIER</th>\n",
       "      <th>refund</th>\n",
       "      <th>issue</th>\n",
       "      <th>exchange</th>\n",
       "    </tr>\n",
       "  </thead>\n",
       "  <tbody>\n",
       "    <tr>\n",
       "      <th>0</th>\n",
       "      <td>2020-05-24</td>\n",
       "      <td>CX</td>\n",
       "      <td>0</td>\n",
       "      <td>3</td>\n",
       "      <td>0</td>\n",
       "    </tr>\n",
       "    <tr>\n",
       "      <th>1</th>\n",
       "      <td>2020-05-24</td>\n",
       "      <td>NZ</td>\n",
       "      <td>0</td>\n",
       "      <td>2</td>\n",
       "      <td>0</td>\n",
       "    </tr>\n",
       "    <tr>\n",
       "      <th>2</th>\n",
       "      <td>2020-05-24</td>\n",
       "      <td>KA</td>\n",
       "      <td>0</td>\n",
       "      <td>1</td>\n",
       "      <td>0</td>\n",
       "    </tr>\n",
       "    <tr>\n",
       "      <th>3</th>\n",
       "      <td>2020-03-09</td>\n",
       "      <td>BA</td>\n",
       "      <td>16949</td>\n",
       "      <td>45445</td>\n",
       "      <td>25446</td>\n",
       "    </tr>\n",
       "    <tr>\n",
       "      <th>4</th>\n",
       "      <td>2020-03-09</td>\n",
       "      <td>SQ</td>\n",
       "      <td>11536</td>\n",
       "      <td>16054</td>\n",
       "      <td>7948</td>\n",
       "    </tr>\n",
       "  </tbody>\n",
       "</table>\n",
       "</div>"
      ],
      "text/plain": [
       "  DT_OF_ISSUE OPERATING_CARRIER  refund  issue  exchange\n",
       "0  2020-05-24                CX       0      3         0\n",
       "1  2020-05-24                NZ       0      2         0\n",
       "2  2020-05-24                KA       0      1         0\n",
       "3  2020-03-09                BA   16949  45445     25446\n",
       "4  2020-03-09                SQ   11536  16054      7948"
      ]
     },
     "execution_count": 204,
     "metadata": {},
     "output_type": "execute_result"
    }
   ],
   "source": [
    "exchanges_issues_DF[\"DT_OF_ISSUE\"] = pd.to_datetime(exchanges_issues_DF['DT_OF_ISSUE'])\n",
    "exchanges_issues_DF.head()"
   ]
  },
  {
   "cell_type": "code",
   "execution_count": 205,
   "metadata": {},
   "outputs": [],
   "source": [
    "too_many_refunds = exchanges_issues_DF[(exchanges_issues_DF[\"refund\"] > exchanges_issues_DF[\"issue\"]) & (exchanges_issues_DF[\"refund\"] >10000)]"
   ]
  },
  {
   "cell_type": "code",
   "execution_count": 206,
   "metadata": {},
   "outputs": [],
   "source": [
    "alert_table_DF_tmp = pd.DataFrame()\n",
    "alert_table_DF_tmp[\"Date\"] = too_many_refunds.DT_OF_ISSUE\n",
    "alert_table_DF_tmp[\"Date_type\"] = \"Issue date\"\n",
    "alert_table_DF_tmp[\"Alert\"] = \"Too many refunds for this airline\"\n",
    "alert_table_DF_tmp[\"value\"] = too_many_refunds[\"OPERATING_CARRIER\"]  \n",
    "alert_table_DF_tmp\n",
    "alert_table_DF = alert_table_DF.append(alert_table_DF_tmp)"
   ]
  },
  {
   "cell_type": "code",
   "execution_count": 207,
   "metadata": {},
   "outputs": [],
   "source": [
    "too_many_exchanges = exchanges_issues_DF[(exchanges_issues_DF[\"exchange\"] > exchanges_issues_DF[\"issue\"]) & (exchanges_issues_DF[\"exchange\"] >1000)]"
   ]
  },
  {
   "cell_type": "code",
   "execution_count": 208,
   "metadata": {},
   "outputs": [],
   "source": [
    "alert_table_DF_tmp = pd.DataFrame()\n",
    "alert_table_DF_tmp[\"Date\"] = too_many_exchanges.DT_OF_ISSUE\n",
    "alert_table_DF_tmp[\"Date_type\"] = \"Issue date\"\n",
    "alert_table_DF_tmp[\"Alert\"] = \"Too many exchanges for this airline\"\n",
    "alert_table_DF_tmp[\"value\"] = too_many_exchanges[\"OPERATING_CARRIER\"]  \n",
    "alert_table_DF_tmp\n",
    "alert_table_DF = alert_table_DF.append(alert_table_DF_tmp)"
   ]
  },
  {
   "cell_type": "code",
   "execution_count": 209,
   "metadata": {},
   "outputs": [
    {
     "data": {
      "text/html": [
       "<div>\n",
       "<style scoped>\n",
       "    .dataframe tbody tr th:only-of-type {\n",
       "        vertical-align: middle;\n",
       "    }\n",
       "\n",
       "    .dataframe tbody tr th {\n",
       "        vertical-align: top;\n",
       "    }\n",
       "\n",
       "    .dataframe thead th {\n",
       "        text-align: right;\n",
       "    }\n",
       "</style>\n",
       "<table border=\"1\" class=\"dataframe\">\n",
       "  <thead>\n",
       "    <tr style=\"text-align: right;\">\n",
       "      <th></th>\n",
       "      <th>Date</th>\n",
       "      <th>Date_type</th>\n",
       "      <th>Alert</th>\n",
       "      <th>value</th>\n",
       "    </tr>\n",
       "  </thead>\n",
       "  <tbody>\n",
       "    <tr>\n",
       "      <th>42</th>\n",
       "      <td>2020-03-17</td>\n",
       "      <td>Flight Date</td>\n",
       "      <td>too many underbooked flights for the day</td>\n",
       "      <td>0.00512422</td>\n",
       "    </tr>\n",
       "    <tr>\n",
       "      <th>37</th>\n",
       "      <td>2020-03-18</td>\n",
       "      <td>Flight Date</td>\n",
       "      <td>too many underbooked flights for the day</td>\n",
       "      <td>0.00586853</td>\n",
       "    </tr>\n",
       "    <tr>\n",
       "      <th>18</th>\n",
       "      <td>2020-03-21</td>\n",
       "      <td>Flight Date</td>\n",
       "      <td>too many underbooked flights for the day</td>\n",
       "      <td>0.00905492</td>\n",
       "    </tr>\n",
       "    <tr>\n",
       "      <th>95</th>\n",
       "      <td>2020-03-22</td>\n",
       "      <td>Flight Date</td>\n",
       "      <td>too many underbooked flights for the day</td>\n",
       "      <td>0.00718009</td>\n",
       "    </tr>\n",
       "    <tr>\n",
       "      <th>24</th>\n",
       "      <td>2020-03-23</td>\n",
       "      <td>Flight Date</td>\n",
       "      <td>too many underbooked flights for the day</td>\n",
       "      <td>0.00430622</td>\n",
       "    </tr>\n",
       "    <tr>\n",
       "      <th>...</th>\n",
       "      <td>...</td>\n",
       "      <td>...</td>\n",
       "      <td>...</td>\n",
       "      <td>...</td>\n",
       "    </tr>\n",
       "    <tr>\n",
       "      <th>24817</th>\n",
       "      <td>2020-05-21</td>\n",
       "      <td>Issue date</td>\n",
       "      <td>Too many exchanges for this airline</td>\n",
       "      <td>CM</td>\n",
       "    </tr>\n",
       "    <tr>\n",
       "      <th>24859</th>\n",
       "      <td>2020-05-21</td>\n",
       "      <td>Issue date</td>\n",
       "      <td>Too many exchanges for this airline</td>\n",
       "      <td>SW</td>\n",
       "    </tr>\n",
       "    <tr>\n",
       "      <th>25083</th>\n",
       "      <td>2020-05-22</td>\n",
       "      <td>Issue date</td>\n",
       "      <td>Too many exchanges for this airline</td>\n",
       "      <td>AY</td>\n",
       "    </tr>\n",
       "    <tr>\n",
       "      <th>25110</th>\n",
       "      <td>2020-05-22</td>\n",
       "      <td>Issue date</td>\n",
       "      <td>Too many exchanges for this airline</td>\n",
       "      <td>DL</td>\n",
       "    </tr>\n",
       "    <tr>\n",
       "      <th>25162</th>\n",
       "      <td>2020-05-22</td>\n",
       "      <td>Issue date</td>\n",
       "      <td>Too many exchanges for this airline</td>\n",
       "      <td>V</td>\n",
       "    </tr>\n",
       "  </tbody>\n",
       "</table>\n",
       "<p>1572 rows × 4 columns</p>\n",
       "</div>"
      ],
      "text/plain": [
       "            Date    Date_type                                     Alert  \\\n",
       "42    2020-03-17  Flight Date  too many underbooked flights for the day   \n",
       "37    2020-03-18  Flight Date  too many underbooked flights for the day   \n",
       "18    2020-03-21  Flight Date  too many underbooked flights for the day   \n",
       "95    2020-03-22  Flight Date  too many underbooked flights for the day   \n",
       "24    2020-03-23  Flight Date  too many underbooked flights for the day   \n",
       "...          ...          ...                                       ...   \n",
       "24817 2020-05-21   Issue date       Too many exchanges for this airline   \n",
       "24859 2020-05-21   Issue date       Too many exchanges for this airline   \n",
       "25083 2020-05-22   Issue date       Too many exchanges for this airline   \n",
       "25110 2020-05-22   Issue date       Too many exchanges for this airline   \n",
       "25162 2020-05-22   Issue date       Too many exchanges for this airline   \n",
       "\n",
       "            value  \n",
       "42     0.00512422  \n",
       "37     0.00586853  \n",
       "18     0.00905492  \n",
       "95     0.00718009  \n",
       "24     0.00430622  \n",
       "...           ...  \n",
       "24817          CM  \n",
       "24859          SW  \n",
       "25083          AY  \n",
       "25110          DL  \n",
       "25162           V  \n",
       "\n",
       "[1572 rows x 4 columns]"
      ]
     },
     "execution_count": 209,
     "metadata": {},
     "output_type": "execute_result"
    }
   ],
   "source": [
    "alert_table_DF"
   ]
  },
  {
   "cell_type": "code",
   "execution_count": 210,
   "metadata": {},
   "outputs": [],
   "source": [
    "%%bigquery overbooked_flights_DF\n",
    "SELECT FLIGHT_DATE, flight_id, MKT_CARRIER_CODE  \n",
    "FROM `compliance_dashboard_IN1194.D_flight_capacity`\n",
    "WHERE flight_capacity_max > 0 AND issued_tickets/flight_capacity_max> 3 AND issued_tickets > 100 and FLIGHT_DATE > \"2020-03-08\" AND FLIGHT_DATE < \"2020-06-01\""
   ]
  },
  {
   "cell_type": "code",
   "execution_count": 211,
   "metadata": {},
   "outputs": [],
   "source": [
    "overbooked_flights_DF[\"flag\"] = \">300% overbooked\""
   ]
  },
  {
   "cell_type": "code",
   "execution_count": 212,
   "metadata": {},
   "outputs": [],
   "source": [
    "%%bigquery nomatch_flights_DF\n",
    "SELECT FLIGHT_DATE, flight_id, MKT_CARRIER_CODE  \n",
    "FROM `compliance_dashboard_IN1194.D_flight_capacity`\n",
    "WHERE flight_capacity_max > 0 AND  issued_tickets > 200 AND matching_rate = 0 and FLIGHT_DATE > \"2020-03-08\" AND FLIGHT_DATE < \"2020-06-01\""
   ]
  },
  {
   "cell_type": "code",
   "execution_count": 213,
   "metadata": {},
   "outputs": [],
   "source": [
    "nomatch_flights_DF[\"flag\"] = \"skytra couldn't match\""
   ]
  },
  {
   "cell_type": "code",
   "execution_count": 214,
   "metadata": {},
   "outputs": [
    {
     "data": {
      "text/html": [
       "<div>\n",
       "<style scoped>\n",
       "    .dataframe tbody tr th:only-of-type {\n",
       "        vertical-align: middle;\n",
       "    }\n",
       "\n",
       "    .dataframe tbody tr th {\n",
       "        vertical-align: top;\n",
       "    }\n",
       "\n",
       "    .dataframe thead th {\n",
       "        text-align: right;\n",
       "    }\n",
       "</style>\n",
       "<table border=\"1\" class=\"dataframe\">\n",
       "  <thead>\n",
       "    <tr style=\"text-align: right;\">\n",
       "      <th></th>\n",
       "      <th>FLIGHT_DATE</th>\n",
       "      <th>flight_id</th>\n",
       "      <th>MKT_CARRIER_CODE</th>\n",
       "      <th>flag</th>\n",
       "    </tr>\n",
       "  </thead>\n",
       "  <tbody>\n",
       "    <tr>\n",
       "      <th>0</th>\n",
       "      <td>2020-05-15</td>\n",
       "      <td>ISB-LHE-00385</td>\n",
       "      <td>PK</td>\n",
       "      <td>&gt;300% overbooked</td>\n",
       "    </tr>\n",
       "    <tr>\n",
       "      <th>1</th>\n",
       "      <td>2020-05-01</td>\n",
       "      <td>SKZ-KHI-00531</td>\n",
       "      <td>PK</td>\n",
       "      <td>&gt;300% overbooked</td>\n",
       "    </tr>\n",
       "    <tr>\n",
       "      <th>2</th>\n",
       "      <td>2020-05-08</td>\n",
       "      <td>ISB-PEW-00660</td>\n",
       "      <td>PK</td>\n",
       "      <td>&gt;300% overbooked</td>\n",
       "    </tr>\n",
       "    <tr>\n",
       "      <th>3</th>\n",
       "      <td>2020-05-20</td>\n",
       "      <td>KHI-SKZ-00532</td>\n",
       "      <td>PK</td>\n",
       "      <td>&gt;300% overbooked</td>\n",
       "    </tr>\n",
       "    <tr>\n",
       "      <th>4</th>\n",
       "      <td>2020-05-07</td>\n",
       "      <td>LHE-ISB-01852</td>\n",
       "      <td>PK</td>\n",
       "      <td>&gt;300% overbooked</td>\n",
       "    </tr>\n",
       "  </tbody>\n",
       "</table>\n",
       "</div>"
      ],
      "text/plain": [
       "  FLIGHT_DATE      flight_id MKT_CARRIER_CODE              flag\n",
       "0  2020-05-15  ISB-LHE-00385               PK  >300% overbooked\n",
       "1  2020-05-01  SKZ-KHI-00531               PK  >300% overbooked\n",
       "2  2020-05-08  ISB-PEW-00660               PK  >300% overbooked\n",
       "3  2020-05-20  KHI-SKZ-00532               PK  >300% overbooked\n",
       "4  2020-05-07  LHE-ISB-01852               PK  >300% overbooked"
      ]
     },
     "execution_count": 214,
     "metadata": {},
     "output_type": "execute_result"
    }
   ],
   "source": [
    "Suspicious_flights = overbooked_flights_DF.append(nomatch_flights_DF)\n",
    "Suspicious_flights.head()"
   ]
  },
  {
   "cell_type": "code",
   "execution_count": 215,
   "metadata": {},
   "outputs": [
    {
     "name": "stderr",
     "output_type": "stream",
     "text": [
      "1it [00:03,  3.20s/it]\n"
     ]
    }
   ],
   "source": [
    "Suspicious_flights.to_gbq(destination_table='compliance_dashboard_IN1194.Suspicious_flights',\n",
    "                               project_id='skytra-benchmark-rnd', if_exists = 'replace')"
   ]
  },
  {
   "cell_type": "code",
   "execution_count": 216,
   "metadata": {},
   "outputs": [
    {
     "name": "stderr",
     "output_type": "stream",
     "text": [
      "1it [00:02,  2.48s/it]\n"
     ]
    }
   ],
   "source": [
    "alert_table_DF.to_gbq(destination_table='compliance_dashboard_IN1194.alert_table',\n",
    "                               project_id='skytra-benchmark-rnd', if_exists = 'replace')"
   ]
  },
  {
   "cell_type": "code",
   "execution_count": 217,
   "metadata": {},
   "outputs": [
    {
     "data": {
      "text/plain": [
       "\"'GYU-YIW', 'JJN-PKX', 'VDO-ICN', 'ICN-VDO', 'XUZ-KCA', 'PKX-ZAT', 'ZAT-PKX', 'PUJ-WAW', 'DPS-WAW', 'DOY-KRY', 'CUN-WAW', 'LBV-IAD', 'ASU-FRA', 'MSY-DPS', 'MSY-CGK', 'ROB-IAD', 'LLV-NKG', 'CWJ-CSX', 'JMJ-LJG', 'CGO-XIC', 'CKG-WUA', 'KRY-DOY', 'YYA-TYN', 'JGN-PKX', 'CGO-WUA', 'RUH-RMF', 'PKX-JGN', 'CZX-JJN', 'BZX-HAK', 'BZX-XIY', 'HAK-WSK', 'WSK-XIY', 'XIY-BZX', 'HAK-BZX', 'LUM-WMT', 'JJN-YYA', 'IAD-RMF', 'DME-RMF', 'WSK-HAK', 'YYA-JJN', 'KRT-KHI', 'YTY-JJN', 'YYZ-RMF', 'CAN-XAI', 'JED-RMF', 'KGF-DEL'\""
      ]
     },
     "execution_count": 217,
     "metadata": {},
     "output_type": "execute_result"
    }
   ],
   "source": [
    "str(list(alert_table_DF[alert_table_DF.Alert == \"Route seen for the first time\"].value)).strip('[]')"
   ]
  },
  {
   "cell_type": "code",
   "execution_count": 218,
   "metadata": {},
   "outputs": [
    {
     "data": {
      "text/plain": [
       "\"\\n\\n\\nSELECT * FROM skytra-benchmark-rnd.matching.R6 WHERE dt_of_issue IS NOT NULL AND od_pair  IN('GYU-YIW', 'JJN-PKX', 'VDO-ICN', 'ICN-VDO', 'XUZ-KCA', 'PKX-ZAT', 'ZAT-PKX', 'PUJ-WAW', 'DPS-WAW', 'DOY-KRY', 'CUN-WAW', 'LBV-IAD', 'ASU-FRA', 'MSY-DPS', 'MSY-CGK', 'ROB-IAD', 'LLV-NKG', 'CWJ-CSX', 'JMJ-LJG', 'CGO-XIC', 'CKG-WUA', 'KRY-DOY', 'YYA-TYN', 'JGN-PKX', 'CGO-WUA', 'RUH-RMF', 'PKX-JGN', 'CZX-JJN', 'BZX-HAK', 'BZX-XIY', 'HAK-WSK', 'WSK-XIY', 'XIY-BZX', 'HAK-BZX', 'LUM-WMT', 'JJN-YYA', 'IAD-RMF', 'DME-RMF', 'WSK-HAK', 'YYA-JJN', 'KRT-KHI', 'YTY-JJN', 'YYZ-RMF', 'CAN-XAI', 'JED-RMF', 'KGF-DEL')\""
      ]
     },
     "execution_count": 218,
     "metadata": {},
     "output_type": "execute_result"
    }
   ],
   "source": [
    "query = \"\"\"\n",
    "\n",
    "\n",
    "SELECT * FROM skytra-benchmark-rnd.matching.R6 WHERE dt_of_issue IS NOT NULL AND od_pair  IN(\"\"\" + str(list(alert_table_DF[alert_table_DF.Alert == \"Route seen for the first time\"].value)).strip('[]') + \")\"\n",
    "\n",
    "query"
   ]
  },
  {
   "cell_type": "code",
   "execution_count": 219,
   "metadata": {},
   "outputs": [
    {
     "name": "stdout",
     "output_type": "stream",
     "text": [
      "Reading table\n",
      "Compiled the dataframe\n",
      "Processed 180235 lines\n"
     ]
    },
    {
     "name": "stderr",
     "output_type": "stream",
     "text": [
      "1it [00:14, 14.88s/it]\n"
     ]
    }
   ],
   "source": [
    "x = load_table(query)\n",
    "x.to_gbq(destination_table='compliance_dashboard_IN1194.Tickets_from_unseen_flights',\n",
    "                               project_id='skytra-benchmark-rnd', if_exists = 'replace')"
   ]
  },
  {
   "cell_type": "code",
   "execution_count": 232,
   "metadata": {},
   "outputs": [],
   "source": [
    "%%bigquery kiwi_stats\n",
    "SELECT * FROM `skytra-benchmark-rnd.compliance_dashboard_IN1194.D_kiwi_stat_file`"
   ]
  },
  {
   "cell_type": "code",
   "execution_count": 233,
   "metadata": {},
   "outputs": [
    {
     "data": {
      "text/html": [
       "<div>\n",
       "<style scoped>\n",
       "    .dataframe tbody tr th:only-of-type {\n",
       "        vertical-align: middle;\n",
       "    }\n",
       "\n",
       "    .dataframe tbody tr th {\n",
       "        vertical-align: top;\n",
       "    }\n",
       "\n",
       "    .dataframe thead th {\n",
       "        text-align: right;\n",
       "    }\n",
       "</style>\n",
       "<table border=\"1\" class=\"dataframe\">\n",
       "  <thead>\n",
       "    <tr style=\"text-align: right;\">\n",
       "      <th></th>\n",
       "      <th>src</th>\n",
       "      <th>KiwiItinAcc</th>\n",
       "      <th>AirbusItinAcc</th>\n",
       "      <th>FileCount</th>\n",
       "    </tr>\n",
       "  </thead>\n",
       "  <tbody>\n",
       "    <tr>\n",
       "      <th>0</th>\n",
       "      <td>gs://ext-kiwi-excl-stat/stats/y=2020/m=01/d=01</td>\n",
       "      <td>13527474991</td>\n",
       "      <td>13061634274</td>\n",
       "      <td>24.0</td>\n",
       "    </tr>\n",
       "    <tr>\n",
       "      <th>1</th>\n",
       "      <td>gs://ext-kiwi-excl-stat/stats/y=2020/m=01/d=02</td>\n",
       "      <td>16479765967</td>\n",
       "      <td>15901820917</td>\n",
       "      <td>24.0</td>\n",
       "    </tr>\n",
       "    <tr>\n",
       "      <th>2</th>\n",
       "      <td>gs://ext-kiwi-excl-stat/stats/y=2020/m=01/d=03</td>\n",
       "      <td>15881726341</td>\n",
       "      <td>15319689818</td>\n",
       "      <td>24.0</td>\n",
       "    </tr>\n",
       "    <tr>\n",
       "      <th>3</th>\n",
       "      <td>gs://ext-kiwi-excl-stat/stats/y=2020/m=01/d=04</td>\n",
       "      <td>15105089513</td>\n",
       "      <td>14563466749</td>\n",
       "      <td>24.0</td>\n",
       "    </tr>\n",
       "    <tr>\n",
       "      <th>4</th>\n",
       "      <td>gs://ext-kiwi-excl-stat/stats/y=2020/m=01/d=05</td>\n",
       "      <td>16126082963</td>\n",
       "      <td>15530736475</td>\n",
       "      <td>24.0</td>\n",
       "    </tr>\n",
       "    <tr>\n",
       "      <th>...</th>\n",
       "      <td>...</td>\n",
       "      <td>...</td>\n",
       "      <td>...</td>\n",
       "      <td>...</td>\n",
       "    </tr>\n",
       "    <tr>\n",
       "      <th>187</th>\n",
       "      <td>gs://ext-kiwi-excl-stat/stats/y=2020/m=07/d=06</td>\n",
       "      <td>4469529515</td>\n",
       "      <td>4283896556</td>\n",
       "      <td>24.0</td>\n",
       "    </tr>\n",
       "    <tr>\n",
       "      <th>188</th>\n",
       "      <td>gs://ext-kiwi-excl-stat/stats/y=2020/m=07/d=07</td>\n",
       "      <td>4292127234</td>\n",
       "      <td>4112286938</td>\n",
       "      <td>24.0</td>\n",
       "    </tr>\n",
       "    <tr>\n",
       "      <th>189</th>\n",
       "      <td>gs://ext-kiwi-excl-stat/stats/y=2020/m=07/d=08</td>\n",
       "      <td>4358654655</td>\n",
       "      <td>4176207584</td>\n",
       "      <td>24.0</td>\n",
       "    </tr>\n",
       "    <tr>\n",
       "      <th>190</th>\n",
       "      <td>gs://ext-kiwi-excl-stat/stats/y=2020/m=07/d=09</td>\n",
       "      <td>3983443146</td>\n",
       "      <td>3809277309</td>\n",
       "      <td>24.0</td>\n",
       "    </tr>\n",
       "    <tr>\n",
       "      <th>191</th>\n",
       "      <td>gs://ext-kiwi-excl-stat/stats/y=2020/m=07/d=10</td>\n",
       "      <td>88153796</td>\n",
       "      <td>84926755</td>\n",
       "      <td>1.0</td>\n",
       "    </tr>\n",
       "  </tbody>\n",
       "</table>\n",
       "<p>192 rows × 4 columns</p>\n",
       "</div>"
      ],
      "text/plain": [
       "                                                src  KiwiItinAcc  \\\n",
       "0    gs://ext-kiwi-excl-stat/stats/y=2020/m=01/d=01  13527474991   \n",
       "1    gs://ext-kiwi-excl-stat/stats/y=2020/m=01/d=02  16479765967   \n",
       "2    gs://ext-kiwi-excl-stat/stats/y=2020/m=01/d=03  15881726341   \n",
       "3    gs://ext-kiwi-excl-stat/stats/y=2020/m=01/d=04  15105089513   \n",
       "4    gs://ext-kiwi-excl-stat/stats/y=2020/m=01/d=05  16126082963   \n",
       "..                                              ...          ...   \n",
       "187  gs://ext-kiwi-excl-stat/stats/y=2020/m=07/d=06   4469529515   \n",
       "188  gs://ext-kiwi-excl-stat/stats/y=2020/m=07/d=07   4292127234   \n",
       "189  gs://ext-kiwi-excl-stat/stats/y=2020/m=07/d=08   4358654655   \n",
       "190  gs://ext-kiwi-excl-stat/stats/y=2020/m=07/d=09   3983443146   \n",
       "191  gs://ext-kiwi-excl-stat/stats/y=2020/m=07/d=10     88153796   \n",
       "\n",
       "     AirbusItinAcc  FileCount  \n",
       "0      13061634274       24.0  \n",
       "1      15901820917       24.0  \n",
       "2      15319689818       24.0  \n",
       "3      14563466749       24.0  \n",
       "4      15530736475       24.0  \n",
       "..             ...        ...  \n",
       "187     4283896556       24.0  \n",
       "188     4112286938       24.0  \n",
       "189     4176207584       24.0  \n",
       "190     3809277309       24.0  \n",
       "191       84926755        1.0  \n",
       "\n",
       "[192 rows x 4 columns]"
      ]
     },
     "execution_count": 233,
     "metadata": {},
     "output_type": "execute_result"
    }
   ],
   "source": [
    "kiwi_stats"
   ]
  },
  {
   "cell_type": "code",
   "execution_count": 229,
   "metadata": {},
   "outputs": [],
   "source": [
    "kiwi_stats[\"alert\"] = np.where( abs(kiwi_stats[\"KiwiItinAcc\"].pct_change(7)) > 0.1, \"Yes\", \"No\")\n",
    "kiwi_stats[\"change\"] = kiwi_stats[\"KiwiItinAcc\"].pct_change(7)"
   ]
  },
  {
   "cell_type": "code",
   "execution_count": 230,
   "metadata": {},
   "outputs": [
    {
     "data": {
      "text/html": [
       "<div>\n",
       "<style scoped>\n",
       "    .dataframe tbody tr th:only-of-type {\n",
       "        vertical-align: middle;\n",
       "    }\n",
       "\n",
       "    .dataframe tbody tr th {\n",
       "        vertical-align: top;\n",
       "    }\n",
       "\n",
       "    .dataframe thead th {\n",
       "        text-align: right;\n",
       "    }\n",
       "</style>\n",
       "<table border=\"1\" class=\"dataframe\">\n",
       "  <thead>\n",
       "    <tr style=\"text-align: right;\">\n",
       "      <th></th>\n",
       "      <th>src</th>\n",
       "      <th>KiwiItinAcc</th>\n",
       "      <th>AirbusItinAcc</th>\n",
       "      <th>FileCount</th>\n",
       "      <th>alert</th>\n",
       "      <th>change</th>\n",
       "    </tr>\n",
       "  </thead>\n",
       "  <tbody>\n",
       "    <tr>\n",
       "      <th>0</th>\n",
       "      <td>gs://ext-kiwi-excl-stat/stats/y=2020/m=01/d=01</td>\n",
       "      <td>13527474991</td>\n",
       "      <td>13061634274</td>\n",
       "      <td>24.0</td>\n",
       "      <td>No</td>\n",
       "      <td>NaN</td>\n",
       "    </tr>\n",
       "    <tr>\n",
       "      <th>1</th>\n",
       "      <td>gs://ext-kiwi-excl-stat/stats/y=2020/m=01/d=02</td>\n",
       "      <td>16479765967</td>\n",
       "      <td>15901820917</td>\n",
       "      <td>24.0</td>\n",
       "      <td>No</td>\n",
       "      <td>NaN</td>\n",
       "    </tr>\n",
       "    <tr>\n",
       "      <th>2</th>\n",
       "      <td>gs://ext-kiwi-excl-stat/stats/y=2020/m=01/d=03</td>\n",
       "      <td>15881726341</td>\n",
       "      <td>15319689818</td>\n",
       "      <td>24.0</td>\n",
       "      <td>No</td>\n",
       "      <td>NaN</td>\n",
       "    </tr>\n",
       "    <tr>\n",
       "      <th>3</th>\n",
       "      <td>gs://ext-kiwi-excl-stat/stats/y=2020/m=01/d=04</td>\n",
       "      <td>15105089513</td>\n",
       "      <td>14563466749</td>\n",
       "      <td>24.0</td>\n",
       "      <td>No</td>\n",
       "      <td>NaN</td>\n",
       "    </tr>\n",
       "    <tr>\n",
       "      <th>4</th>\n",
       "      <td>gs://ext-kiwi-excl-stat/stats/y=2020/m=01/d=05</td>\n",
       "      <td>16126082963</td>\n",
       "      <td>15530736475</td>\n",
       "      <td>24.0</td>\n",
       "      <td>No</td>\n",
       "      <td>NaN</td>\n",
       "    </tr>\n",
       "  </tbody>\n",
       "</table>\n",
       "</div>"
      ],
      "text/plain": [
       "                                              src  KiwiItinAcc  AirbusItinAcc  \\\n",
       "0  gs://ext-kiwi-excl-stat/stats/y=2020/m=01/d=01  13527474991    13061634274   \n",
       "1  gs://ext-kiwi-excl-stat/stats/y=2020/m=01/d=02  16479765967    15901820917   \n",
       "2  gs://ext-kiwi-excl-stat/stats/y=2020/m=01/d=03  15881726341    15319689818   \n",
       "3  gs://ext-kiwi-excl-stat/stats/y=2020/m=01/d=04  15105089513    14563466749   \n",
       "4  gs://ext-kiwi-excl-stat/stats/y=2020/m=01/d=05  16126082963    15530736475   \n",
       "\n",
       "   FileCount alert  change  \n",
       "0       24.0    No     NaN  \n",
       "1       24.0    No     NaN  \n",
       "2       24.0    No     NaN  \n",
       "3       24.0    No     NaN  \n",
       "4       24.0    No     NaN  "
      ]
     },
     "execution_count": 230,
     "metadata": {},
     "output_type": "execute_result"
    }
   ],
   "source": [
    "kiwi_stats.head()"
   ]
  },
  {
   "cell_type": "code",
   "execution_count": 231,
   "metadata": {},
   "outputs": [
    {
     "name": "stderr",
     "output_type": "stream",
     "text": [
      "1it [00:02,  2.69s/it]\n"
     ]
    }
   ],
   "source": [
    "\n",
    "kiwi_stats.to_gbq(destination_table='compliance_dashboard_IN1194.kiwi_stats_alert',\n",
    "                               project_id='skytra-benchmark-rnd', if_exists = 'replace')"
   ]
  }
 ],
 "metadata": {
  "kernelspec": {
   "display_name": "Python 3",
   "language": "python",
   "name": "python3"
  },
  "language_info": {
   "codemirror_mode": {
    "name": "ipython",
    "version": 3
   },
   "file_extension": ".py",
   "mimetype": "text/x-python",
   "name": "python",
   "nbconvert_exporter": "python",
   "pygments_lexer": "ipython3",
   "version": "3.7.6"
  }
 },
 "nbformat": 4,
 "nbformat_minor": 4
}
