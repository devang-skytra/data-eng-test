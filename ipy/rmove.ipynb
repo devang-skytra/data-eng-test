{
 "cells": [
  {
   "cell_type": "code",
   "execution_count": null,
   "metadata": {},
   "outputs": [],
   "source": [
    "import json\n",
    "import requests"
   ]
  },
  {
   "cell_type": "code",
   "execution_count": null,
   "metadata": {},
   "outputs": [],
   "source": []
  },
  {
   "cell_type": "code",
   "execution_count": null,
   "metadata": {},
   "outputs": [],
   "source": [
    "url = 'https://api.rightmove.co.uk/api/sale/find?index=0&sortType=1&numberOfPropertiesRequested=2&locationIdentifier=OUTCODE%5E1&apiApplication=IPAD'"
   ]
  },
  {
   "cell_type": "code",
   "execution_count": null,
   "metadata": {},
   "outputs": [],
   "source": [
    "\n",
    "r = requests.get(url)\n",
    "r.content"
   ]
  },
  {
   "cell_type": "code",
   "execution_count": null,
   "metadata": {},
   "outputs": [],
   "source": [
    "j = \"\"\"{\"result\":\"SUCCESS\",\"createDate\":1577357543197,\"localHomepages\":[],\"searchableLocation\":{\"identifier\":\"OUTCODE^1\",\"name\":\"AB10\",\"centreLatitude\":57.131627263213716,\"centreLongitude\":-2.1248694078097254},\"properties\":[{\"identifier\":85154840,\"visible\":true,\"price\":54950.0,\"priceQualifier\":\"Offers Over\",\"shouldShowPrice\":true,\"bedrooms\":null,\"address\":\"Ashvale Place, Aberdeen, AB10\",\"latitude\":57.141094,\"longitude\":-2.114167,\"showMap\":true,\"propertyType\":\"Studio flat\",\"development\":false,\"commercial\":false,\"updateDate\":1574762437000,\"autoEmailReasonType\":\"price_reduced\",\"transactionTypeId\":1,\"sortDate\":1574762434000,\"photoThumbnailUrl\":\"https://media.rightmove.co.uk/dir/152k/151100/85154840/151100_822950-1_IMG_01_0000_max_200x138.JPG\",\"photoLargeThumbnailUrl\":\"https://media.rightmove.co.uk/dir/152k/151100/85154840/151100_822950-1_IMG_01_0000_max_656x437.JPG\",\"photoCount\":9,\"floorplanCount\":1,\"branch\":{\"identifier\":151100,\"name\":\"covering Scotland\",\"brandName\":\"Purplebricks\",\"development\":false,\"updateDate\":1567313165000,\"branchLogo\":\"https://media.rightmove.co.uk/dir//brand/brand_rmchoice_logo_40924_0000.png\",\"brandPlusResale\":true,\"brandPlusLettings\":true,\"hideReducedPropsFlag\":false,\"address\":\"Suite 7, First Floor, Cranmore Drive,\\r\\nShirley,\\r\\nSolihull,\\r\\nB90 4RZ\",\"telephoneNumbers\":[{\"identifier\":null,\"label\":null,\"number\":\"02475 096890\",\"main\":null}],\"contactTelephoneNumber\":\"02475 096890\"},\"exactLocationAvailable\":false,\"status\":null,\"dateShortlisted\":null,\"premiumDisplay\":false,\"premiumDisplayStickerName\":\"\",\"premiumDisplayStyle\":26,\"photoThumbnail2Url\":null,\"photoThumbnail3Url\":null,\"photoThumbnail4Url\":null,\"orderFromServer\":0,\"showStreetView\":true,\"overseas\":false,\"letFurnishType\":null,\"summary\":\"We are pleased to offer for sale this well presented and spacious studio flat located on a quiet yet central street with no through traffic. This property is to be sold inclusive of furniture making it an ideal purchase for the discerning buyer with minimum fuss. The property is protected via a...\",\"showLettingFeesMessage\":false,\"saved\":false,\"displayPrices\":[{\"displayPrice\":\"£54,950\",\"displayPriceQualifier\":\"Offers Over\"}]},{\"identifier\":66282177,\"visible\":true,\"price\":55000.0,\"priceQualifier\":\"Offers in Excess of\",\"shouldShowPrice\":true,\"bedrooms\":1,\"address\":\"70 Ashvale Place, Aberdeen\",\"latitude\":57.140633,\"longitude\":-2.117464,\"showMap\":true,\"propertyType\":\"flat\",\"development\":false,\"commercial\":false,\"updateDate\":1574742387000,\"autoEmailReasonType\":\"new\",\"transactionTypeId\":1,\"sortDate\":1573234071000,\"photoThumbnailUrl\":\"https://media.rightmove.co.uk/dir/103k/102523/66282177/102523_10000078_IMG_01_0000_max_200x138.jpg\",\"photoLargeThumbnailUrl\":\"https://media.rightmove.co.uk/dir/103k/102523/66282177/102523_10000078_IMG_01_0000_max_656x437.jpg\",\"photoCount\":8,\"floorplanCount\":1,\"branch\":{\"identifier\":102523,\"name\":\"National\",\"brandName\":\"Sell Simple Estate Agency LTD\",\"development\":false,\"updateDate\":1573644646000,\"branchLogo\":\"https://media.rightmove.co.uk/dir//company/clogo_rmchoice_36808_0002.png\",\"brandPlusResale\":true,\"brandPlusLettings\":false,\"hideReducedPropsFlag\":false,\"address\":\"2c Southbridge House, \\r\\nSouthbridge Place,\\r\\nSouth Croydon,\\r\\nCR0 4HA \\r\\n\",\"telephoneNumbers\":[{\"identifier\":null,\"label\":null,\"number\":\"020 3757 6924\",\"main\":null}],\"contactTelephoneNumber\":\"020 3757 6924\"},\"exactLocationAvailable\":false,\"status\":null,\"dateShortlisted\":null,\"premiumDisplay\":false,\"premiumDisplayStickerName\":\"\",\"premiumDisplayStyle\":26,\"photoThumbnail2Url\":null,\"photoThumbnail3Url\":null,\"photoThumbnail4Url\":null,\"orderFromServer\":1,\"showStreetView\":true,\"overseas\":false,\"letFurnishType\":null,\"summary\":\"Great investment opportunity or first time buy! Light & airy first floor, one bedroom flat. This home offers a good sized reception room with ample space for a full range of lounge and dining room furniture, double bedroom and shower room.This property is located close to the city centre's wealth...\",\"showLettingFeesMessage\":false,\"saved\":false,\"displayPrices\":[{\"displayPrice\":\"£55,000\",\"displayPriceQualifier\":\"Offers in Excess of\"}]}],\"radius\":0.0,\"eastLongitude\":-2.093779676834112,\"westLongitude\":-2.1521447195440997,\"northLatitude\":57.151066684446135,\"southLatitude\":57.11598458332243,\"numReturnedResults\":2,\"totalAvailableResults\":53,\"transactionTypeId\":1,\"cacheTimeout\":15,\"featuredProperties\":[],\"isFeaturedAgentSwitchOn\":true,\"retrieveSavedSearchByFiltersResult\":{\"savedSearches\":[]}}\"\"\""
   ]
  },
  {
   "cell_type": "code",
   "execution_count": 16,
   "metadata": {},
   "outputs": [
    {
     "name": "stdout",
     "output_type": "stream",
     "text": [
      "4462\n",
      "4448\n"
     ]
    }
   ],
   "source": [
    "print(len(j))\n",
    "j2 = j.replace('\\r','').replace('\\n','')\n",
    "print(len(j2))\n",
    "js = json.loads(j2)"
   ]
  },
  {
   "cell_type": "code",
   "execution_count": 18,
   "metadata": {},
   "outputs": [
    {
     "data": {
      "text/plain": [
       "{'result': 'SUCCESS',\n",
       " 'createDate': 1577357543197,\n",
       " 'localHomepages': [],\n",
       " 'searchableLocation': {'identifier': 'OUTCODE^1',\n",
       "  'name': 'AB10',\n",
       "  'centreLatitude': 57.131627263213716,\n",
       "  'centreLongitude': -2.1248694078097254},\n",
       " 'properties': [{'identifier': 85154840,\n",
       "   'visible': True,\n",
       "   'price': 54950.0,\n",
       "   'priceQualifier': 'Offers Over',\n",
       "   'shouldShowPrice': True,\n",
       "   'bedrooms': None,\n",
       "   'address': 'Ashvale Place, Aberdeen, AB10',\n",
       "   'latitude': 57.141094,\n",
       "   'longitude': -2.114167,\n",
       "   'showMap': True,\n",
       "   'propertyType': 'Studio flat',\n",
       "   'development': False,\n",
       "   'commercial': False,\n",
       "   'updateDate': 1574762437000,\n",
       "   'autoEmailReasonType': 'price_reduced',\n",
       "   'transactionTypeId': 1,\n",
       "   'sortDate': 1574762434000,\n",
       "   'photoThumbnailUrl': 'https://media.rightmove.co.uk/dir/152k/151100/85154840/151100_822950-1_IMG_01_0000_max_200x138.JPG',\n",
       "   'photoLargeThumbnailUrl': 'https://media.rightmove.co.uk/dir/152k/151100/85154840/151100_822950-1_IMG_01_0000_max_656x437.JPG',\n",
       "   'photoCount': 9,\n",
       "   'floorplanCount': 1,\n",
       "   'branch': {'identifier': 151100,\n",
       "    'name': 'covering Scotland',\n",
       "    'brandName': 'Purplebricks',\n",
       "    'development': False,\n",
       "    'updateDate': 1567313165000,\n",
       "    'branchLogo': 'https://media.rightmove.co.uk/dir//brand/brand_rmchoice_logo_40924_0000.png',\n",
       "    'brandPlusResale': True,\n",
       "    'brandPlusLettings': True,\n",
       "    'hideReducedPropsFlag': False,\n",
       "    'address': 'Suite 7, First Floor, Cranmore Drive,Shirley,Solihull,B90 4RZ',\n",
       "    'telephoneNumbers': [{'identifier': None,\n",
       "      'label': None,\n",
       "      'number': '02475 096890',\n",
       "      'main': None}],\n",
       "    'contactTelephoneNumber': '02475 096890'},\n",
       "   'exactLocationAvailable': False,\n",
       "   'status': None,\n",
       "   'dateShortlisted': None,\n",
       "   'premiumDisplay': False,\n",
       "   'premiumDisplayStickerName': '',\n",
       "   'premiumDisplayStyle': 26,\n",
       "   'photoThumbnail2Url': None,\n",
       "   'photoThumbnail3Url': None,\n",
       "   'photoThumbnail4Url': None,\n",
       "   'orderFromServer': 0,\n",
       "   'showStreetView': True,\n",
       "   'overseas': False,\n",
       "   'letFurnishType': None,\n",
       "   'summary': 'We are pleased to offer for sale this well presented and spacious studio flat located on a quiet yet central street with no through traffic. This property is to be sold inclusive of furniture making it an ideal purchase for the discerning buyer with minimum fuss. The property is protected via a...',\n",
       "   'showLettingFeesMessage': False,\n",
       "   'saved': False,\n",
       "   'displayPrices': [{'displayPrice': '£54,950',\n",
       "     'displayPriceQualifier': 'Offers Over'}]},\n",
       "  {'identifier': 66282177,\n",
       "   'visible': True,\n",
       "   'price': 55000.0,\n",
       "   'priceQualifier': 'Offers in Excess of',\n",
       "   'shouldShowPrice': True,\n",
       "   'bedrooms': 1,\n",
       "   'address': '70 Ashvale Place, Aberdeen',\n",
       "   'latitude': 57.140633,\n",
       "   'longitude': -2.117464,\n",
       "   'showMap': True,\n",
       "   'propertyType': 'flat',\n",
       "   'development': False,\n",
       "   'commercial': False,\n",
       "   'updateDate': 1574742387000,\n",
       "   'autoEmailReasonType': 'new',\n",
       "   'transactionTypeId': 1,\n",
       "   'sortDate': 1573234071000,\n",
       "   'photoThumbnailUrl': 'https://media.rightmove.co.uk/dir/103k/102523/66282177/102523_10000078_IMG_01_0000_max_200x138.jpg',\n",
       "   'photoLargeThumbnailUrl': 'https://media.rightmove.co.uk/dir/103k/102523/66282177/102523_10000078_IMG_01_0000_max_656x437.jpg',\n",
       "   'photoCount': 8,\n",
       "   'floorplanCount': 1,\n",
       "   'branch': {'identifier': 102523,\n",
       "    'name': 'National',\n",
       "    'brandName': 'Sell Simple Estate Agency LTD',\n",
       "    'development': False,\n",
       "    'updateDate': 1573644646000,\n",
       "    'branchLogo': 'https://media.rightmove.co.uk/dir//company/clogo_rmchoice_36808_0002.png',\n",
       "    'brandPlusResale': True,\n",
       "    'brandPlusLettings': False,\n",
       "    'hideReducedPropsFlag': False,\n",
       "    'address': '2c Southbridge House, Southbridge Place,South Croydon,CR0 4HA ',\n",
       "    'telephoneNumbers': [{'identifier': None,\n",
       "      'label': None,\n",
       "      'number': '020 3757 6924',\n",
       "      'main': None}],\n",
       "    'contactTelephoneNumber': '020 3757 6924'},\n",
       "   'exactLocationAvailable': False,\n",
       "   'status': None,\n",
       "   'dateShortlisted': None,\n",
       "   'premiumDisplay': False,\n",
       "   'premiumDisplayStickerName': '',\n",
       "   'premiumDisplayStyle': 26,\n",
       "   'photoThumbnail2Url': None,\n",
       "   'photoThumbnail3Url': None,\n",
       "   'photoThumbnail4Url': None,\n",
       "   'orderFromServer': 1,\n",
       "   'showStreetView': True,\n",
       "   'overseas': False,\n",
       "   'letFurnishType': None,\n",
       "   'summary': \"Great investment opportunity or first time buy! Light & airy first floor, one bedroom flat. This home offers a good sized reception room with ample space for a full range of lounge and dining room furniture, double bedroom and shower room.This property is located close to the city centre's wealth...\",\n",
       "   'showLettingFeesMessage': False,\n",
       "   'saved': False,\n",
       "   'displayPrices': [{'displayPrice': '£55,000',\n",
       "     'displayPriceQualifier': 'Offers in Excess of'}]}],\n",
       " 'radius': 0.0,\n",
       " 'eastLongitude': -2.093779676834112,\n",
       " 'westLongitude': -2.1521447195440997,\n",
       " 'northLatitude': 57.151066684446135,\n",
       " 'southLatitude': 57.11598458332243,\n",
       " 'numReturnedResults': 2,\n",
       " 'totalAvailableResults': 53,\n",
       " 'transactionTypeId': 1,\n",
       " 'cacheTimeout': 15,\n",
       " 'featuredProperties': [],\n",
       " 'isFeaturedAgentSwitchOn': True,\n",
       " 'retrieveSavedSearchByFiltersResult': {'savedSearches': []}}"
      ]
     },
     "execution_count": 18,
     "metadata": {},
     "output_type": "execute_result"
    }
   ],
   "source": [
    "js"
   ]
  },
  {
   "cell_type": "code",
   "execution_count": 24,
   "metadata": {},
   "outputs": [
    {
     "name": "stdout",
     "output_type": "stream",
     "text": [
      "54950.0  Ashvale Place, Aberdeen, AB10  Studio flat  price_reduced\n",
      "55000.0  70 Ashvale Place, Aberdeen  flat  new\n"
     ]
    }
   ],
   "source": [
    "for p in js['properties']:\n",
    "    print(str(p['price']) + '  ' + p['address'] + '  ' + p['propertyType'] + '  ' + p['autoEmailReasonType'] )"
   ]
  },
  {
   "cell_type": "code",
   "execution_count": null,
   "metadata": {},
   "outputs": [],
   "source": []
  }
 ],
 "metadata": {
  "kernelspec": {
   "display_name": "Python 3",
   "language": "python",
   "name": "python3"
  },
  "language_info": {
   "codemirror_mode": {
    "name": "ipython",
    "version": 3
   },
   "file_extension": ".py",
   "mimetype": "text/x-python",
   "name": "python",
   "nbconvert_exporter": "python",
   "pygments_lexer": "ipython3",
   "version": "3.7.4"
  }
 },
 "nbformat": 4,
 "nbformat_minor": 2
}
