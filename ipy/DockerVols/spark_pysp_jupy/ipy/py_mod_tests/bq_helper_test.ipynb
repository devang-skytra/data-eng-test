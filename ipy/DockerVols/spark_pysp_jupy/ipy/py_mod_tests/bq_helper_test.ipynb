{
 "cells": [
  {
   "cell_type": "code",
   "execution_count": 1,
   "metadata": {},
   "outputs": [],
   "source": [
    "# !pip ensure installed into current Jupyter venv\n",
    "\n",
    "# !pip install google.cloud"
   ]
  },
  {
   "cell_type": "code",
   "execution_count": 2,
   "metadata": {},
   "outputs": [],
   "source": [
    "# !pip install google.cloud.storage"
   ]
  },
  {
   "cell_type": "code",
   "execution_count": 3,
   "metadata": {},
   "outputs": [],
   "source": [
    "# !pip install google.cloud.bigquery"
   ]
  },
  {
   "cell_type": "code",
   "execution_count": 4,
   "metadata": {},
   "outputs": [],
   "source": [
    "from google.cloud import bigquery"
   ]
  },
  {
   "cell_type": "code",
   "execution_count": 5,
   "metadata": {},
   "outputs": [],
   "source": [
    "import sys, os\n",
    "from os.path import dirname, abspath\n",
    "\n",
    "top = dirname(dirname(dirname(abspath(__name__)))) \n",
    "sys.path.append(os.path.join(top, 'py_modules'))\n",
    "# sys.path.append(os.path.join(top, 'keys'))\n",
    "\n",
    "\n",
    "import bq_helper"
   ]
  },
  {
   "cell_type": "code",
   "execution_count": 19,
   "metadata": {},
   "outputs": [],
   "source": [
    "# test __init__(self, proj_id, cred_fullpath = None):\n",
    "# proj_id = 'prj-sbe'\n",
    "proj_id = 'forfree-288615'\n",
    "region = 'eu'\n",
    "bq = bq_helper.bqh(\n",
    "        proj_id,\n",
    "        region,\n",
    "        os.path.join(top, 'keys', 'forfree-usvc-dataproc.json')\n",
    "        )"
   ]
  },
  {
   "cell_type": "code",
   "execution_count": 20,
   "metadata": {},
   "outputs": [
    {
     "name": "stderr",
     "output_type": "stream",
     "text": [
      "/opt/conda/lib/python3.8/site-packages/google/cloud/bigquery/client.py:440: UserWarning: Cannot create BigQuery Storage client, the dependency google-cloud-bigquery-storage is not installed.\n",
      "  warnings.warn(\n"
     ]
    },
    {
     "data": {
      "text/html": [
       "<div>\n",
       "<style scoped>\n",
       "    .dataframe tbody tr th:only-of-type {\n",
       "        vertical-align: middle;\n",
       "    }\n",
       "\n",
       "    .dataframe tbody tr th {\n",
       "        vertical-align: top;\n",
       "    }\n",
       "\n",
       "    .dataframe thead th {\n",
       "        text-align: right;\n",
       "    }\n",
       "</style>\n",
       "<table border=\"1\" class=\"dataframe\">\n",
       "  <thead>\n",
       "    <tr style=\"text-align: right;\">\n",
       "      <th></th>\n",
       "      <th>catalog_name</th>\n",
       "      <th>schema_name</th>\n",
       "      <th>schema_owner</th>\n",
       "      <th>creation_time</th>\n",
       "      <th>last_modified_time</th>\n",
       "      <th>location</th>\n",
       "    </tr>\n",
       "  </thead>\n",
       "  <tbody>\n",
       "    <tr>\n",
       "      <th>0</th>\n",
       "      <td>forfree-288615</td>\n",
       "      <td>inf_sch_us</td>\n",
       "      <td>None</td>\n",
       "      <td>2020-09-26 15:22:25.939000+00:00</td>\n",
       "      <td>2020-09-26 15:22:25.939000+00:00</td>\n",
       "      <td>US</td>\n",
       "    </tr>\n",
       "    <tr>\n",
       "      <th>1</th>\n",
       "      <td>forfree-288615</td>\n",
       "      <td>aaa_Crush</td>\n",
       "      <td>None</td>\n",
       "      <td>2020-10-01 12:55:17.740000+00:00</td>\n",
       "      <td>2020-10-01 12:55:17.740000+00:00</td>\n",
       "      <td>US</td>\n",
       "    </tr>\n",
       "  </tbody>\n",
       "</table>\n",
       "</div>"
      ],
      "text/plain": [
       "     catalog_name schema_name schema_owner                    creation_time  \\\n",
       "0  forfree-288615  inf_sch_us         None 2020-09-26 15:22:25.939000+00:00   \n",
       "1  forfree-288615   aaa_Crush         None 2020-10-01 12:55:17.740000+00:00   \n",
       "\n",
       "                last_modified_time location  \n",
       "0 2020-09-26 15:22:25.939000+00:00       US  \n",
       "1 2020-10-01 12:55:17.740000+00:00       US  "
      ]
     },
     "execution_count": 20,
     "metadata": {},
     "output_type": "execute_result"
    }
   ],
   "source": [
    "bq.run_qry(f'select * from `{proj_id}`.INFORMATION_SCHEMA.SCHEMATA')"
   ]
  },
  {
   "cell_type": "code",
   "execution_count": null,
   "metadata": {},
   "outputs": [],
   "source": [
    "# bq.run_qry('select * from dbt_raw_data.aisles')"
   ]
  }
 ],
 "metadata": {
  "kernelspec": {
   "display_name": "Python 3",
   "language": "python",
   "name": "python3"
  },
  "language_info": {
   "codemirror_mode": {
    "name": "ipython",
    "version": 3
   },
   "file_extension": ".py",
   "mimetype": "text/x-python",
   "name": "python",
   "nbconvert_exporter": "python",
   "pygments_lexer": "ipython3",
   "version": "3.8.5"
  }
 },
 "nbformat": 4,
 "nbformat_minor": 4
}
