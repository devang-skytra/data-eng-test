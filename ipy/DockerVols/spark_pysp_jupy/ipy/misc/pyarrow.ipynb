{
 "cells": [
  {
   "cell_type": "code",
   "execution_count": 5,
   "metadata": {},
   "outputs": [
    {
     "ename": "NameError",
     "evalue": "name 'sc' is not defined",
     "output_type": "error",
     "traceback": [
      "\u001b[0;31m---------------------------------------------------------------------------\u001b[0m",
      "\u001b[0;31mNameError\u001b[0m                                 Traceback (most recent call last)",
      "\u001b[0;32m<ipython-input-5-3d529b74a137>\u001b[0m in \u001b[0;36m<module>\u001b[0;34m\u001b[0m\n\u001b[1;32m      3\u001b[0m \u001b[0;31m# List sc's attributes\u001b[0m\u001b[0;34m\u001b[0m\u001b[0;34m\u001b[0m\u001b[0;34m\u001b[0m\u001b[0m\n\u001b[1;32m      4\u001b[0m \u001b[0;31m# dir(sc)\u001b[0m\u001b[0;34m\u001b[0m\u001b[0;34m\u001b[0m\u001b[0;34m\u001b[0m\u001b[0m\n\u001b[0;32m----> 5\u001b[0;31m \u001b[0mprint\u001b[0m \u001b[0;34m(\u001b[0m\u001b[0msc\u001b[0m\u001b[0;34m.\u001b[0m\u001b[0mversion\u001b[0m\u001b[0;34m)\u001b[0m\u001b[0;34m\u001b[0m\u001b[0;34m\u001b[0m\u001b[0m\n\u001b[0m",
      "\u001b[0;31mNameError\u001b[0m: name 'sc' is not defined"
     ]
    }
   ],
   "source": [
    "# type(sc)\n",
    "# type(spark)\n",
    "# List sc's attributes\n",
    "# dir(sc)\n",
    "print (sc.version)"
   ]
  },
  {
   "cell_type": "code",
   "execution_count": null,
   "metadata": {},
   "outputs": [],
   "source": [
    "# conda install pyarrow\n",
    "import pyarrow.parquet as pq\n",
    "import datetime\n",
    "\n",
    "#BKT = sys.argv[1]\n",
    "#KEY = sys.argv[2]\n",
    "#s3 = s3fs.S3FileSystem()\n",
    "\n",
    "print(datetime.datetime.now().time())\n",
    "pa_tbl = pq.ParquetDataset('ecu_groc.parquet').read()\n",
    "print(pa_tbl.columns)"
   ]
  },
  {
   "cell_type": "code",
   "execution_count": 3,
   "metadata": {},
   "outputs": [
    {
     "ename": "AttributeError",
     "evalue": "'pyarrow.lib.Table' object has no attribute 'metadata'",
     "output_type": "error",
     "traceback": [
      "\u001b[0;31m---------------------------------------------------------------------------\u001b[0m",
      "\u001b[0;31mAttributeError\u001b[0m                            Traceback (most recent call last)",
      "\u001b[0;32m<ipython-input-3-9010100ff620>\u001b[0m in \u001b[0;36m<module>\u001b[0;34m\u001b[0m\n\u001b[0;32m----> 1\u001b[0;31m \u001b[0mpa_tbl\u001b[0m\u001b[0;34m.\u001b[0m\u001b[0mmetadata\u001b[0m\u001b[0;34m\u001b[0m\u001b[0;34m\u001b[0m\u001b[0m\n\u001b[0m",
      "\u001b[0;31mAttributeError\u001b[0m: 'pyarrow.lib.Table' object has no attribute 'metadata'"
     ]
    }
   ],
   "source": [
    "pa_tbl.metadata"
   ]
  },
  {
   "cell_type": "code",
   "execution_count": null,
   "metadata": {},
   "outputs": [],
   "source": [
    "#https://www.confessionsofadataguy.com/python-and-apache-parquet-yes-please/\n",
    "\n",
    "import pandas\n",
    "\n",
    "#dataframe = pandas.read_csv('crimes.csv')\n",
    "\n",
    "\n",
    "#dataframe.to_parquet('crimes.snappy.parquet' ,engine='auto', compression='snappy')\n",
    "\n",
    "#data = pq.read_pandas('crimes.snappy.parquet', columns=['ID', 'Date', 'Description']).to_pandas()\n",
    "#print data\n",
    "\n",
    "\n",
    "\n",
    "data = pq.read_table('crimes.snappy.parquet', columns=['ID', 'Date', 'Description'])\n",
    "pq.write_to_dataset(data, root_path='dataset', partition_cols=['Date'])\n",
    "#And shortly thereafter, your files are there partitioned as requested."
   ]
  },
  {
   "cell_type": "code",
   "execution_count": null,
   "metadata": {},
   "outputs": [],
   "source": [
    "#https://towardsdatascience.com/a-gentle-introduction-to-apache-arrow-with-apache-spark-and-pandas-bb19ffe0ddae\n",
    "\n",
    "#To avoid pandas index use following syntax\n",
    "#  table = pa.Table.from_pandas(df, preserve_index=False)\n",
    "#Remember Pandas use nanoseconds so you can truncate in milliseconds for compatibility\n",
    "#  pq.write_table(table, where, coerce_timestamps='ms', allow_truncated_timestamps=True)\n",
    "\n",
    "#pa_tbl.metadata\n",
    "#pa_tbl.schema\n",
    "\n",
    "#HDFS\n",
    "#import pyarrow as pa\n",
    "#host = '1970.x.x.x'\n",
    "#port = 8022\n",
    "#fs = pa.hdfs.connect(host, port)\n",
    "\n",
    "#Internal Connection\n",
    "#fs = pa.hdfs.connect()"
   ]
  }
 ],
 "metadata": {
  "kernelspec": {
   "display_name": "Python 3",
   "language": "python",
   "name": "python3"
  },
  "language_info": {
   "codemirror_mode": {
    "name": "ipython",
    "version": 3
   },
   "file_extension": ".py",
   "mimetype": "text/x-python",
   "name": "python",
   "nbconvert_exporter": "python",
   "pygments_lexer": "ipython3",
   "version": "3.8.5"
  }
 },
 "nbformat": 4,
 "nbformat_minor": 2
}
