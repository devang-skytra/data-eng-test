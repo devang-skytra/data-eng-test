{
 "cells": [
  {
   "cell_type": "code",
   "execution_count": 1,
   "metadata": {},
   "outputs": [
    {
     "name": "stdout",
     "output_type": "stream",
     "text": [
      "+----+\n",
      "|  c1|\n",
      "+----+\n",
      "|Test|\n",
      "+----+\n",
      "\n"
     ]
    }
   ],
   "source": [
    "from pyspark.sql import SparkSession\n",
    "spark = SparkSession.builder.appName(\"SimpleApp\").getOrCreate()\n",
    "# do something to prove it works\n",
    "spark.sql('SELECT \"Test\" as c1').show()\n",
    "\n",
    "spark = SparkSession.builder.getOrCreate()\n",
    "sqlContext = SQLContext(spark.sparkContext)\n",
    "df = sqlContext.read.csv(input_filename)\n",
    "df.write.parquet(output_path)"
   ]
  },
  {
   "cell_type": "code",
   "execution_count": 3,
   "metadata": {},
   "outputs": [
    {
     "name": "stdout",
     "output_type": "stream",
     "text": [
      "<SparkContext master=local[*] appName=SimpleApp>\n"
     ]
    }
   ],
   "source": [
    "print(spark.sparkContext)"
   ]
  },
  {
   "cell_type": "code",
   "execution_count": 4,
   "metadata": {},
   "outputs": [
    {
     "name": "stdout",
     "output_type": "stream",
     "text": [
      "<pyspark.sql.catalog.Catalog object at 0x7fedd6e092b0>\n"
     ]
    }
   ],
   "source": [
    "print(spark.catalog)"
   ]
  },
  {
   "cell_type": "code",
   "execution_count": 1,
   "metadata": {},
   "outputs": [],
   "source": [
    "# type(sc)\n",
    "type(spark)\n",
    "# List sc's attributes\n",
    "# dir(sc)"
   ]
  },
  {
   "cell_type": "code",
   "execution_count": 2,
   "metadata": {},
   "outputs": [],
   "source": [
    "# help(sc)\n",
    "print (sc.version)"
   ]
  },
  {
   "cell_type": "code",
   "execution_count": 3,
   "metadata": {},
   "outputs": [],
   "source": [
    "#dbutils.fs.mount(\n",
    "#  source = \"wasbs://<your-container-name>@<your-storage-account-name>.blob.core.windows.net\",\n",
    "#  mount_point = \"/mnt/<mount-name>\",\n",
    "#  extra_configs = {\"<conf-key>\":dbutils.secrets.get(scope = \"<scope-name>\", key = \"<key-name>\")})\n",
    "\n",
    "# Use Approach 3 from https://tsmatz.github.io/azure-databricks-exercise/exercise01-blob.html ie\n",
    "# --------------------------------------------------------------------------------------------------------\n",
    "#1 Create AAD AppReg/(Service Principle Account SPA name = pdtest rg app reg, client-id = 1f46a8fc-b197-41b0-942d-5aa15bf482f7) with ClientSecret (I called mine pdtest-appreg-secret) \n",
    "#2 Immediately put the Secret into a Key vault as a secret (I called mine vault-pdtest-appreg-secret), because only get one choice to view/copy that SPA secret\n",
    "#3 Give that SPA \"Storage Blob Data Contributor\" role in IAM for Storage Acct (could also give whole RG permissions etc)\n",
    "#4 Go to https://ukwest.azuredatabricks.net/?o=8385949688125694#secrets/createScope and create a Scope (I called mine SPA) for the Key vault in 2)\n",
    "\n",
    "#sp_secret = dbutils.secrets.get(scope = \"SPA\", key = \"vault-pdtest-appreg-secret\")\n",
    "\n",
    "#configs = {\"fs.azure.account.auth.type\": \"OAuth\",\n",
    "#           \"fs.azure.account.oauth.provider.type\": \"org.apache.hadoop.fs.azurebfs.oauth2.ClientCredsTokenProvider\",\n",
    "#           \"fs.azure.account.oauth2.client.id\": \"1f46a8fc-b197-41b0-942d-5aa15bf482f7\",\n",
    "#           \"fs.azure.account.oauth2.client.secret\": sp_secret,\n",
    "#           \"fs.azure.account.oauth2.client.endpoint\": \"https://login.microsoftonline.com/microsoft.onmicrosoft.com/oauth2/token\"}\n",
    "#           #\"fs.azure.account.oauth2.client.endpoint\": \"https://login.microsoftonline.com/microsoft.onmicrosoft.com/oauth2/token\"}\n",
    "# abfss is az blob (extra s for secure) while wasbs is web based\n",
    "\n",
    "dbutils.fs.mount(\n",
    "  source = \"abfss://land-reg@pdstdgpv1lrs.blob.core.windows.net\",\n",
    "  mount_point = \"/mnt/land-reg\",\n",
    "  extra_configs = {\"fs.azure.account.key.pdstdgpv1lrs.blob.core.windows.net\":dbutils.secrets.get(scope = \"SPA\", key = \"vault-pdtest-appreg-secret2\")})\n",
    "# error IllegalArgumentException: The String is not a valid Base64-encoded string\n",
    "\n",
    "# spark.conf.set(\"fs.azure.account.key.pdstdgpv1lrs.blob.core.windows.net\",  \"<storage account key>\")\n",
    "\n",
    "# dbutils.fs.unmount(\"/mnt/<mount-name>\")"
   ]
  },
  {
   "cell_type": "code",
   "execution_count": 4,
   "metadata": {},
   "outputs": [],
   "source": [
    "#code for going direct\n",
    "# dfFilenames = dbutils.fs.ls(\"wasbs://land-reg@pdstdgpv1lrs.blob.core.windows.net/FirstLandRegFile.json\")\n",
    "dfj = spark.read.json(\"wasbs://land-reg@pdstdgpv1lrs.blob.core.windows.net/FirstLandRegFile.json\")\n",
    "display(dfj) #display is an action therefore creates spark job\n",
    "\n",
    "import pyspark.sql.functions as f\n",
    "json_schema = spark.read.json(dfj.rdd.map(lambda row: row.json)).schema\n",
    "dfj.withColumn('json', f.from_json(f.col('json'), json_schema))"
   ]
  },
  {
   "cell_type": "code",
   "execution_count": 5,
   "metadata": {},
   "outputs": [],
   "source": [
    "df = spark.read.csv(\"wasbs://land-misc@pdstdgpv1lrs.blob.core.windows.net/open_postcode_geo_TINY.csv.gz\")\n",
    "display(df) #display is an action therefore creates spark job"
   ]
  },
  {
   "cell_type": "code",
   "execution_count": 6,
   "metadata": {},
   "outputs": [],
   "source": [
    "# display(df.schema.names)\n",
    "df.printSchema()"
   ]
  },
  {
   "cell_type": "code",
   "execution_count": 7,
   "metadata": {},
   "outputs": [],
   "source": [
    "df1 = df.filter(\"_c6 = 'Scotland' and _c5 != 1\").select(\"_c0\",\"_c1\").distinct()"
   ]
  },
  {
   "cell_type": "code",
   "execution_count": 8,
   "metadata": {},
   "outputs": [],
   "source": [
    "host = \"pddemodw.database.windows.net:1433\"\n",
    "db   = \"demo_db\"\n",
    "user = \"pdtest_sa@pddemodw\"\n",
    "pwd  = dbutils.secrets.get(scope = \"SPA\", key = \"vault-rg-pdtest-sqlsa\")\n",
    "\n",
    "\n",
    "#url = \"jdbc:sqlserver://$host;database=$db;user=$user;password=$pwd;encrypt=true;trustServerCertificate=false;hostNameInCertificate=*.database.windows.net;loginTimeout=30;\"\n",
    "url = \"jdbc:sqlserver://\" + host + \";database=\" + db + \";user=\" + user + \";password=\" + pwd + \";encrypt=true;trustServerCertificate=false;hostNameInCertificate=*.database.windows.net;loginTimeout=30;\"\n",
    "# print(url)\n",
    "\n",
    "jdbcDF = spark.read.jdbc(url, \"land.postcode_stage\")\n"
   ]
  },
  {
   "cell_type": "code",
   "execution_count": 9,
   "metadata": {},
   "outputs": [],
   "source": [
    "jdbcDF.count()"
   ]
  },
  {
   "cell_type": "code",
   "execution_count": 10,
   "metadata": {},
   "outputs": [],
   "source": [
    "# Explain plan with no column selection returns all columns\n",
    "#dfSE1 = spark.read.jdbc(url, \"land.postcode_stage\").select(\"postcode\").where(\"outcode = 'AB1'\")\n",
    "spark.read.jdbc(url, \"land.postcode_stage\").select(\"postcode\").where(\"outcode = 'AB1'\").explain()\n",
    "\n",
    "# display(dfSE1)\n",
    "# dfSE1.count()"
   ]
  },
  {
   "cell_type": "code",
   "execution_count": 11,
   "metadata": {},
   "outputs": [],
   "source": [
    "spark.read.jdbc(url, \"(select postcode from land.postcode_stage where outcode = 'AB1') v\").explain()"
   ]
  },
  {
   "cell_type": "code",
   "execution_count": 12,
   "metadata": {},
   "outputs": [
    {
     "data": {
      "text/html": [
       "<style scoped>\n",
       "  .ansiout {\n",
       "    display: block;\n",
       "    unicode-bidi: embed;\n",
       "    white-space: pre-wrap;\n",
       "    word-wrap: break-word;\n",
       "    word-break: break-all;\n",
       "    font-family: \"Source Code Pro\", \"Menlo\", monospace;;\n",
       "    font-size: 13px;\n",
       "    color: #555;\n",
       "    margin-left: 4px;\n",
       "    line-height: 19px;\n",
       "  }\n",
       "</style>\n",
       "<div class=\"ansiout\"></div>"
      ]
     },
     "metadata": {},
     "output_type": "display_data"
    }
   ],
   "source": [
    "df1.write.jdbc(url, \"scotland\")"
   ]
  }
 ],
 "metadata": {
  "kernelspec": {
   "display_name": "Python 3",
   "language": "python",
   "name": "python3"
  },
  "language_info": {
   "codemirror_mode": {
    "name": "ipython",
    "version": 3
   },
   "file_extension": ".py",
   "mimetype": "text/x-python",
   "name": "python",
   "nbconvert_exporter": "python",
   "pygments_lexer": "ipython3",
   "version": "3.8.5"
  },
  "name": "LandData_ETL",
  "notebookId": 1517038918228036
 },
 "nbformat": 4,
 "nbformat_minor": 1
}
