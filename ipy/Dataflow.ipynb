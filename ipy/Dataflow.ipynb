{
 "cells": [
  {
   "cell_type": "code",
   "execution_count": 32,
   "metadata": {},
   "outputs": [
    {
     "ename": "SyntaxError",
     "evalue": "invalid syntax (<ipython-input-32-f925731930b6>, line 1)",
     "output_type": "error",
     "traceback": [
      "\u001b[1;36m  File \u001b[1;32m\"<ipython-input-32-f925731930b6>\"\u001b[1;36m, line \u001b[1;32m1\u001b[0m\n\u001b[1;33m    python -m apache_beam.examples.wordcount --output outputs\u001b[0m\n\u001b[1;37m                        ^\u001b[0m\n\u001b[1;31mSyntaxError\u001b[0m\u001b[1;31m:\u001b[0m invalid syntax\n"
     ]
    }
   ],
   "source": [
    "python -m apache_beam.examples.wordcount --output outputs"
   ]
  },
  {
   "cell_type": "code",
   "execution_count": 31,
   "metadata": {},
   "outputs": [
    {
     "ename": "NameError",
     "evalue": "name 'Row' is not defined",
     "output_type": "error",
     "traceback": [
      "\u001b[1;31m---------------------------------------------------------------------------\u001b[0m",
      "\u001b[1;31mNameError\u001b[0m                                 Traceback (most recent call last)",
      "\u001b[1;32m<ipython-input-31-aca33e7b0417>\u001b[0m in \u001b[0;36m<module>\u001b[1;34m\u001b[0m\n\u001b[1;32m----> 1\u001b[1;33m r = Row(\n\u001b[0m\u001b[0;32m      2\u001b[0m     ('f2c04e14b917f7c8c6be50d420acdf0509ce03f956dfffed476122a5ec6720f6a7165aaecc009ed3d179f3eec58fb84cb6c9030dfe32f8569f9bd58afe79be5f', \n\u001b[0;32m      3\u001b[0m      \u001b[1;36m18.5\u001b[0m\u001b[1;33m,\u001b[0m\u001b[1;33m\u001b[0m\u001b[1;33m\u001b[0m\u001b[0m\n\u001b[0;32m      4\u001b[0m      \u001b[1;36m4320\u001b[0m\u001b[1;33m\u001b[0m\u001b[1;33m\u001b[0m\u001b[0m\n\u001b[0;32m      5\u001b[0m     ), \n",
      "\u001b[1;31mNameError\u001b[0m: name 'Row' is not defined"
     ]
    }
   ],
   "source": [
    "r = Row(\n",
    "    ('f2c04e14b917f7c8c6be50d420acdf0509ce03f956dfffed476122a5ec6720f6a7165aaecc009ed3d179f3eec58fb84cb6c9030dfe32f8569f9bd58afe79be5f', \n",
    "     18.5, \n",
    "     4320\n",
    "    ), \n",
    "    {'taxi_id': 0, 'trip_miles': 1, 'trip_seconds': 2}\n",
    ")"
   ]
  },
  {
   "cell_type": "code",
   "execution_count": 2,
   "metadata": {},
   "outputs": [],
   "source": [
    "t = (('f2c04e14b917f7c8c6be50d420acdf0509ce03f956dfffed476122a5ec6720f6a7165aaecc009ed3d179f3eec58fb84cb6c9030dfe32f8569f9bd58afe79be5f', 18.5, 4320), {'taxi_id': 0, 'trip_miles': 1, 'trip_seconds': 2})"
   ]
  },
  {
   "cell_type": "code",
   "execution_count": 30,
   "metadata": {},
   "outputs": [
    {
     "data": {
      "text/plain": [
       "dict"
      ]
     },
     "execution_count": 30,
     "metadata": {},
     "output_type": "execute_result"
    }
   ],
   "source": [
    "type(t[1])"
   ]
  },
  {
   "cell_type": "code",
   "execution_count": 6,
   "metadata": {},
   "outputs": [
    {
     "name": "stdout",
     "output_type": "stream",
     "text": [
      "('f2c04e14b917f7c8c6be50d420acdf0509ce03f956dfffed476122a5ec6720f6a7165aaecc009ed3d179f3eec58fb84cb6c9030dfe32f8569f9bd58afe79be5f', 18.5, 4320)\n",
      "{'taxi_id': 0, 'trip_miles': 1, 'trip_seconds': 2}\n"
     ]
    }
   ],
   "source": [
    "for x in t:\n",
    "    print(x)"
   ]
  },
  {
   "cell_type": "code",
   "execution_count": 13,
   "metadata": {},
   "outputs": [
    {
     "data": {
      "text/plain": [
       "dict"
      ]
     },
     "execution_count": 13,
     "metadata": {},
     "output_type": "execute_result"
    }
   ],
   "source": [
    "type(t[1]) # is dict\n",
    "#['taxi_id']"
   ]
  },
  {
   "cell_type": "code",
   "execution_count": 24,
   "metadata": {},
   "outputs": [
    {
     "data": {
      "text/plain": [
       "1"
      ]
     },
     "execution_count": 24,
     "metadata": {},
     "output_type": "execute_result"
    }
   ],
   "source": [
    "t = (('f2c04e14b917f7c8c6be50d420acdf0509ce03f956dfffed476122a5ec6720f6a7165aaecc009ed3d179f3eec58fb84cb6c9030dfe32f8569f9bd58afe79be5f', 18.5, 4320), {'taxi_id': 0, 'trip_miles': 1, 'trip_seconds': 2})\n",
    "t[1]['trip_miles']"
   ]
  },
  {
   "cell_type": "code",
   "execution_count": 18,
   "metadata": {},
   "outputs": [
    {
     "name": "stdout",
     "output_type": "stream",
     "text": [
      "taxi_id\n",
      "trip_miles\n",
      "trip_seconds\n"
     ]
    }
   ],
   "source": [
    "for y in t[1]:\n",
    "    print(y)"
   ]
  },
  {
   "cell_type": "code",
   "execution_count": 25,
   "metadata": {},
   "outputs": [],
   "source": [
    "d = t[1]"
   ]
  },
  {
   "cell_type": "code",
   "execution_count": 27,
   "metadata": {},
   "outputs": [
    {
     "data": {
      "text/plain": [
       "2"
      ]
     },
     "execution_count": 27,
     "metadata": {},
     "output_type": "execute_result"
    }
   ],
   "source": [
    "d['trip_seconds']"
   ]
  }
 ],
 "metadata": {
  "kernelspec": {
   "display_name": "Python 3",
   "language": "python",
   "name": "python3"
  },
  "language_info": {
   "codemirror_mode": {
    "name": "ipython",
    "version": 3
   },
   "file_extension": ".py",
   "mimetype": "text/x-python",
   "name": "python",
   "nbconvert_exporter": "python",
   "pygments_lexer": "ipython3",
   "version": "3.7.4"
  }
 },
 "nbformat": 4,
 "nbformat_minor": 2
}
