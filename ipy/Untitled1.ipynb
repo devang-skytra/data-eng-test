{
 "cells": [
  {
   "cell_type": "code",
   "execution_count": 4,
   "metadata": {},
   "outputs": [
    {
     "name": "stdout",
     "output_type": "stream",
     "text": [
      "20200309_20200410174252.csv.gz\n"
     ]
    }
   ],
   "source": [
    "url = 'https://gpiprod01-12232-uat-customerout.s3.amazonaws.com/starscream/20200309/20200309_20200410174252.csv.gz?AWSAccessKeyId= blah &Signature= blah &Expires= 1587058018'\n",
    "filename = url.split(\"/\")[5][0:30]\n",
    "print(filename)"
   ]
  },
  {
   "cell_type": "code",
   "execution_count": 9,
   "metadata": {},
   "outputs": [
    {
     "data": {
      "text/plain": [
       "'yyyy'"
      ]
     },
     "execution_count": 9,
     "metadata": {},
     "output_type": "execute_result"
    }
   ],
   "source": [
    "#gcf will be file['name'].replace('.txt','')\n",
    "event = 'yyyymmdd.txt' \n",
    "d = event.replace('.txt','')\n",
    "d[:4]"
   ]
  }
 ],
 "metadata": {
  "kernelspec": {
   "display_name": "Python 3",
   "language": "python",
   "name": "python3"
  },
  "language_info": {
   "codemirror_mode": {
    "name": "ipython",
    "version": 3
   },
   "file_extension": ".py",
   "mimetype": "text/x-python",
   "name": "python",
   "nbconvert_exporter": "python",
   "pygments_lexer": "ipython3",
   "version": "3.7.4"
  }
 },
 "nbformat": 4,
 "nbformat_minor": 2
}
