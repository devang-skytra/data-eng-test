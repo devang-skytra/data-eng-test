{
 "cells": [
  {
   "cell_type": "code",
   "execution_count": null,
   "metadata": {},
   "outputs": [],
   "source": [
    "# https://cloud.google.com/bigquery/docs/visualize-jupyter\n",
    "\n",
    "\"\"\"\n",
    "conda create -n gcpStart\n",
    "## Package Plan ##\n",
    "  environment location: c:\\Anaconda3\\envs\\gcpStart\n",
    "\n",
    "conda activate gcpStart\n",
    "\n",
    "# conda deactivate\n",
    "\n",
    "pip install --upgrade google-cloud-bigquery\n",
    "\n",
    "\"\"\""
   ]
  },
  {
   "cell_type": "code",
   "execution_count": 10,
   "metadata": {},
   "outputs": [
    {
     "name": "stdout",
     "output_type": "stream",
     "text": [
      "The google.cloud.bigquery extension is already loaded. To reload it, use:\n",
      "  %reload_ext google.cloud.bigquery\n"
     ]
    }
   ],
   "source": [
    "# %load_ext google.cloud.bigquery\n",
    "\n",
    "# %%bigquery\n",
    "# SELECT..."
   ]
  },
  {
   "cell_type": "code",
   "execution_count": null,
   "metadata": {},
   "outputs": [],
   "source": []
  },
  {
   "cell_type": "code",
   "execution_count": null,
   "metadata": {},
   "outputs": [],
   "source": [
    "cred_devtest_gcc = 'C:\\gcpsdk\\creds\\sky-devandtest-gcc.json'\n",
    "from google.cloud import bigquery\n",
    "client = bigquery.Client.from_service_account_json(cred_devtest_gcc)\n",
    "\n",
    "query = \"\"\"\n",
    "SELECT FILE_SOURCE, count(*), sum( n_pkg ) \n",
    "FROM `skytra-benchmark-uat.iata.I3` \n",
    "WHERE dt_of_issue >= \"1970-01-01\" \n",
    "and FILE_SOURCE between \"IATA_daily_api_20200629\" and \"IATA_daily_api_20200705\" \n",
    "group by rollup (FILE_SOURCE) \n",
    "order by 1\n",
    "\"\"\"\n",
    "\n",
    "query_job = client.query(query)  # Make an API request.\n"
   ]
  },
  {
   "cell_type": "code",
   "execution_count": null,
   "metadata": {},
   "outputs": [],
   "source": [
    "print(\"The query data:\")\n",
    "for row in query_job:\n",
    "    # Row values can be accessed by field name or index.\n",
    "    print(row)"
   ]
  },
  {
   "cell_type": "code",
   "execution_count": null,
   "metadata": {},
   "outputs": [],
   "source": [
    "def implicit():\n",
    "    from google.cloud import storage\n",
    "\n",
    "    # If you don't specify credentials when constructing the client, the\n",
    "    # client library will look for credentials in the environment.\n",
    "    storage_client = storage.Client.from_service_account_json(cred_devtest_gcc)\n",
    "    \n",
    "\n",
    "    # Make an authenticated API request\n",
    "    buckets = list(storage_client.list_buckets())\n",
    "    print(buckets)"
   ]
  },
  {
   "cell_type": "code",
   "execution_count": null,
   "metadata": {},
   "outputs": [],
   "source": []
  },
  {
   "cell_type": "code",
   "execution_count": null,
   "metadata": {},
   "outputs": [],
   "source": [
    "# ipy-bq blog incl cred setup\n",
    "#  https://medium.com/@harshad.ambekar/use-google-bigquery-with-jupyter-notebook-on-windows-10-d3e35d715ce4\n",
    "\n",
    "# cred setup\n",
    "\"\"\"\n",
    "https://www.tachytelic.net/2019/03/powershell-environment-variables/#MachineScoped\n",
    "[System.Environment]::SetEnvironmentVariable('GOOGLE_APPLICATION_CREDENTIALS','C:\\gcpsdk\\creds\\skytra-benchmark-devandtest-f7495a84e893.json',[System.EnvironmentVariableTarget]::Machine)\n",
    "\n",
    "\"SetEnvironmentVariable\" with \"3\" argument(s): \"Requested registry access is not allowed.\"\n",
    "\n",
    "https://stackoverflow.com/questions/20107669/powershell-permanently-modify-path-requested-registry-access-is-not-allowed\n",
    "\n",
    "Give permissions to HKLM\\System\\CurrentControlSet\\Control\\Session Manager\\Environment to a desired user\n",
    "\n",
    "\"\"\"\n",
    "# instead...works although jupyter does not pick it up so we provide direct to client library\n",
    "\"\"\"\n",
    "https://cloud.google.com/docs/authentication/getting-started#windows\n",
    "\n",
    "set GOOGLE_APPLICATION_CREDENTIALS=C:\\gcpsdk\\creds\\sky-devandtest-gcc.json\n",
    "\"\"\""
   ]
  }
 ],
 "metadata": {
  "kernelspec": {
   "display_name": "Python 3",
   "language": "python",
   "name": "python3"
  },
  "language_info": {
   "codemirror_mode": {
    "name": "ipython",
    "version": 3
   },
   "file_extension": ".py",
   "mimetype": "text/x-python",
   "name": "python",
   "nbconvert_exporter": "python",
   "pygments_lexer": "ipython3",
   "version": "3.7.6"
  }
 },
 "nbformat": 4,
 "nbformat_minor": 4
}
