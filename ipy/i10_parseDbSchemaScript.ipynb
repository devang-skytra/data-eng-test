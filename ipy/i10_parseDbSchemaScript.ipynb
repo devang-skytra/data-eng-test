{
 "cells": [
  {
   "cell_type": "markdown",
   "metadata": {},
   "source": [
    "<b> \n",
    "Parses Schema Compare scripts output from both:\n",
    "\n",
    "    AWS SCT (schema conversion tool - can work on multi db-engines)\n",
    "    AzDS SC (sql db comparison only)\n",
    "</b>\n",
    "The ideal is use AWS SCT  [Source System] vs [empty AWS Target] returning:\n",
    "\n",
    "    -tables \n",
    "    -unique business keys (not surrogate keys) which can be used for MERGE statements\n",
    "<b>\n",
    "Having a central DataOps DB Instance offers:\n",
    "</b>\n",
    "\n",
    "    -potential for cross-cloud mgt via setupSyn method\n",
    "    -BDD ownership"
   ]
  },
  {
   "cell_type": "code",
   "execution_count": 1,
   "metadata": {},
   "outputs": [],
   "source": [
    "import sys\n",
    "import os\n",
    "import json\n",
    "\n",
    "if 'DataOps/py/dep' not in os.getcwd():\n",
    "    os.chdir('dep')\n",
    "\n",
    "from shutil import copyfile\n",
    "from FileOps import fs\n",
    "\n",
    "if 'ipy' in sys.argv[0]:\n",
    "    with open('../.vscode/launch.json', 'r') as config_file:\n",
    "        config_dict = json.load(config_file)\n",
    "    _arg = config_dict[\"configurations\"][0][\"linux\"][\"args\"]\n",
    "else:\n",
    "    _arg = sys.argv[1:] #need to strip [0] so matches launch.json"
   ]
  },
  {
   "cell_type": "code",
   "execution_count": 2,
   "metadata": {},
   "outputs": [],
   "source": [
    "# Constants\n",
    "pthFW = _arg[3]"
   ]
  },
  {
   "cell_type": "code",
   "execution_count": 3,
   "metadata": {},
   "outputs": [],
   "source": [
    "# Vars\n",
    "srcType = 'aws'\n",
    "\n",
    "db = 'realestate'\n",
    "fwStage = 'realestate_init/fwStage'\n",
    "\n",
    "lObjVar = [4, 'c', 'ALTER']            # Only Run through 1 file at a time\n",
    "lObjIndex =     lObjVar[0]         \n",
    "objType =       lObjVar[1]  \n",
    "opAndsearchType=lObjVar[2]  \n",
    "\n",
    "createTable = False\n",
    "createStage = False"
   ]
  },
  {
   "cell_type": "code",
   "execution_count": 21,
   "metadata": {},
   "outputs": [],
   "source": [
    "if srcType == 'aws':\n",
    "    lMin = 1    #Fortunately the lMin and lMax values here are same for all AWS files\n",
    "    lMax = -1\n",
    "    pthSCT = '/media/paul/code/db/awsSCT/realestate/Microsoft SQL Server-20190814-20-40-11'\n",
    "    lObj = ['0. drop-table.sql', '1. create-schema.sql', '2. create-table.sql', '3. create-index.sql', '4. create-constraint.sql']\n",
    "    fle = lObj[lObjIndex]\n",
    "    l1End = ']('        #line 1 end  is used to parse obj name in first line - needed for create-table only\n",
    "elif srcType == 'az':\n",
    "    lMin = 8\n",
    "    lMax = -2\n",
    "    pthSCT = '/media/paul/code/db/azSC/realestate'\n",
    "    fle = 'azTextSchemas.sql'\n",
    "    l1End = '] ('"
   ]
  },
  {
   "cell_type": "code",
   "execution_count": 22,
   "metadata": {},
   "outputs": [],
   "source": [
    "def tableStgVer(s, iSkip):\n",
    "    lList = s.splitlines()\n",
    "    sql = lList[0] + '\\n'\n",
    "    for i, l in enumerate(lList[1:]): \n",
    "        if i + iSkip < len(lList):\n",
    "            sql = sql + l[l.index('['):l.index(']')+1] + ' nvarchar(255) NULL,\\n'\n",
    "        elif i + iSkip == len(lList):\n",
    "            sql = sql[:-2] + '\\n' + l\n",
    "    return sql"
   ]
  },
  {
   "cell_type": "code",
   "execution_count": 23,
   "metadata": {},
   "outputs": [],
   "source": [
    "fwFS = fs()\n",
    "\n",
    "# First deal with splitting Tables into Individual files\n",
    "srcPath = os.path.join(pthSCT, fle)    \n",
    "fileList = open(srcPath,'r').read().split('GO')"
   ]
  },
  {
   "cell_type": "code",
   "execution_count": 25,
   "metadata": {},
   "outputs": [],
   "source": [
    "\n",
    "for num, file in enumerate(fileList[lMin:lMax]):     #other statements not in this range are not Table Creates\n",
    "\n",
    "    if createTable:\n",
    "        if file[1:13] == 'CREATE TABLE' or srcType == 'aws':\n",
    "\n",
    "            fleName = file[file.index('['):file.index(l1End)].replace('[', '').replace(']', '')   \n",
    "\n",
    "            if srcType == 'aws': \n",
    "                sql = file[file.index('CREATE TABLE'):file.index(')\\n') + 1] + ';'\n",
    "            elif srcType == 'az':\n",
    "                sql = file[file.index('CREATE TABLE'):file.index(');') + 2]\n",
    "    else:\n",
    "        #fleName = file[file.index('['):file.index('\\n') ].replace('[', '').replace(']', '')\n",
    "        sql = file[file.index(opAndsearchType):]\n",
    "        fleName = sql[sql.index('['):sql.index('\\n') ].replace('[', '').replace(']', '')\n",
    "\n",
    "    \n",
    "    fwPath = fwFS.genFlywayFullPath(pthRoot = pthFW, dbs = fwStage, objName = fleName, fleType = objType, opType = opAndsearchType)\n",
    "    open(fwPath, 'w').write(sql)  \n",
    "    \n",
    "    if createStage:\n",
    "        sql = tableStgVer(sql, 2)\n",
    "        fwPath = fwPath.replace('dbo','stg')\n",
    "        open(fwPath, 'w').write(sql.replace('dbo','stg'))\n",
    "        fwRevMax = fwRevMax + 1"
   ]
  },
  {
   "cell_type": "code",
   "execution_count": 8,
   "metadata": {},
   "outputs": [],
   "source": [
    "#We are now splitting all object types and doing so 1 file at a time so this cell not needed\n",
    "#if srcType == 'aws':            \n",
    "    # Now just name, version and copy remainder as is\n",
    "    #for i in lObj:\n",
    "       #a = i.split('.')\n",
    "        #srcPath = os.path.join(pthSCT, i)\n",
    "        #fwPath = fwFS.genFlywayFullPath(pthRoot = pthFW, dbs = fwStage, objName = a[1].strip(), fleType = 's', opType = 'Script') #, revision = a[0])\n",
    "        #copyfile(srcPath, fwPath)"
   ]
  },
  {
   "cell_type": "code",
   "execution_count": 9,
   "metadata": {},
   "outputs": [
    {
     "data": {
      "text/plain": [
       "'CREATE NONCLUSTERED INDEX [flyway_schema_history_s_idx]'"
      ]
     },
     "execution_count": 9,
     "metadata": {},
     "output_type": "execute_result"
    }
   ],
   "source": [
    "file.split('\\n')[3]"
   ]
  },
  {
   "cell_type": "code",
   "execution_count": 10,
   "metadata": {},
   "outputs": [
    {
     "data": {
      "text/plain": [
       "'flyway_schema_history_s_idx'"
      ]
     },
     "execution_count": 10,
     "metadata": {},
     "output_type": "execute_result"
    }
   ],
   "source": [
    "sql[sql.index('['):sql.index('\\n') ].replace('[', '').replace(']', '')"
   ]
  },
  {
   "cell_type": "code",
   "execution_count": 5,
   "metadata": {},
   "outputs": [
    {
     "data": {
      "text/plain": [
       "'/media/paul/code/Python/DataOps/py/dep'"
      ]
     },
     "execution_count": 5,
     "metadata": {},
     "output_type": "execute_result"
    }
   ],
   "source": [
    "pwd"
   ]
  }
 ],
 "metadata": {
  "kernelspec": {
   "display_name": "Python 3",
   "language": "python",
   "name": "python3"
  },
  "language_info": {
   "codemirror_mode": {
    "name": "ipython",
    "version": 3
   },
   "file_extension": ".py",
   "mimetype": "text/x-python",
   "name": "python",
   "nbconvert_exporter": "python",
   "pygments_lexer": "ipython3",
   "version": "3.7.4"
  }
 },
 "nbformat": 4,
 "nbformat_minor": 2
}
