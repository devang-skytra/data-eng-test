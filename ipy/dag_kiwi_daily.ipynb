{
 "cells": [
  {
   "cell_type": "code",
   "execution_count": null,
   "metadata": {},
   "outputs": [],
   "source": [
    "# SETUP\n",
    "\n",
    "# copied stats 13th-15th\n",
    "# gsutil -m cp -R gs://ext-kiwi-excl-stat/stats/y=2020/m=06/d=13/* \\\n",
    "                 #gs://ext-kiwi-excl-dev-stat/stats/y=2020/m=06/d=13/\n",
    "    \n",
    "# copied data 13th-15th\n",
    "gsutil -m cp -R gs://ext-kiwi-excl-data/data/y=2020/m=06/d=13/hr=00/part-00000* \\\n",
    "            gs://ext-kiwi-excl-dev-data/data/y=2020/m=06/d=13/hr=00/   \n",
    "\n",
    "# update forex else X5b returns nothing\n",
    "gsutil cp gs://fxrates/to/data.csv gs://bq-generic-dev/fxrates/data.csv\n",
    "        "
   ]
  },
  {
   "cell_type": "code",
   "execution_count": 52,
   "metadata": {},
   "outputs": [],
   "source": [
    "from datetime import datetime, timedelta"
   ]
  },
  {
   "cell_type": "code",
   "execution_count": 53,
   "metadata": {},
   "outputs": [],
   "source": [
    "def getTS():\n",
    "    dt = datetime.now()\n",
    "    # [:-1] used otherwise the integer is greater than BQ will accept\n",
    "    return [ int(dt.strftime(\"%Y%m%d%H%M%S%f\")[:-1]) , dt.strftime(\"%Y-%m-%d %H:%M:%S.%f UTC\") ]"
   ]
  },
  {
   "cell_type": "code",
   "execution_count": 68,
   "metadata": {},
   "outputs": [
    {
     "name": "stdout",
     "output_type": "stream",
     "text": [
      "[2020061522094746102, '2020-06-15 22:09:47.461021 UTC']\n",
      "<class 'int'>\n"
     ]
    }
   ],
   "source": [
    "l = getTS()\n",
    "print(l)\n",
    "print(type(l[0]))"
   ]
  },
  {
   "cell_type": "code",
   "execution_count": 6,
   "metadata": {},
   "outputs": [
    {
     "name": "stdout",
     "output_type": "stream",
     "text": [
      "%stat/stats/y=2020/m=06/d=01%.csv\n"
     ]
    }
   ],
   "source": [
    "ds_nodash = '20200601'\n",
    "print( '%stat/stats/y={}/m={}/d={}/hr%.csv'.format(ds_nodash[:4],ds_nodash[4:6],ds_nodash[6:]) )\n",
    "\n",
    "# y={{ ds_nodash }}[:4]/m={{ ds_nodash }}[4:6]/d={{ ds_nodash }}[6:]"
   ]
  },
  {
   "cell_type": "code",
   "execution_count": 70,
   "metadata": {},
   "outputs": [
    {
     "name": "stdout",
     "output_type": "stream",
     "text": [
      "select FileCount = 24 from tb where ExecDate = {{ ds_nodash }} and DATE(ts) = CURRENT_DATE()\n"
     ]
    }
   ],
   "source": [
    "# gccProject = '{{ var.value.gccProject }}'\n",
    "gccProject = 'skytra-benchmark-devandtest'\n",
    "\n",
    "dictX2PassValue = {'skytra-benchmark-devandtest': '24',\n",
    "                   'skytra-benchmark-uat': '2',\n",
    "                   'd-dat-digitalaircrafttransport': '24'}\n",
    "\n",
    "passVal = dictX2PassValue[gccProject]\n",
    "\n",
    "sql = f'select FileCount = {passVal} from tb where ExecDate = ' + '{{ ds_nodash }} and DATE(ts) = CURRENT_DATE()'\n",
    "print(sql)\n"
   ]
  },
  {
   "cell_type": "code",
   "execution_count": 13,
   "metadata": {},
   "outputs": [],
   "source": [
    "#af env \n",
    "# varsBucketEnvString\n",
    "# gccProject\n",
    "# ProcessingLocation"
   ]
  },
  {
   "cell_type": "code",
   "execution_count": 73,
   "metadata": {},
   "outputs": [
    {
     "ename": "TypeError",
     "evalue": "'str' object cannot be interpreted as an integer",
     "output_type": "error",
     "traceback": [
      "\u001b[1;31m---------------------------------------------------------------------------\u001b[0m",
      "\u001b[1;31mTypeError\u001b[0m                                 Traceback (most recent call last)",
      "\u001b[1;32m<ipython-input-73-5a2c0f58e460>\u001b[0m in \u001b[0;36m<module>\u001b[1;34m\u001b[0m\n\u001b[1;32m----> 1\u001b[1;33m \u001b[0mds_no_dot\u001b[0m \u001b[1;33m=\u001b[0m \u001b[0mds\u001b[0m\u001b[1;33m.\u001b[0m\u001b[0mreplace\u001b[0m\u001b[1;33m(\u001b[0m\u001b[0mds\u001b[0m\u001b[1;33m,\u001b[0m \u001b[1;34m'.'\u001b[0m\u001b[1;33m,\u001b[0m\u001b[1;34m''\u001b[0m\u001b[1;33m)\u001b[0m\u001b[1;33m\u001b[0m\u001b[1;33m\u001b[0m\u001b[0m\n\u001b[0m\u001b[0;32m      2\u001b[0m \u001b[0mprint\u001b[0m\u001b[1;33m(\u001b[0m\u001b[0mds_no_dot\u001b[0m\u001b[1;33m)\u001b[0m\u001b[1;33m\u001b[0m\u001b[1;33m\u001b[0m\u001b[0m\n",
      "\u001b[1;31mTypeError\u001b[0m: 'str' object cannot be interpreted as an integer"
     ]
    }
   ],
   "source": [
    "ds_no_dot = ds.replace('.','')\n",
    "print(ds_no_dot)"
   ]
  },
  {
   "cell_type": "code",
   "execution_count": 66,
   "metadata": {},
   "outputs": [],
   "source": [
    "quer_base = 'bq query --location=EU --use_legacy_sql=false \"' \n",
    "#cmd_log_sfx = \" '{{ ti.xcom_pull('Get-ParamsX7')[0][2] }}', '{{ macros.ds_add(ti.xcom_pull('Get-ParamsX7')[0][2], 6) }}', CURRENT_TIMESTAMP );\" + '\"'\n",
    "quer_log_sfx = \" '{{ ds }}' as dateFrom, '{{ ds }}' as dateTo, 0 as bq_rc, 0 as bq_bp, 0 as bq_bb, '{{ ts }}' as ts_end\""
   ]
  },
  {
   "cell_type": "code",
   "execution_count": 20,
   "metadata": {},
   "outputs": [
    {
     "data": {
      "text/plain": [
       "'select FileCount=24 from airflow.af_check_X2 where ExecDate = { ds_nodash } and DATE(ts)=CURRENT_DATE()'"
      ]
     },
     "execution_count": 20,
     "metadata": {},
     "output_type": "execute_result"
    }
   ],
   "source": [
    "# test f'' with jinja\n",
    "# FAIL\n",
    "tbl = 'airflow.af_check_X2'\n",
    "passVal=24\n",
    "'select FileCount={} from {} where ExecDate = {{ ds_nodash }} and DATE(ts)=CURRENT_DATE()'.format(passVal,tbl)"
   ]
  },
  {
   "cell_type": "code",
   "execution_count": 24,
   "metadata": {},
   "outputs": [
    {
     "name": "stdout",
     "output_type": "stream",
     "text": [
      "select {{ ds_nodash }} as ExecDate, \n",
      "    sum(if(metric_name='parsedKiwiItinerariesAcc', metric_value,0)) as KiwiItinAcc,\n",
      "    sum(if(metric_name='validAirbusItinerariesAcc', metric_value,0)) as AirbusItinAcc,\n",
      "    cast(count(*)/2 as int64) as FileCount,\n",
      "    CURRENT_TIMESTAMP as ts\n",
      "    from stat.kiwi_stats \n",
      "    where \n",
      "    metric_name in('parsedKiwiItinerariesAcc', 'validAirbusItinerariesAcc') AND \n",
      "    _FILE_NAME like '%stat/stats/y=2020/m=06/d=01/hr%.csv'\n",
      "    \n"
     ]
    }
   ],
   "source": [
    "sqlCheck = 'select {{ ds_nodash }} as ExecDate, ' + \"\"\"\n",
    "    sum(if(metric_name='parsedKiwiItinerariesAcc', metric_value,0)) as KiwiItinAcc,\n",
    "    sum(if(metric_name='validAirbusItinerariesAcc', metric_value,0)) as AirbusItinAcc,\n",
    "    cast(count(*)/2 as int64) as FileCount,\n",
    "    CURRENT_TIMESTAMP as ts\n",
    "    from stat.kiwi_stats \n",
    "    where \n",
    "    metric_name in('parsedKiwiItinerariesAcc', 'validAirbusItinerariesAcc') AND \n",
    "    _FILE_NAME like '%stat/stats/y={}/m={}/d={}/hr%.csv'\n",
    "    \"\"\".format(ds_nodash[:4],ds_nodash[4:6],ds_nodash[6:])\n",
    "\n",
    "print(sqlCheck)"
   ]
  },
  {
   "cell_type": "code",
   "execution_count": 30,
   "metadata": {},
   "outputs": [
    {
     "name": "stdout",
     "output_type": "stream",
     "text": [
      "2020-06-13 00:00:00\n",
      "y=2020/m=06/d=13\n"
     ]
    }
   ],
   "source": [
    "\n",
    "din = datetime(2020, 6, 13)\n",
    "dout = din.strftime('y=%Y/m=%m/d=%d')\n",
    "print(din)\n",
    "print(dout)\n",
    "\n",
    "# {{ macros.ds_format(ds,'%Y-%m-%d','y=%Y/m=%m/d=%d') }}"
   ]
  },
  {
   "cell_type": "code",
   "execution_count": 3,
   "metadata": {},
   "outputs": [],
   "source": [
    "\n",
    "\n",
    "####### JINJA #############################################\n",
    "\n",
    "from jinja2 import Template\n"
   ]
  },
  {
   "cell_type": "code",
   "execution_count": 12,
   "metadata": {},
   "outputs": [
    {
     "data": {
      "text/plain": [
       "'Hello John Doe!'"
      ]
     },
     "execution_count": 12,
     "metadata": {},
     "output_type": "execute_result"
    }
   ],
   "source": [
    "template = Template('Hello {{ name }}!')\n",
    "template.render(name='John Doe')"
   ]
  },
  {
   "cell_type": "code",
   "execution_count": 16,
   "metadata": {
    "scrolled": true
   },
   "outputs": [
    {
     "name": "stdout",
     "output_type": "stream",
     "text": [
      "Hello John Doe 0!\n",
      "Hello John Doe 1!\n"
     ]
    }
   ],
   "source": [
    "\n",
    "for i in range(24):  \n",
    "    #template = Template('Hello {{ name }}!')\n",
    "    #print(template.render(name='John Doe'))\n",
    "    \n",
    "    #print(str(i))\n",
    "    template = Template('Hello {{ name }} {{ int }}!')\n",
    "    print(template.render({'name':'John Doe', 'int':i}))"
   ]
  },
  {
   "cell_type": "code",
   "execution_count": null,
   "metadata": {},
   "outputs": [],
   "source": []
  },
  {
   "cell_type": "code",
   "execution_count": null,
   "metadata": {},
   "outputs": [],
   "source": []
  },
  {
   "cell_type": "code",
   "execution_count": 22,
   "metadata": {},
   "outputs": [
    {
     "name": "stdout",
     "output_type": "stream",
     "text": [
      "--source_format=PARQUET kiwi.X2_1216 \"gs://ext-kiwi-excl-data/data/ macros.ds_format(ds,\"%Y-%m-%d\",\"y=%Y/m=%m/d=%d\") /*.gz.parquet\"\n",
      "--source_format=PARQUET kiwi.X2_1216 \"gs://ext-kiwi-excl-data/data/ macros.ds_format(ds,\"%Y-%m-%d\",\"y=%Y/m=%m/d=%d\") /*.gz.parquet\"\n",
      "--source_format=PARQUET kiwi.X2_1216 \"gs://ext-kiwi-excl-data/data/ macros.ds_format(ds,\"%Y-%m-%d\",\"y=%Y/m=%m/d=%d\") /*.gz.parquet\"\n",
      "--source_format=PARQUET kiwi.X2_1216 \"gs://ext-kiwi-excl-data/data/ macros.ds_format(ds,\"%Y-%m-%d\",\"y=%Y/m=%m/d=%d\") /*.gz.parquet\"\n"
     ]
    }
   ],
   "source": [
    "#load_base + '--replace --source_format=PARQUET kiwi.X2_{{ ds_nodash[4:] }}' + f' \"gs://ext-kiwi-excl-data/data/' + '{{ macros.ds_format(ds,\"%Y-%m-%d\",\"y=%Y/m=%m/d=%d\") }}/*.gz.parquet\"'\n",
    "\n",
    "#--replace then append\n",
    "template = Template('--source_format=PARQUET kiwi.X2_{{ ds_nodash[4:] }} \"gs://ext-kiwi-excl-data/data/ macros.ds_format(ds,\"%Y-%m-%d\",\"y=%Y/m=%m/d=%d\") /*.gz.parquet\"')\n",
    "\n",
    "# old pop logic in orig Kiwi loads\n",
    "\n",
    "for hr in range(1,5):\n",
    "    print(template.render({'ds_nodash':'20201216', 'ds':'2020-12-16'})) \n",
    "    op = template.render({'ds_nodash':'20201216', 'ds':'2020-12-16'})\n"
   ]
  },
  {
   "cell_type": "code",
   "execution_count": null,
   "metadata": {},
   "outputs": [],
   "source": []
  },
  {
   "cell_type": "code",
   "execution_count": 28,
   "metadata": {},
   "outputs": [
    {
     "data": {
      "text/plain": [
       "[1,\n",
       " 2,\n",
       " 3,\n",
       " 4,\n",
       " 5,\n",
       " 6,\n",
       " 7,\n",
       " 8,\n",
       " 9,\n",
       " 10,\n",
       " 11,\n",
       " 12,\n",
       " 13,\n",
       " 14,\n",
       " 15,\n",
       " 16,\n",
       " 17,\n",
       " 18,\n",
       " 19,\n",
       " 20,\n",
       " 21,\n",
       " 22,\n",
       " 23,\n",
       " 24]"
      ]
     },
     "execution_count": 28,
     "metadata": {},
     "output_type": "execute_result"
    }
   ],
   "source": [
    "#from af\\dags\\dag_Kiwi_2020_3x.py\n",
    "\n",
    "#will need to make t3\n",
    "\n",
    "max_hr = 24\n",
    "aX2 = []\n",
    "t1 = ['t1']\n",
    "t3 = ['t3']\n",
    "\n",
    "for hr in range(1, max_hr + 1):\n",
    "    \n",
    "    tX2 = hr\n",
    "    \n",
    "    aX2.append(tX2)\n",
    "    \n",
    "#t1 >> aX2 >> t3\n",
    "aX2"
   ]
  },
  {
   "cell_type": "code",
   "execution_count": 27,
   "metadata": {},
   "outputs": [
    {
     "ename": "NameError",
     "evalue": "name 'unlist' is not defined",
     "output_type": "error",
     "traceback": [
      "\u001b[1;31m---------------------------------------------------------------------------\u001b[0m",
      "\u001b[1;31mNameError\u001b[0m                                 Traceback (most recent call last)",
      "\u001b[1;32m<ipython-input-27-9d5a749cb861>\u001b[0m in \u001b[0;36m<module>\u001b[1;34m\u001b[0m\n\u001b[1;32m----> 1\u001b[1;33m \u001b[0mstr\u001b[0m\u001b[1;33m(\u001b[0m\u001b[0munlist\u001b[0m\u001b[1;33m(\u001b[0m\u001b[0maX2\u001b[0m\u001b[1;33m)\u001b[0m\u001b[1;33m)\u001b[0m\u001b[1;33m\u001b[0m\u001b[1;33m\u001b[0m\u001b[0m\n\u001b[0m",
      "\u001b[1;31mNameError\u001b[0m: name 'unlist' is not defined"
     ]
    }
   ],
   "source": [
    "str(unlist(aX2))"
   ]
  },
  {
   "cell_type": "code",
   "execution_count": null,
   "metadata": {},
   "outputs": [],
   "source": [
    "template = Template('--source_format=PARQUET kiwi.X2_{{ ds_nodash[4:] }} \"gs://ext-kiwi-excl-data/data/ macros.ds_format(ds,\"%Y-%m-%d\",\"y=%Y/m=%m/d=%d\") /*.gz.parquet\"')\n",
    "\n",
    "# old pop logic in orig Kiwi loads\n",
    "\n",
    "for hr in range(1,5):\n",
    "    print(template.render"
   ]
  },
  {
   "cell_type": "code",
   "execution_count": 4,
   "metadata": {},
   "outputs": [
    {
     "data": {
      "text/plain": [
       "\"\\n\\nselect\\n    order_id,\\n    \\n    sum(case when payment_method = 'bank_transfer' then amount end) as bank_transfer_amount,\\n    \\n    sum(case when payment_method = 'credit_card' then amount end) as credit_card_amount,\\n    \\n    sum(case when payment_method = 'gift_card' then amount end) as gift_card_amount,\\n    \\n    sum(amount) as total_amount\\nfrom app_data.payments\\ngroup by 1\""
      ]
     },
     "execution_count": 4,
     "metadata": {},
     "output_type": "execute_result"
    }
   ],
   "source": [
    "tpay = \"\"\"{% set payment_methods = [\"bank_transfer\", \"credit_card\", \"gift_card\"] %}\n",
    "\n",
    "select\n",
    "    order_id,\n",
    "    {% for payment_method in payment_methods %}\n",
    "    sum(case when payment_method = '{{payment_method}}' then amount end) as {{payment_method}}_amount,\n",
    "    {% endfor %}\n",
    "    sum(amount) as total_amount\n",
    "from app_data.payments\n",
    "group by 1\"\"\"\n",
    "\n",
    "j_tpay = template = Template(tpay)\n",
    "\n",
    "j_tpay.render()"
   ]
  },
  {
   "cell_type": "code",
   "execution_count": 24,
   "metadata": {},
   "outputs": [
    {
     "data": {
      "text/plain": [
       "['01',\n",
       " '02',\n",
       " '03',\n",
       " '04',\n",
       " '05',\n",
       " '06',\n",
       " '07',\n",
       " '08',\n",
       " '09',\n",
       " '10',\n",
       " '11',\n",
       " '12',\n",
       " '13',\n",
       " '14',\n",
       " '15',\n",
       " '16',\n",
       " '17',\n",
       " '18',\n",
       " '19',\n",
       " '20',\n",
       " '21',\n",
       " '22',\n",
       " '23',\n",
       " '24']"
      ]
     },
     "execution_count": 24,
     "metadata": {},
     "output_type": "execute_result"
    }
   ],
   "source": [
    "hour_list = []\n",
    "for i in range(1,25):\n",
    "    hour_list.append(f'{i:02d}')\n",
    "hour_list\n",
    "\n",
    "['01','02','03','04','05','06','07','08','09','10','11','12','13','14','15','16','17','18','19','20','21','22','23','24']"
   ]
  },
  {
   "cell_type": "code",
   "execution_count": 25,
   "metadata": {},
   "outputs": [
    {
     "data": {
      "text/plain": [
       "'\\n--source_format=PARQUET kiwi.X2_1216 \"gs://ext-kiwi-excl-data/data/ macros.ds_format(ds,\"%Y-%m-%d\",\"y=%Y/m=%m/d=%d/hr=01\") /*.gz.parquet\"\\n\\n\\n--source_format=PARQUET kiwi.X2_1216 \"gs://ext-kiwi-excl-data/data/ macros.ds_format(ds,\"%Y-%m-%d\",\"y=%Y/m=%m/d=%d/hr=02\") /*.gz.parquet\"\\n\\n\\n--source_format=PARQUET kiwi.X2_1216 \"gs://ext-kiwi-excl-data/data/ macros.ds_format(ds,\"%Y-%m-%d\",\"y=%Y/m=%m/d=%d/hr=03\") /*.gz.parquet\"\\n\\n\\n--source_format=PARQUET kiwi.X2_1216 \"gs://ext-kiwi-excl-data/data/ macros.ds_format(ds,\"%Y-%m-%d\",\"y=%Y/m=%m/d=%d/hr=04\") /*.gz.parquet\"\\n\\n\\n--source_format=PARQUET kiwi.X2_1216 \"gs://ext-kiwi-excl-data/data/ macros.ds_format(ds,\"%Y-%m-%d\",\"y=%Y/m=%m/d=%d/hr=05\") /*.gz.parquet\"\\n\\n\\n--source_format=PARQUET kiwi.X2_1216 \"gs://ext-kiwi-excl-data/data/ macros.ds_format(ds,\"%Y-%m-%d\",\"y=%Y/m=%m/d=%d/hr=06\") /*.gz.parquet\"\\n\\n\\n--source_format=PARQUET kiwi.X2_1216 \"gs://ext-kiwi-excl-data/data/ macros.ds_format(ds,\"%Y-%m-%d\",\"y=%Y/m=%m/d=%d/hr=07\") /*.gz.parquet\"\\n\\n\\n--source_format=PARQUET kiwi.X2_1216 \"gs://ext-kiwi-excl-data/data/ macros.ds_format(ds,\"%Y-%m-%d\",\"y=%Y/m=%m/d=%d/hr=08\") /*.gz.parquet\"\\n\\n\\n--source_format=PARQUET kiwi.X2_1216 \"gs://ext-kiwi-excl-data/data/ macros.ds_format(ds,\"%Y-%m-%d\",\"y=%Y/m=%m/d=%d/hr=09\") /*.gz.parquet\"\\n\\n\\n--source_format=PARQUET kiwi.X2_1216 \"gs://ext-kiwi-excl-data/data/ macros.ds_format(ds,\"%Y-%m-%d\",\"y=%Y/m=%m/d=%d/hr=10\") /*.gz.parquet\"\\n\\n\\n--source_format=PARQUET kiwi.X2_1216 \"gs://ext-kiwi-excl-data/data/ macros.ds_format(ds,\"%Y-%m-%d\",\"y=%Y/m=%m/d=%d/hr=11\") /*.gz.parquet\"\\n\\n\\n--source_format=PARQUET kiwi.X2_1216 \"gs://ext-kiwi-excl-data/data/ macros.ds_format(ds,\"%Y-%m-%d\",\"y=%Y/m=%m/d=%d/hr=12\") /*.gz.parquet\"\\n\\n\\n--source_format=PARQUET kiwi.X2_1216 \"gs://ext-kiwi-excl-data/data/ macros.ds_format(ds,\"%Y-%m-%d\",\"y=%Y/m=%m/d=%d/hr=13\") /*.gz.parquet\"\\n\\n\\n--source_format=PARQUET kiwi.X2_1216 \"gs://ext-kiwi-excl-data/data/ macros.ds_format(ds,\"%Y-%m-%d\",\"y=%Y/m=%m/d=%d/hr=14\") /*.gz.parquet\"\\n\\n\\n--source_format=PARQUET kiwi.X2_1216 \"gs://ext-kiwi-excl-data/data/ macros.ds_format(ds,\"%Y-%m-%d\",\"y=%Y/m=%m/d=%d/hr=15\") /*.gz.parquet\"\\n\\n\\n--source_format=PARQUET kiwi.X2_1216 \"gs://ext-kiwi-excl-data/data/ macros.ds_format(ds,\"%Y-%m-%d\",\"y=%Y/m=%m/d=%d/hr=16\") /*.gz.parquet\"\\n\\n\\n--source_format=PARQUET kiwi.X2_1216 \"gs://ext-kiwi-excl-data/data/ macros.ds_format(ds,\"%Y-%m-%d\",\"y=%Y/m=%m/d=%d/hr=17\") /*.gz.parquet\"\\n\\n\\n--source_format=PARQUET kiwi.X2_1216 \"gs://ext-kiwi-excl-data/data/ macros.ds_format(ds,\"%Y-%m-%d\",\"y=%Y/m=%m/d=%d/hr=18\") /*.gz.parquet\"\\n\\n\\n--source_format=PARQUET kiwi.X2_1216 \"gs://ext-kiwi-excl-data/data/ macros.ds_format(ds,\"%Y-%m-%d\",\"y=%Y/m=%m/d=%d/hr=19\") /*.gz.parquet\"\\n\\n\\n--source_format=PARQUET kiwi.X2_1216 \"gs://ext-kiwi-excl-data/data/ macros.ds_format(ds,\"%Y-%m-%d\",\"y=%Y/m=%m/d=%d/hr=20\") /*.gz.parquet\"\\n\\n\\n--source_format=PARQUET kiwi.X2_1216 \"gs://ext-kiwi-excl-data/data/ macros.ds_format(ds,\"%Y-%m-%d\",\"y=%Y/m=%m/d=%d/hr=21\") /*.gz.parquet\"\\n\\n\\n--source_format=PARQUET kiwi.X2_1216 \"gs://ext-kiwi-excl-data/data/ macros.ds_format(ds,\"%Y-%m-%d\",\"y=%Y/m=%m/d=%d/hr=22\") /*.gz.parquet\"\\n\\n\\n--source_format=PARQUET kiwi.X2_1216 \"gs://ext-kiwi-excl-data/data/ macros.ds_format(ds,\"%Y-%m-%d\",\"y=%Y/m=%m/d=%d/hr=23\") /*.gz.parquet\"\\n\\n\\n--source_format=PARQUET kiwi.X2_1216 \"gs://ext-kiwi-excl-data/data/ macros.ds_format(ds,\"%Y-%m-%d\",\"y=%Y/m=%m/d=%d/hr=24\") /*.gz.parquet\"\\n\\n'"
      ]
     },
     "execution_count": 25,
     "metadata": {},
     "output_type": "execute_result"
    }
   ],
   "source": [
    "#--replace then append\n",
    "\n",
    "\n",
    "#tPARQUET = '{% for i in range(1,25) %} \\'--source_format=PARQUET kiwi.X2_{{ ds_nodash[4:] }} \"gs://ext-kiwi-excl-data/data/ macros.ds_format(ds,\"%Y-%m-%d\",\"y=%Y/m=%m/d=%d\") /*.gz.parquet\"\\' {% endfor %}'\n",
    "tPARQUET = '''{% for i in ['00','01','02','03','04','05','06','07','08','09','10','11','12','13','14','15','16','17','18','19','20','21','22','23'] %}\n",
    "--source_format=PARQUET kiwi.X2_{{ ds_nodash[4:] }} \"gs://ext-kiwi-excl-data/data/ macros.ds_format(ds,\"%Y-%m-%d\",\"y=%Y/m=%m/d=%d/hr={{ i }}\")/*.gz.parquet\"\n",
    "{% endfor %}'''\n",
    "\n",
    "\n",
    "jPARQUET = Template(tPARQUET)\n",
    "\n",
    "jPARQUET.render({'ds_nodash':'20201216'})"
   ]
  },
  {
   "cell_type": "code",
   "execution_count": null,
   "metadata": {},
   "outputs": [],
   "source": []
  },
  {
   "cell_type": "code",
   "execution_count": null,
   "metadata": {},
   "outputs": [],
   "source": [
    "\n",
    "####### JINJA AIRFLOW User Defined Macros#############################################\n",
    "\n",
    "def compute_next_execution_date(dag, execution_date):\n",
    "    return dag.following_schedule(execution_date)\n",
    "\n",
    "dag = DAG(\n",
    "    'simple',\n",
    "    schedule_interval='0 21 * * *',\n",
    "    user_defined_macros={\n",
    "        'next_execution_date': compute_next_execution_date,\n",
    "    },\n",
    ")\n",
    "\n",
    "task = BashOperator(\n",
    "    task_id='bash_op',\n",
    "    bash_command='echo \"{{ next_execution_date(dag, execution_date) }}\"',\n",
    "    dag=dag,\n",
    ")"
   ]
  },
  {
   "cell_type": "code",
   "execution_count": null,
   "metadata": {},
   "outputs": [],
   "source": []
  },
  {
   "cell_type": "code",
   "execution_count": null,
   "metadata": {},
   "outputs": [],
   "source": []
  },
  {
   "cell_type": "code",
   "execution_count": 50,
   "metadata": {},
   "outputs": [
    {
     "name": "stdout",
     "output_type": "stream",
     "text": [
      "['ALLOW_FIELD_ADDITION']\n"
     ]
    }
   ],
   "source": [
    "w_dis = 'WRITE_TRUNCATE'\n",
    "#w_dis = 'other'\n",
    "dest = 'kiwi.X4$20200615'\n",
    "#dest = 'kiwi.X4'\n",
    "if w_dis == 'WRITE_APPEND' or (w_dis == 'WRITE_TRUNCATE' and '$' in dest):\n",
    "    allow_new = ['ALLOW_FIELD_ADDITION']\n",
    "else:\n",
    "    allow_new = []\n",
    "        \n",
    "print(allow_new)"
   ]
  },
  {
   "cell_type": "code",
   "execution_count": 75,
   "metadata": {},
   "outputs": [],
   "source": [
    "# op_gen SECTION\n",
    "\n",
    "from datetime import datetime, timedelta\n",
    "#from airflow.operators.bash_operator import BashOperator\n",
    "#from airflow.contrib.operators.bigquery_operator import BigQueryOperator\n",
    "\n",
    "\n",
    "def mk_BQO(tid, sqlFile, dest, c_dis, w_dis, redo, redo_delay_mins, DEBUG_MODE, time_part_col = None):\n",
    "    time_part = (None if time_part_col == None else {'type':'day', 'field':time_part_col})\n",
    "    if DEBUG_MODE:\n",
    "        tid = tid + '_DEBUG'\n",
    "        dest = 'airflow_debug.' + dest.replace('.','_')\n",
    "        c_dis = 'CREATE_IF_NEEDED'\n",
    "        #sqlFile = sqlFile # + ' LIMIT 1000' this did not work with jinja templating\n",
    "\n",
    "    # Schema update options should only be specified with WRITE_APPEND disposition, or with WRITE_TRUNCATE disposition on a table partition\n",
    "    if w_dis == 'WRITE_APPEND' or (w_dis == 'WRITE_TRUNCATE' and '$' in dest):\n",
    "        allow_new = ['ALLOW_FIELD_ADDITION']\n",
    "    else:\n",
    "        allow_new = []\n",
    "    \n",
    "    \"\"\"\n",
    "    op = BigQueryOperator(\n",
    "        task_id = tid,\n",
    "        sql = sqlFile,\n",
    "        destination_dataset_table = dest,\n",
    "        create_disposition = c_dis,\n",
    "        write_disposition = w_dis,\n",
    "        schema_update_options = allow_new,\n",
    "        allow_large_results = True,\n",
    "        use_legacy_sql = False,\n",
    "        retries = redo,  \n",
    "        retry_delay = timedelta(minutes = redo_delay_mins)\n",
    "    )\n",
    "    return op\n",
    "    \"\"\""
   ]
  },
  {
   "cell_type": "code",
   "execution_count": 80,
   "metadata": {},
   "outputs": [
    {
     "name": "stdout",
     "output_type": "stream",
     "text": [
      "search_date\n"
     ]
    }
   ],
   "source": [
    "# test can push in var to dict value\n",
    "col = 'search_date'\n",
    "time_partitioning={'type':'day','field':col}\n",
    "print(time_partitioning['field'])"
   ]
  },
  {
   "cell_type": "code",
   "execution_count": 83,
   "metadata": {},
   "outputs": [
    {
     "name": "stdout",
     "output_type": "stream",
     "text": [
      "{'type': 'day', 'field': 'search_date'}\n"
     ]
    }
   ],
   "source": [
    "time_part_col = 'search_date'\n",
    "time_part = (None if time_part_col == None else {'type':'day', 'field':time_part_col})\n",
    "print(time_part)"
   ]
  },
  {
   "cell_type": "code",
   "execution_count": 3,
   "metadata": {},
   "outputs": [
    {
     "data": {
      "text/plain": [
       "'0909'"
      ]
     },
     "execution_count": 3,
     "metadata": {},
     "output_type": "execute_result"
    }
   ],
   "source": [
    "ds_nodash = '20200909'\n",
    "ds_nodash[4:]"
   ]
  }
 ],
 "metadata": {
  "kernelspec": {
   "display_name": "Python 3",
   "language": "python",
   "name": "python3"
  },
  "language_info": {
   "codemirror_mode": {
    "name": "ipython",
    "version": 3
   },
   "file_extension": ".py",
   "mimetype": "text/x-python",
   "name": "python",
   "nbconvert_exporter": "python",
   "pygments_lexer": "ipython3",
   "version": "3.7.6"
  }
 },
 "nbformat": 4,
 "nbformat_minor": 2
}
