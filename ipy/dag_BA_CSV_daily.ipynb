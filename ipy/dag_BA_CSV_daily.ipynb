{
 "cells": [
  {
   "cell_type": "code",
   "execution_count": 3,
   "metadata": {},
   "outputs": [
    {
     "data": {
      "text/plain": [
       "' hi'"
      ]
     },
     "execution_count": 3,
     "metadata": {},
     "output_type": "execute_result"
    }
   ],
   "source": [
    "#'--dev'[1:]\n",
    "'-'[1:] + ' hi'"
   ]
  },
  {
   "cell_type": "code",
   "execution_count": null,
   "metadata": {},
   "outputs": [],
   "source": []
  },
  {
   "cell_type": "code",
   "execution_count": 1,
   "metadata": {},
   "outputs": [],
   "source": [
    "lBA = [\n",
    "['ASASEDV', 1, 'Asia/Pacific-Asia/Pacific'],\n",
    "['NANAEDV', 2, 'North America-North America'],\n",
    "['EUEUEDV', 3, 'Europe-Europe'],\n",
    "['ASEUEDV', 4, 'Asia/Pacific-Europe'],\n",
    "['ASNAEDV', 5, 'Asia/Pacific-North America'],\n",
    "['EUNAEDV', 6, 'Europe-North America']\n",
    "]"
   ]
  },
  {
   "cell_type": "code",
   "execution_count": null,
   "metadata": {},
   "outputs": [],
   "source": [
    "l = lBA[0]\n",
    "\n",
    "f'SIDF_yyyymmdd_{l[0][:5]}.csv'"
   ]
  },
  {
   "cell_type": "code",
   "execution_count": 10,
   "metadata": {},
   "outputs": [
    {
     "name": "stdout",
     "output_type": "stream",
     "text": [
      "SIDF = SIDF_{{ ds_nodash }}_ASASE.csv\n",
      "SISVDF = SISVDF_{{ ds_nodash }}_ASASE.csv\n",
      "\n",
      "SISFDF = SISFDF_{{ ds_nodash }}_Future_SP_1_ASASE.csv\n",
      "SISFDF = SISFDF_{{ ds_nodash }}_Future_SP_2_ASASE.csv\n",
      "SISFDF = SISFDF_{{ ds_nodash }}_Future_SP_3_ASASE.csv\n",
      "SISFDF = SISFDF_{{ ds_nodash }}_Future_SP_4_ASASE.csv\n",
      "SISFDF = SISFDF_{{ ds_nodash }}_Future_SP_5_ASASE.csv\n",
      "SISFDF = SISFDF_{{ ds_nodash }}_Future_SP_6_ASASE.csv\n",
      "SISFDF = SISFDF_{{ ds_nodash }}_Future_SP_7_ASASE.csv\n",
      "SISFDF = SISFDF_{{ ds_nodash }}_Future_SP_8_ASASE.csv\n",
      "SISFDF = SISFDF_{{ ds_nodash }}_Future_SP_9_ASASE.csv\n",
      "SISFDF = SISFDF_{{ ds_nodash }}_Future_SP_10_ASASE.csv\n"
     ]
    },
    {
     "data": {
      "text/plain": [
       "'\\nASAS_SIDF\\nASAS_SISVDF\\nASAS_SISFDF\\n'"
      ]
     },
     "execution_count": 10,
     "metadata": {},
     "output_type": "execute_result"
    }
   ],
   "source": [
    "# \n",
    "# Each one of the below needs to be permissioned separately as a Customer may only purchase \n",
    "#   SIDF or SISVDF or SISFDF, or a combination of the three file types\n",
    "\n",
    "\n",
    "#Skytra Index Data Files (SIDF) - daily and 28DMA x 6 files/day\n",
    "SIDF = 'SIDF = SIDF_{{ ds_nodash }}_' + f'{l[0][:5]}.csv'\n",
    "print(SIDF)\n",
    "\n",
    "#Skytra Index Supplementary Volume Data Files (SISVDF) - Index and Volume \n",
    "SISVDF = 'SISVDF = SISVDF_{{ ds_nodash }}_' + f'{l[0][:5]}.csv'\n",
    "print(SISVDF)\n",
    "\n",
    "print('')\n",
    "\n",
    "#Skytra Index Supplementary Forward Data Files (SISFDF) - Future Settlement Period\n",
    "for i in range(1,11):\n",
    "    print('SISFDF = SISFDF_{{ ds_nodash }}_Future_SP_' + f'{i}_{l[0][:5]}.csv')\n",
    "\n",
    "    \n",
    "#\n",
    "# Folder Name\n",
    "\"\"\"\n",
    "ASAS_SIDF\n",
    "ASAS_SISVDF\n",
    "ASAS_SISFDF\n",
    "\"\"\""
   ]
  },
  {
   "cell_type": "code",
   "execution_count": null,
   "metadata": {},
   "outputs": [],
   "source": [
    "###  DESIGN\n",
    "\n",
    "# 1\n",
    "# Create 6 + 6 + 60 files in 3 or 18 (x6 regions) master bucket folders\n",
    "# Use SQLTemplatedPythonOperator even though scope is static/known v_X7.sql, v_X7.sql, v_P007 ?? .sql\n",
    "\n",
    "# 2 use config tables to map gsutil copy to customer folder only (simpler than BI product)"
   ]
  },
  {
   "cell_type": "code",
   "execution_count": null,
   "metadata": {},
   "outputs": [],
   "source": []
  },
  {
   "cell_type": "code",
   "execution_count": null,
   "metadata": {},
   "outputs": [],
   "source": [
    "\n",
    "-\tBA_20200627_20200627_Index_EUNA.csv (and all the rest of the region pair files) – \n",
    "o\tRows 1 and 2 need to reflect the file “header” as per the SIDF layout in the BA spec:\n",
    "\n",
    "Index Series\tSkytra - Asia Pacific/Asia Pacific - Economy class\n",
    "File Date and Time\t2020-04-03 14:00\n",
    "Version\t1\n",
    "\n",
    "o\trow 3 with “Index Date”, “Index Value (USD) – Daily” and “Index Value (USD) - 28 DMA” should follow after row 6 (as per the SIDF layout in the BA spec);\n",
    "o\tvalues in columns B and C should be limited to 5 decimal places (as per the SIDF structure in the BA spec);\n",
    "o\tindex dates should be in yyyy-mm-dd format, e.g. 2020-04-08 (as per the SIDF layout in the BA spec);\n",
    "o\tISIN values would look something like this “GB00BYN5YK77” but indeed worth making sure no characters are removed by the code.\n",
    "\n",
    "Kind regards,\n",
    "Nadiya\n"
   ]
  }
 ],
 "metadata": {
  "kernelspec": {
   "display_name": "Python 3",
   "language": "python",
   "name": "python3"
  },
  "language_info": {
   "codemirror_mode": {
    "name": "ipython",
    "version": 3
   },
   "file_extension": ".py",
   "mimetype": "text/x-python",
   "name": "python",
   "nbconvert_exporter": "python",
   "pygments_lexer": "ipython3",
   "version": "3.7.4"
  }
 },
 "nbformat": 4,
 "nbformat_minor": 2
}
