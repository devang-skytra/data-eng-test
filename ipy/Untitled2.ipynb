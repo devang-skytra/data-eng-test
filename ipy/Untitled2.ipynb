{
 "cells": [
  {
   "cell_type": "code",
   "execution_count": 5,
   "metadata": {},
   "outputs": [],
   "source": [
    "DEBUG_MODE = True\n",
    "\n",
    "def mk_BQO(tid):\n",
    "    \"\"\"if DEBUG_MODE ensure combination of\n",
    "         create_disposition = CREATE_NEVER and \n",
    "         destination_dataset_table is 'Deliberate_Fail'\n",
    "       so we get useful debug info but no table data insertion\n",
    "    \"\"\"\n",
    "    if DEBUG_MODE:\n",
    "        tid = tid + '_DEBUG'\n",
    "    \n",
    "    print(tid)"
   ]
  },
  {
   "cell_type": "code",
   "execution_count": 6,
   "metadata": {},
   "outputs": [
    {
     "name": "stdout",
     "output_type": "stream",
     "text": [
      "abc_DEBUG\n"
     ]
    }
   ],
   "source": [
    "mk_BQO('abc')"
   ]
  }
 ],
 "metadata": {
  "kernelspec": {
   "display_name": "Python 3",
   "language": "python",
   "name": "python3"
  },
  "language_info": {
   "codemirror_mode": {
    "name": "ipython",
    "version": 3
   },
   "file_extension": ".py",
   "mimetype": "text/x-python",
   "name": "python",
   "nbconvert_exporter": "python",
   "pygments_lexer": "ipython3",
   "version": "3.7.4"
  }
 },
 "nbformat": 4,
 "nbformat_minor": 2
}
