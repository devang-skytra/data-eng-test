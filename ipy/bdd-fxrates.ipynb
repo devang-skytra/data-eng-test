{
 "cells": [
  {
   "cell_type": "code",
   "execution_count": 1,
   "metadata": {},
   "outputs": [],
   "source": [
    "import yfinance as yf"
   ]
  },
  {
   "cell_type": "code",
   "execution_count": 30,
   "metadata": {},
   "outputs": [],
   "source": [
    "tics = \"CL=F GBPAUD=X GC=F HG=F\"\n",
    "\n",
    "scols = ['Cl','Hi','Lo','Op','Vo'] # returns cols in sort order. auto_adjust = True removes Adj Close\n",
    "hcols = ['CrudeOil','GBPAUD','Gold','Copper']\n",
    "acols = list(x + '_' + y for x in hcols for y in scols)"
   ]
  },
  {
   "cell_type": "code",
   "execution_count": 31,
   "metadata": {},
   "outputs": [
    {
     "name": "stdout",
     "output_type": "stream",
     "text": [
      "[*********************100%***********************]  4 of 4 completed\n"
     ]
    }
   ],
   "source": [
    "data = yf.download(tickers=tics, period=\"5d\", interval=\"60m\", auto_adjust = True) \n",
    "data.columns = acols"
   ]
  },
  {
   "cell_type": "code",
   "execution_count": 34,
   "metadata": {},
   "outputs": [
    {
     "data": {
      "text/plain": [
       "<matplotlib.axes._subplots.AxesSubplot at 0x2c40d51bb88>"
      ]
     },
     "execution_count": 34,
     "metadata": {},
     "output_type": "execute_result"
    },
    {
     "data": {
      "image/png": "[encoded data removed]",
      "text/plain": [
       "<Figure size 432x288 with 1 Axes>"
      ]
     },
     "metadata": {
      "needs_background": "light"
     },
     "output_type": "display_data"
    }
   ],
   "source": [
    "df = data.CrudeOil_Cl\n",
    "df.plot()"
   ]
  },
  {
   "cell_type": "code",
   "execution_count": 4,
   "metadata": {},
   "outputs": [],
   "source": [
    "#pip install chart-studio\n",
    "#conda install -c plotly chart-studio"
   ]
  },
  {
   "cell_type": "code",
   "execution_count": 11,
   "metadata": {},
   "outputs": [
    {
     "data": {
      "text/html": [
       "        <script type=\"text/javascript\">\n",
       "        window.PlotlyConfig = {MathJaxConfig: 'local'};\n",
       "        if (window.MathJax) {MathJax.Hub.Config({SVG: {font: \"STIX-Web\"}});}\n",
       "        if (typeof require !== 'undefined') {\n",
       "        require.undef(\"plotly\");\n",
       "        requirejs.config({\n",
       "            paths: {\n",
       "                'plotly': ['https://cdn.plot.ly/plotly-latest.min']\n",
       "            }\n",
       "        });\n",
       "        require(['plotly'], function(Plotly) {\n",
       "            window._Plotly = Plotly;\n",
       "        });\n",
       "        }\n",
       "        </script>\n",
       "        "
      ]
     },
     "metadata": {},
     "output_type": "display_data"
    },
    {
     "data": {
      "text/html": [
       "        <script type=\"text/javascript\">\n",
       "        window.PlotlyConfig = {MathJaxConfig: 'local'};\n",
       "        if (window.MathJax) {MathJax.Hub.Config({SVG: {font: \"STIX-Web\"}});}\n",
       "        if (typeof require !== 'undefined') {\n",
       "        require.undef(\"plotly\");\n",
       "        requirejs.config({\n",
       "            paths: {\n",
       "                'plotly': ['https://cdn.plot.ly/plotly-latest.min']\n",
       "            }\n",
       "        });\n",
       "        require(['plotly'], function(Plotly) {\n",
       "            window._Plotly = Plotly;\n",
       "        });\n",
       "        }\n",
       "        </script>\n",
       "        "
      ]
     },
     "metadata": {},
     "output_type": "display_data"
    }
   ],
   "source": [
    "# Standard plotly imports\n",
    "from chart_studio.plotly import plot, iplot as py\n",
    "import plotly.graph_objects as go\n",
    "from plotly.offline import iplot, init_notebook_mode\n",
    "# Using plotly + cufflinks in offline mode\n",
    "import cufflinks as cf\n",
    "cf.go_offline(connected=True)\n",
    "init_notebook_mode(connected=True)"
   ]
  },
  {
   "cell_type": "code",
   "execution_count": 26,
   "metadata": {},
   "outputs": [
    {
     "ename": "ValueError",
     "evalue": "The truth value of an array with more than one element is ambiguous. Use a.any() or a.all()",
     "output_type": "error",
     "traceback": [
      "\u001b[1;31m---------------------------------------------------------------------------\u001b[0m",
      "\u001b[1;31mValueError\u001b[0m                                Traceback (most recent call last)",
      "\u001b[1;32m<ipython-input-26-315b01199938>\u001b[0m in \u001b[0;36m<module>\u001b[1;34m\u001b[0m\n\u001b[0;32m      7\u001b[0m \u001b[1;31m#fig = data[[index, 'CrudeOil-Hi']].iplot(kind='line')\u001b[0m\u001b[1;33m\u001b[0m\u001b[1;33m\u001b[0m\u001b[1;33m\u001b[0m\u001b[0m\n\u001b[0;32m      8\u001b[0m \u001b[1;31m#df = data[['CrudeOil-Hi','CrudeOil-Cl','CrudeOil-Lo']]\u001b[0m\u001b[1;33m\u001b[0m\u001b[1;33m\u001b[0m\u001b[1;33m\u001b[0m\u001b[0m\n\u001b[1;32m----> 9\u001b[1;33m \u001b[0mfig\u001b[0m \u001b[1;33m=\u001b[0m \u001b[0mdata\u001b[0m\u001b[1;33m.\u001b[0m\u001b[0miplot\u001b[0m\u001b[1;33m(\u001b[0m\u001b[0my\u001b[0m \u001b[1;33m=\u001b[0m \u001b[0mdata\u001b[0m\u001b[1;33m[\u001b[0m\u001b[1;34m'CrudeOil-Hi'\u001b[0m\u001b[1;33m]\u001b[0m\u001b[1;33m,\u001b[0m \u001b[0mx\u001b[0m \u001b[1;33m=\u001b[0m \u001b[0mdata\u001b[0m\u001b[1;33m.\u001b[0m\u001b[0mindex\u001b[0m\u001b[1;33m.\u001b[0m\u001b[0mdate\u001b[0m\u001b[1;33m,\u001b[0m \u001b[0masFigure\u001b[0m\u001b[1;33m=\u001b[0m\u001b[1;32mTrue\u001b[0m\u001b[1;33m,\u001b[0m \u001b[0mkind\u001b[0m\u001b[1;33m=\u001b[0m\u001b[1;34m\"line\"\u001b[0m\u001b[1;33m)\u001b[0m\u001b[1;33m\u001b[0m\u001b[1;33m\u001b[0m\u001b[0m\n\u001b[0m\u001b[0;32m     10\u001b[0m \u001b[1;31m#fig = data.iplot(y = {data.['CrudeOil-Hi'],data.['CrudeOil-Cl'],data.['CrudeOil-Lo']}, x = data.index, asFigure=True, kind=\"box\")\u001b[0m\u001b[1;33m\u001b[0m\u001b[1;33m\u001b[0m\u001b[1;33m\u001b[0m\u001b[0m\n\u001b[0;32m     11\u001b[0m \u001b[0mfig\u001b[0m\u001b[1;33m.\u001b[0m\u001b[0mshow\u001b[0m\u001b[1;33m(\u001b[0m\u001b[1;33m)\u001b[0m\u001b[1;33m\u001b[0m\u001b[1;33m\u001b[0m\u001b[0m\n",
      "\u001b[1;32m~\\AppData\\Local\\Continuum\\anaconda3\\lib\\site-packages\\cufflinks\\plotlytools.py\u001b[0m in \u001b[0;36m_iplot\u001b[1;34m(self, kind, data, layout, filename, sharing, title, xTitle, yTitle, zTitle, theme, colors, colorscale, fill, width, dash, mode, interpolation, symbol, size, barmode, sortbars, bargap, bargroupgap, bins, histnorm, histfunc, orientation, boxpoints, annotations, keys, bestfit, bestfit_colors, mean, mean_colors, categories, x, y, z, text, gridcolor, zerolinecolor, margin, labels, values, secondary_y, secondary_y_title, subplots, shape, error_x, error_y, error_type, locations, lon, lat, asFrame, asDates, asFigure, asImage, dimensions, asPlot, asUrl, online, **kwargs)\u001b[0m\n\u001b[0;32m    823\u001b[0m                                 \u001b[1;32mif\u001b[0m \u001b[0mtype\u001b[0m\u001b[1;33m(\u001b[0m\u001b[0mdf\u001b[0m\u001b[1;33m)\u001b[0m\u001b[1;33m==\u001b[0m\u001b[0mpd\u001b[0m\u001b[1;33m.\u001b[0m\u001b[0mcore\u001b[0m\u001b[1;33m.\u001b[0m\u001b[0mseries\u001b[0m\u001b[1;33m.\u001b[0m\u001b[0mSeries\u001b[0m\u001b[1;33m:\u001b[0m\u001b[1;33m\u001b[0m\u001b[1;33m\u001b[0m\u001b[0m\n\u001b[0;32m    824\u001b[0m                                         \u001b[0mdf\u001b[0m\u001b[1;33m=\u001b[0m\u001b[0mpd\u001b[0m\u001b[1;33m.\u001b[0m\u001b[0mDataFrame\u001b[0m\u001b[1;33m(\u001b[0m\u001b[1;33m{\u001b[0m\u001b[0mdf\u001b[0m\u001b[1;33m.\u001b[0m\u001b[0mname\u001b[0m\u001b[1;33m:\u001b[0m\u001b[0mdf\u001b[0m\u001b[1;33m}\u001b[0m\u001b[1;33m)\u001b[0m\u001b[1;33m\u001b[0m\u001b[1;33m\u001b[0m\u001b[0m\n\u001b[1;32m--> 825\u001b[1;33m                                 \u001b[1;32mif\u001b[0m \u001b[0mx\u001b[0m\u001b[1;33m:\u001b[0m\u001b[1;33m\u001b[0m\u001b[1;33m\u001b[0m\u001b[0m\n\u001b[0m\u001b[0;32m    826\u001b[0m                                         \u001b[0mdf\u001b[0m\u001b[1;33m=\u001b[0m\u001b[0mdf\u001b[0m\u001b[1;33m.\u001b[0m\u001b[0mset_index\u001b[0m\u001b[1;33m(\u001b[0m\u001b[0mx\u001b[0m\u001b[1;33m)\u001b[0m\u001b[1;33m\u001b[0m\u001b[1;33m\u001b[0m\u001b[0m\n\u001b[0;32m    827\u001b[0m                                 \u001b[1;32mif\u001b[0m \u001b[0my\u001b[0m \u001b[1;32mand\u001b[0m \u001b[0msecondary_y\u001b[0m\u001b[1;33m:\u001b[0m\u001b[1;33m\u001b[0m\u001b[1;33m\u001b[0m\u001b[0m\n",
      "\u001b[1;31mValueError\u001b[0m: The truth value of an array with more than one element is ambiguous. Use a.any() or a.all()"
     ]
    }
   ],
   "source": [
    "#fig = df[['danceability', 'energy']].iplot(kind='hist', color=['purple', 'blue'], xTitle='Danceability', yTitle='Frequency', title='Danceability Histogram')\n",
    "#fig = px.scatter(df, x=df.sepal_length, y=df.sepal_width, color=df.species, size=df.petal_length)\n",
    "\n",
    "#https://dev.socrata.com/blog/2016/02/02/plotly-pandas.html\n",
    "#https://plotly.com/python/cufflinks/\n",
    "\n",
    "#fig = data[[index, 'CrudeOil-Hi']].iplot(kind='line')\n",
    "#df = data[['CrudeOil-Hi','CrudeOil-Cl','CrudeOil-Lo']]\n",
    "fig = data.iplot(y = data['CrudeOil-Hi'], x = data.index.date, asFigure=True, kind=\"line\")\n",
    "#fig = data.iplot(y = {data.['CrudeOil-Hi'],data.['CrudeOil-Cl'],data.['CrudeOil-Lo']}, x = data.index, asFigure=True, kind=\"box\")\n",
    "fig.show()"
   ]
  },
  {
   "cell_type": "code",
   "execution_count": 18,
   "metadata": {},
   "outputs": [
    {
     "data": {
      "text/html": [
       "<div>\n",
       "<style scoped>\n",
       "    .dataframe tbody tr th:only-of-type {\n",
       "        vertical-align: middle;\n",
       "    }\n",
       "\n",
       "    .dataframe tbody tr th {\n",
       "        vertical-align: top;\n",
       "    }\n",
       "\n",
       "    .dataframe thead th {\n",
       "        text-align: right;\n",
       "    }\n",
       "</style>\n",
       "<table border=\"1\" class=\"dataframe\">\n",
       "  <thead>\n",
       "    <tr style=\"text-align: right;\">\n",
       "      <th></th>\n",
       "      <th>CrudeOil-Cl</th>\n",
       "      <th>CrudeOil-Hi</th>\n",
       "      <th>CrudeOil-Lo</th>\n",
       "      <th>CrudeOil-Op</th>\n",
       "      <th>CrudeOil-Vo</th>\n",
       "      <th>GBPAUD-Cl</th>\n",
       "      <th>GBPAUD-Hi</th>\n",
       "      <th>GBPAUD-Lo</th>\n",
       "      <th>GBPAUD-Op</th>\n",
       "      <th>GBPAUD-Vo</th>\n",
       "      <th>Gold-Cl</th>\n",
       "      <th>Gold-Hi</th>\n",
       "      <th>Gold-Lo</th>\n",
       "      <th>Gold-Op</th>\n",
       "      <th>Gold-Vo</th>\n",
       "      <th>Copper-Cl</th>\n",
       "      <th>Copper-Hi</th>\n",
       "      <th>Copper-Lo</th>\n",
       "      <th>Copper-Op</th>\n",
       "      <th>Copper-Vo</th>\n",
       "    </tr>\n",
       "    <tr>\n",
       "      <th>Datetime</th>\n",
       "      <th></th>\n",
       "      <th></th>\n",
       "      <th></th>\n",
       "      <th></th>\n",
       "      <th></th>\n",
       "      <th></th>\n",
       "      <th></th>\n",
       "      <th></th>\n",
       "      <th></th>\n",
       "      <th></th>\n",
       "      <th></th>\n",
       "      <th></th>\n",
       "      <th></th>\n",
       "      <th></th>\n",
       "      <th></th>\n",
       "      <th></th>\n",
       "      <th></th>\n",
       "      <th></th>\n",
       "      <th></th>\n",
       "      <th></th>\n",
       "    </tr>\n",
       "  </thead>\n",
       "  <tbody>\n",
       "    <tr>\n",
       "      <td>2020-03-24 06:00:00+00:00</td>\n",
       "      <td>24.590000</td>\n",
       "      <td>1.95658</td>\n",
       "      <td>1598.500000</td>\n",
       "      <td>2.1405</td>\n",
       "      <td>24.790001</td>\n",
       "      <td>1.96901</td>\n",
       "      <td>1603.800049</td>\n",
       "      <td>2.1475</td>\n",
       "      <td>24.200001</td>\n",
       "      <td>1.95144</td>\n",
       "      <td>1578.800049</td>\n",
       "      <td>2.1270</td>\n",
       "      <td>24.350000</td>\n",
       "      <td>1.96570</td>\n",
       "      <td>1585.400024</td>\n",
       "      <td>2.1290</td>\n",
       "      <td>15863.0</td>\n",
       "      <td>0.0</td>\n",
       "      <td>15468.0</td>\n",
       "      <td>5118.0</td>\n",
       "    </tr>\n",
       "    <tr>\n",
       "      <td>2020-03-24 07:00:00+00:00</td>\n",
       "      <td>24.450001</td>\n",
       "      <td>1.95712</td>\n",
       "      <td>1603.000000</td>\n",
       "      <td>2.1485</td>\n",
       "      <td>24.650000</td>\n",
       "      <td>1.96314</td>\n",
       "      <td>1603.400024</td>\n",
       "      <td>2.1555</td>\n",
       "      <td>24.240000</td>\n",
       "      <td>1.95159</td>\n",
       "      <td>1593.300049</td>\n",
       "      <td>2.1355</td>\n",
       "      <td>24.590000</td>\n",
       "      <td>1.95646</td>\n",
       "      <td>1598.300049</td>\n",
       "      <td>2.1405</td>\n",
       "      <td>11957.0</td>\n",
       "      <td>0.0</td>\n",
       "      <td>12479.0</td>\n",
       "      <td>1925.0</td>\n",
       "    </tr>\n",
       "    <tr>\n",
       "      <td>2020-03-24 08:00:00+00:00</td>\n",
       "      <td>24.540001</td>\n",
       "      <td>1.96380</td>\n",
       "      <td>1618.099976</td>\n",
       "      <td>2.1490</td>\n",
       "      <td>24.740000</td>\n",
       "      <td>1.96526</td>\n",
       "      <td>1629.000000</td>\n",
       "      <td>2.1550</td>\n",
       "      <td>24.160000</td>\n",
       "      <td>1.95137</td>\n",
       "      <td>1597.599976</td>\n",
       "      <td>2.1400</td>\n",
       "      <td>24.450001</td>\n",
       "      <td>1.95721</td>\n",
       "      <td>1603.099976</td>\n",
       "      <td>2.1485</td>\n",
       "      <td>22891.0</td>\n",
       "      <td>0.0</td>\n",
       "      <td>20115.0</td>\n",
       "      <td>1942.0</td>\n",
       "    </tr>\n",
       "    <tr>\n",
       "      <td>2020-03-24 09:00:00+00:00</td>\n",
       "      <td>24.850000</td>\n",
       "      <td>1.96744</td>\n",
       "      <td>1632.000000</td>\n",
       "      <td>2.1780</td>\n",
       "      <td>25.000000</td>\n",
       "      <td>1.97094</td>\n",
       "      <td>1636.900024</td>\n",
       "      <td>2.1795</td>\n",
       "      <td>24.420000</td>\n",
       "      <td>1.96189</td>\n",
       "      <td>1616.599976</td>\n",
       "      <td>2.1465</td>\n",
       "      <td>24.530001</td>\n",
       "      <td>1.96368</td>\n",
       "      <td>1618.400024</td>\n",
       "      <td>2.1490</td>\n",
       "      <td>20938.0</td>\n",
       "      <td>0.0</td>\n",
       "      <td>20857.0</td>\n",
       "      <td>3270.0</td>\n",
       "    </tr>\n",
       "    <tr>\n",
       "      <td>2020-03-24 10:00:00+00:00</td>\n",
       "      <td>24.690001</td>\n",
       "      <td>1.98397</td>\n",
       "      <td>1667.400024</td>\n",
       "      <td>2.1750</td>\n",
       "      <td>25.160000</td>\n",
       "      <td>1.98518</td>\n",
       "      <td>1698.000000</td>\n",
       "      <td>2.1825</td>\n",
       "      <td>24.580000</td>\n",
       "      <td>1.96436</td>\n",
       "      <td>1631.000000</td>\n",
       "      <td>2.1725</td>\n",
       "      <td>24.850000</td>\n",
       "      <td>1.96743</td>\n",
       "      <td>1631.900024</td>\n",
       "      <td>2.1785</td>\n",
       "      <td>21377.0</td>\n",
       "      <td>0.0</td>\n",
       "      <td>42353.0</td>\n",
       "      <td>1861.0</td>\n",
       "    </tr>\n",
       "  </tbody>\n",
       "</table>\n",
       "</div>"
      ],
      "text/plain": [
       "                           CrudeOil-Cl  CrudeOil-Hi  CrudeOil-Lo  CrudeOil-Op  \\\n",
       "Datetime                                                                        \n",
       "2020-03-24 06:00:00+00:00    24.590000      1.95658  1598.500000       2.1405   \n",
       "2020-03-24 07:00:00+00:00    24.450001      1.95712  1603.000000       2.1485   \n",
       "2020-03-24 08:00:00+00:00    24.540001      1.96380  1618.099976       2.1490   \n",
       "2020-03-24 09:00:00+00:00    24.850000      1.96744  1632.000000       2.1780   \n",
       "2020-03-24 10:00:00+00:00    24.690001      1.98397  1667.400024       2.1750   \n",
       "\n",
       "                           CrudeOil-Vo  GBPAUD-Cl    GBPAUD-Hi  GBPAUD-Lo  \\\n",
       "Datetime                                                                    \n",
       "2020-03-24 06:00:00+00:00    24.790001    1.96901  1603.800049     2.1475   \n",
       "2020-03-24 07:00:00+00:00    24.650000    1.96314  1603.400024     2.1555   \n",
       "2020-03-24 08:00:00+00:00    24.740000    1.96526  1629.000000     2.1550   \n",
       "2020-03-24 09:00:00+00:00    25.000000    1.97094  1636.900024     2.1795   \n",
       "2020-03-24 10:00:00+00:00    25.160000    1.98518  1698.000000     2.1825   \n",
       "\n",
       "                           GBPAUD-Op  GBPAUD-Vo      Gold-Cl  Gold-Hi  \\\n",
       "Datetime                                                                \n",
       "2020-03-24 06:00:00+00:00  24.200001    1.95144  1578.800049   2.1270   \n",
       "2020-03-24 07:00:00+00:00  24.240000    1.95159  1593.300049   2.1355   \n",
       "2020-03-24 08:00:00+00:00  24.160000    1.95137  1597.599976   2.1400   \n",
       "2020-03-24 09:00:00+00:00  24.420000    1.96189  1616.599976   2.1465   \n",
       "2020-03-24 10:00:00+00:00  24.580000    1.96436  1631.000000   2.1725   \n",
       "\n",
       "                             Gold-Lo  Gold-Op      Gold-Vo  Copper-Cl  \\\n",
       "Datetime                                                                \n",
       "2020-03-24 06:00:00+00:00  24.350000  1.96570  1585.400024     2.1290   \n",
       "2020-03-24 07:00:00+00:00  24.590000  1.95646  1598.300049     2.1405   \n",
       "2020-03-24 08:00:00+00:00  24.450001  1.95721  1603.099976     2.1485   \n",
       "2020-03-24 09:00:00+00:00  24.530001  1.96368  1618.400024     2.1490   \n",
       "2020-03-24 10:00:00+00:00  24.850000  1.96743  1631.900024     2.1785   \n",
       "\n",
       "                           Copper-Hi  Copper-Lo  Copper-Op  Copper-Vo  \n",
       "Datetime                                                               \n",
       "2020-03-24 06:00:00+00:00    15863.0        0.0    15468.0     5118.0  \n",
       "2020-03-24 07:00:00+00:00    11957.0        0.0    12479.0     1925.0  \n",
       "2020-03-24 08:00:00+00:00    22891.0        0.0    20115.0     1942.0  \n",
       "2020-03-24 09:00:00+00:00    20938.0        0.0    20857.0     3270.0  \n",
       "2020-03-24 10:00:00+00:00    21377.0        0.0    42353.0     1861.0  "
      ]
     },
     "execution_count": 18,
     "metadata": {},
     "output_type": "execute_result"
    }
   ],
   "source": [
    "#data.head(15)\n",
    "data.iloc[30:35]"
   ]
  }
 ],
 "metadata": {
  "kernelspec": {
   "display_name": "Python 3",
   "language": "python",
   "name": "python3"
  },
  "language_info": {
   "codemirror_mode": {
    "name": "ipython",
    "version": 3
   },
   "file_extension": ".py",
   "mimetype": "text/x-python",
   "name": "python",
   "nbconvert_exporter": "python",
   "pygments_lexer": "ipython3",
   "version": "3.7.4"
  }
 },
 "nbformat": 4,
 "nbformat_minor": 2
}
