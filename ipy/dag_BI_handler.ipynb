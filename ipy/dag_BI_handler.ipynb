{
 "cells": [
  {
   "cell_type": "code",
   "execution_count": 11,
   "metadata": {},
   "outputs": [
    {
     "name": "stdout",
     "output_type": "stream",
     "text": [
      "2020-06-09 09:00:00\n"
     ]
    }
   ],
   "source": [
    "from datetime import datetime, timedelta\n",
    "d = datetime(2020, 6, 2, 9)\n",
    "i = timedelta(days = 7)\n",
    "print(d+i)\n"
   ]
  },
  {
   "cell_type": "code",
   "execution_count": 9,
   "metadata": {},
   "outputs": [
    {
     "name": "stdout",
     "output_type": "stream",
     "text": [
      "[2, 'naj-air', 14, 'Supplementary', 'v_X7', 'region_pair,first_flight_date,skytra_rpk', \"region_pair='Asia/Pacific-Europe'\", 'BI/{{ ds_nodash }}/{{ ds_nodash }}_RPK_ASEU.csv]']\n"
     ]
    }
   ],
   "source": [
    "d = [\n",
    "2, 'naj-air', 14, 'Supplementary', 'v_X7', 'region_pair,first_flight_date,skytra_rpk',\n",
    "\"region_pair='Asia/Pacific-Europe'\", 'BI/{{ ds_nodash }}/{{ ds_nodash }}_RPK_ASEU.csv]'\n",
    "]\n",
    "print(d)"
   ]
  },
  {
   "cell_type": "code",
   "execution_count": 7,
   "metadata": {},
   "outputs": [
    {
     "data": {
      "text/plain": [
       "'BI/{{ ds_nodash }}/{{ ds_nodash }}_RPK_ASEU.csv]'"
      ]
     },
     "execution_count": 7,
     "metadata": {},
     "output_type": "execute_result"
    }
   ],
   "source": [
    "index = -1\n",
    "d[index]"
   ]
  }
 ],
 "metadata": {
  "kernelspec": {
   "display_name": "Python 3",
   "language": "python",
   "name": "python3"
  },
  "language_info": {
   "codemirror_mode": {
    "name": "ipython",
    "version": 3
   },
   "file_extension": ".py",
   "mimetype": "text/x-python",
   "name": "python",
   "nbconvert_exporter": "python",
   "pygments_lexer": "ipython3",
   "version": "3.7.4"
  }
 },
 "nbformat": 4,
 "nbformat_minor": 2
}
