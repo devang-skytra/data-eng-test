{
 "cells": [
  {
   "cell_type": "code",
   "execution_count": 1,
   "metadata": {},
   "outputs": [
    {
     "data": {
      "text/plain": [
       "'\\nconda env list\\nconda activate base\\nconda list \\npip install aiohttp\\n'"
      ]
     },
     "execution_count": 1,
     "metadata": {},
     "output_type": "execute_result"
    }
   ],
   "source": [
    "\"\"\"\n",
    "conda env list\n",
    "conda activate base\n",
    "conda list \n",
    "pip install aiohttp\n",
    "\"\"\""
   ]
  },
  {
   "cell_type": "code",
   "execution_count": 1,
   "metadata": {},
   "outputs": [],
   "source": [
    "from google.cloud import bigquery\n",
    "import pandas as pd"
   ]
  },
  {
   "cell_type": "code",
   "execution_count": 2,
   "metadata": {},
   "outputs": [],
   "source": [
    "import asyncio\n",
    "import time\n",
    "\n",
    "import aiohttp\n",
    "from aiohttp import ClientSession\n",
    "# from typing import Any, Iterable, List, Tuple, Callable\n",
    "# import os\n",
    "\n",
    "# import requests"
   ]
  },
  {
   "cell_type": "code",
   "execution_count": 3,
   "metadata": {},
   "outputs": [
    {
     "name": "stdout",
     "output_type": "stream",
     "text": [
      "__main__\n"
     ]
    }
   ],
   "source": [
    "print(__name__)"
   ]
  },
  {
   "cell_type": "code",
   "execution_count": 4,
   "metadata": {},
   "outputs": [],
   "source": [
    "# groovy nested fx\n",
    "\n",
    "async def asyncio_request_batch(url_list):\n",
    "    \n",
    "    async def asyncio_request(url):\n",
    "        print(f\"Start downloading {url}\")\n",
    "        \n",
    "        async with aiohttp.ClientSession() as s:\n",
    "            resp = await s.get(url)\n",
    "            #out = image_name_from_url(url), await resp.read()\n",
    "            \n",
    "        # print(resp[:55])\n",
    "        # return out\n",
    "        \n",
    "    return await asyncio.gather(*[asyncio_request(url) for url in url_list])\n"
   ]
  },
  {
   "cell_type": "code",
   "execution_count": 17,
   "metadata": {},
   "outputs": [],
   "source": [
    "def kiwi_api_call_async(dte_as_str, maxRows, rChunk):\n",
    "    \n",
    "    #cred_devtest_gcc = 'C:\\gcpsdk\\creds\\sky-devandtest-gcc.json'\n",
    "    cred_devtest_gcc = 'C:\\\\Users\\\\PaulDesmond\\\\OneDrive - SKYTRA LIMITED\\\\Automation\\\\gcp_keys\\\\'\n",
    "    cred_devtest_gcc = cred_devtest_gcc + 'skytra-benchmark-devandtest-cloud-composer.json'\n",
    "    client = bigquery.Client.from_service_account_json(cred_devtest_gcc)\n",
    "    prj = 'skytra-benchmark-uat.'\n",
    "    \n",
    "    #client = bigquery.Client()\n",
    "    #prj = ''\n",
    "    \n",
    "    qry = f\"\"\"select api_url from {prj}log.kiwi_api_url_hist where api_date = DATE'{dte_as_str}' \n",
    "        order by tick_count desc LIMIT {maxRows}\"\"\"\n",
    "    query_job = client.query(qry, location = 'EU') \n",
    "    df = query_job.result().to_dataframe()\n",
    "    \n",
    "    rMax = len(df.index)\n",
    "    i = 0\n",
    "    \n",
    "    # https://stackoverflow.com/questions/55409641/asyncio-run-cannot-be-called-from-a-running-event-loop#:~:text=run()%20documentation%20says%3A,running%20in%20the%20same%20thread.&text=That's%20the%20reason%20why%20you,call%20await%20main(url)%20.\n",
    "    # *** asyncio.run() cannot be called from a running event loop ***************\n",
    "    # I think this is more to do with Jupyter / if __name__ == \"__main__\"   rather than While Loop\n",
    "    \n",
    "    while i * rChunk < rMax:\n",
    "\n",
    "        dfSubset = df[i * rChunk:i * rChunk + rChunk]\n",
    "\n",
    "        # orig method tested but cannot see request result ??\n",
    "        # async_request_chunk(dfSubset)\n",
    "\n",
    "        url_list = dfSubset.api_url.tolist()\n",
    "        # print(type(dfSubset.api_url))\n",
    "        # print(type(url_list))\n",
    "\n",
    "        st = time.time()\n",
    "\n",
    "        # apparently in Jupyter syntax is different\n",
    "        #if __name__ == \"__main__\":\n",
    "            #reqResults = await asyncio_request_batch(url_list)\n",
    "            #run_async(asyncio_request_batch, url_list)\n",
    "\n",
    "        # non-Jupyter\n",
    "        reqResults = asyncio.run(asyncio_request_batch(url_list))\n",
    "\n",
    "        print(f\"Asynchronous exec took {time.time() - st} seconds\")\n",
    "\n",
    "        i = i + 1\n"
   ]
  },
  {
   "cell_type": "code",
   "execution_count": 11,
   "metadata": {},
   "outputs": [
    {
     "data": {
      "text/plain": [
       "'C:\\\\Users\\\\PaulDesmond\\\\OneDrive - SKYTRA LIMITED\\\\Automation\\\\gcp_keys\\\\skytra-benchmark-devandtest-cloud-composer.json'"
      ]
     },
     "execution_count": 11,
     "metadata": {},
     "output_type": "execute_result"
    }
   ],
   "source": [
    "#cred_devtest_gcc = 'C:\\\\Users\\\\PaulDesmond\\\\OneDrive - SKYTRA LIMITED\\\\Automation\\\\gcp_keys\\\\'\n",
    "#cred_devtest_gcc = cred_devtest_gcc + 'skytra-benchmark-devandtest-cloud-composer.json'\n",
    "#cred_devtest_gcc"
   ]
  },
  {
   "cell_type": "code",
   "execution_count": 18,
   "metadata": {},
   "outputs": [
    {
     "name": "stderr",
     "output_type": "stream",
     "text": [
      "c:\\Anaconda3\\lib\\site-packages\\ipykernel_launcher.py:15: PyarrowMissingWarning: Converting to a dataframe without pyarrow installed is often slower and will become unsupported in the future. Please install the pyarrow package.\n",
      "  from ipykernel import kernelapp as app\n"
     ]
    },
    {
     "ename": "RuntimeError",
     "evalue": "asyncio.run() cannot be called from a running event loop",
     "output_type": "error",
     "traceback": [
      "\u001b[1;31m---------------------------------------------------------------------------\u001b[0m",
      "\u001b[1;31mRuntimeError\u001b[0m                              Traceback (most recent call last)",
      "\u001b[1;32m<ipython-input-18-4a14cb9a16a7>\u001b[0m in \u001b[0;36m<module>\u001b[1;34m\u001b[0m\n\u001b[1;32m----> 1\u001b[1;33m \u001b[0mkiwi_api_call_async\u001b[0m\u001b[1;33m(\u001b[0m\u001b[1;34m'2020-12-09'\u001b[0m\u001b[1;33m,\u001b[0m \u001b[1;36m50\u001b[0m\u001b[1;33m,\u001b[0m \u001b[1;36m25\u001b[0m\u001b[1;33m)\u001b[0m\u001b[1;33m\u001b[0m\u001b[1;33m\u001b[0m\u001b[0m\n\u001b[0m\u001b[0;32m      2\u001b[0m \u001b[0mprint\u001b[0m\u001b[1;33m(\u001b[0m\u001b[1;34m'finished'\u001b[0m\u001b[1;33m)\u001b[0m\u001b[1;33m\u001b[0m\u001b[1;33m\u001b[0m\u001b[0m\n",
      "\u001b[1;32m<ipython-input-17-55a520637ba8>\u001b[0m in \u001b[0;36mkiwi_api_call_async\u001b[1;34m(dte_as_str, maxRows, rChunk)\u001b[0m\n\u001b[0;32m     41\u001b[0m \u001b[1;33m\u001b[0m\u001b[0m\n\u001b[0;32m     42\u001b[0m         \u001b[1;31m# non-Jupyter\u001b[0m\u001b[1;33m\u001b[0m\u001b[1;33m\u001b[0m\u001b[1;33m\u001b[0m\u001b[0m\n\u001b[1;32m---> 43\u001b[1;33m         \u001b[0mreqResults\u001b[0m \u001b[1;33m=\u001b[0m \u001b[0masyncio\u001b[0m\u001b[1;33m.\u001b[0m\u001b[0mrun\u001b[0m\u001b[1;33m(\u001b[0m\u001b[0masyncio_request_batch\u001b[0m\u001b[1;33m(\u001b[0m\u001b[0murl_list\u001b[0m\u001b[1;33m)\u001b[0m\u001b[1;33m)\u001b[0m\u001b[1;33m\u001b[0m\u001b[1;33m\u001b[0m\u001b[0m\n\u001b[0m\u001b[0;32m     44\u001b[0m \u001b[1;33m\u001b[0m\u001b[0m\n\u001b[0;32m     45\u001b[0m         \u001b[0mprint\u001b[0m\u001b[1;33m(\u001b[0m\u001b[1;34mf\"Asynchronous exec took {time.time() - st} seconds\"\u001b[0m\u001b[1;33m)\u001b[0m\u001b[1;33m\u001b[0m\u001b[1;33m\u001b[0m\u001b[0m\n",
      "\u001b[1;32mc:\\Anaconda3\\lib\\asyncio\\runners.py\u001b[0m in \u001b[0;36mrun\u001b[1;34m(main, debug)\u001b[0m\n\u001b[0;32m     32\u001b[0m     \u001b[1;32mif\u001b[0m \u001b[0mevents\u001b[0m\u001b[1;33m.\u001b[0m\u001b[0m_get_running_loop\u001b[0m\u001b[1;33m(\u001b[0m\u001b[1;33m)\u001b[0m \u001b[1;32mis\u001b[0m \u001b[1;32mnot\u001b[0m \u001b[1;32mNone\u001b[0m\u001b[1;33m:\u001b[0m\u001b[1;33m\u001b[0m\u001b[1;33m\u001b[0m\u001b[0m\n\u001b[0;32m     33\u001b[0m         raise RuntimeError(\n\u001b[1;32m---> 34\u001b[1;33m             \"asyncio.run() cannot be called from a running event loop\")\n\u001b[0m\u001b[0;32m     35\u001b[0m \u001b[1;33m\u001b[0m\u001b[0m\n\u001b[0;32m     36\u001b[0m     \u001b[1;32mif\u001b[0m \u001b[1;32mnot\u001b[0m \u001b[0mcoroutines\u001b[0m\u001b[1;33m.\u001b[0m\u001b[0miscoroutine\u001b[0m\u001b[1;33m(\u001b[0m\u001b[0mmain\u001b[0m\u001b[1;33m)\u001b[0m\u001b[1;33m:\u001b[0m\u001b[1;33m\u001b[0m\u001b[1;33m\u001b[0m\u001b[0m\n",
      "\u001b[1;31mRuntimeError\u001b[0m: asyncio.run() cannot be called from a running event loop"
     ]
    }
   ],
   "source": [
    "kiwi_api_call_async('2020-12-09', 50, 25)\n",
    "print('finished')"
   ]
  },
  {
   "cell_type": "code",
   "execution_count": null,
   "metadata": {},
   "outputs": [],
   "source": [
    "# orig DONT CHANGE\n",
    "# https://towardsdatascience.com/stop-waiting-start-using-async-and-await-18fcd1c28fd0\n",
    "\n",
    "\"\"\"\n",
    "async def donwload_aio(urls:Iterable[str])->List[Tuple[str, bytes]]:\n",
    "    async def download(url: str) -> Tuple[str, bytes]:\n",
    "        print(f\"Start downloading {url}\")\n",
    "        async with aiohttp.ClientSession() as s:\n",
    "            resp = await s.get(url)\n",
    "            out = image_name_from_url(url), await resp.read()\n",
    "        print(f\"Done downloading {url}\")\n",
    "        return out\n",
    "        \n",
    "    return await asyncio.gather(*[download(url) for url in urls])\n",
    "\n",
    "\n",
    "# Take only 200 images to not run into issues with gather     \n",
    "reduced = images[:200]\n",
    "st = time.time()\n",
    "\n",
    "images_a = asyncio.run(donwload_aio(reduced))\n",
    "\"\"\""
   ]
  },
  {
   "cell_type": "code",
   "execution_count": null,
   "metadata": {},
   "outputs": [],
   "source": [
    "\"\"\"\n",
    "from multiprocessing.dummy import Pool\n",
    "import requests\n",
    "\n",
    "def async_request_chunk(dfSubset):\n",
    "    pool = Pool(len(dfSubset.index))\n",
    "\n",
    "    reqSet = []\n",
    "    for i in dfSubset.index:\n",
    "        \n",
    "        reqSet.append(pool.apply_async( requests.get, [dfSubset.api_url[i]] ))\n",
    "        # print(dfSubset.api_url[i])\n",
    "        \n",
    "    for req in reqSet:\n",
    "        try:\n",
    "            r = req.get() # For each req, wait until the request is finished and then print the response object\n",
    "            print(r[:55])\n",
    "        except:\n",
    "            pass\n",
    "\"\"\""
   ]
  },
  {
   "cell_type": "code",
   "execution_count": null,
   "metadata": {},
   "outputs": [],
   "source": [
    "\"\"\"\n",
    "#https://stackoverflow.com/questions/55409641/asyncio-run-cannot-be-called-from-a-running-event-loop#:~:text=run()%20documentation%20says%3A,running%20in%20the%20same%20thread.&text=That's%20the%20reason%20why%20you,call%20await%20main(url)%20.\n",
    "\n",
    "import threading\n",
    "\n",
    "class RunThread(threading.Thread):\n",
    "    def __init__(self, func, args, kwargs):\n",
    "        self.func = func\n",
    "        self.args = args\n",
    "        self.kwargs = kwargs\n",
    "        super().__init__()\n",
    "\n",
    "    def run(self):\n",
    "        self.result = asyncio.run(self.func(*self.args, **self.kwargs))\n",
    "\n",
    "def run_async(func, *args, **kwargs):\n",
    "    try:\n",
    "        loop = asyncio.get_running_loop()\n",
    "    except RuntimeError:\n",
    "        loop = None\n",
    "    if loop and loop.is_running():\n",
    "        thread = RunThread(func, args, kwargs)\n",
    "        thread.start()\n",
    "        thread.join()\n",
    "        \n",
    "        # return thread.result\n",
    "        \n",
    "    else:\n",
    "        return asyncio.run(func(*args, **kwargs))\n",
    "\"\"\""
   ]
  }
 ],
 "metadata": {
  "kernelspec": {
   "display_name": "Python 3",
   "language": "python",
   "name": "python3"
  },
  "language_info": {
   "codemirror_mode": {
    "name": "ipython",
    "version": 3
   },
   "file_extension": ".py",
   "mimetype": "text/x-python",
   "name": "python",
   "nbconvert_exporter": "python",
   "pygments_lexer": "ipython3",
   "version": "3.7.6"
  }
 },
 "nbformat": 4,
 "nbformat_minor": 4
}
