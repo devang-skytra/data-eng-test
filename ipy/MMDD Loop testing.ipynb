{
 "cells": [
  {
   "cell_type": "code",
   "execution_count": 16,
   "metadata": {},
   "outputs": [],
   "source": [
    "from datetime import datetime, timedelta\n",
    "from calendar import monthrange\n",
    "\n",
    "rMonths = range (0, 13)\n",
    "\n",
    "#Multi-month case = SUCCESSFUL\n",
    "\n",
    "#batchYear = 2019\n",
    "#minMonth = 1\n",
    "#maxMonth = 2\t# make minMonth and maxMonth same to run one month at a time\n",
    "#minDay = 1\n",
    "#maxDay = 6\t# make minMonth and maxMonth same to run one month at a time\n",
    "#parallelCount = 3\n",
    "\n",
    "#Single-month case = \n",
    "\n",
    "batchYear = 2019\n",
    "minMonth = 11\n",
    "maxMonth = 11\n",
    "minDay = 1\n",
    "maxDay = 7\n",
    "parallelCount = 3\n",
    "\n",
    "lMonths = []"
   ]
  },
  {
   "cell_type": "code",
   "execution_count": 17,
   "metadata": {},
   "outputs": [],
   "source": [
    "# loop through the Month(s) we want to use to build up our DAG\n",
    "for i in rMonths:\n",
    "    if minMonth <= i <= maxMonth:\n",
    "        BOM = datetime(batchYear, i, 1)\n",
    "        DayCount = monthrange(batchYear, i)[1]\n",
    "        lDates = [BOM + timedelta(days = x) for x in range(DayCount)]\n",
    "        lYYYYMM = [format(x, '%Y%m') for x in lDates]\n",
    "        lDatesString = [format(x, '%Y-%m-%d') for x in lDates]\n",
    "        #f'{i:02}' = 'MM'\n",
    "        lMonths.append([ lYYYYMM, lDatesString ])\n"
   ]
  },
  {
   "cell_type": "code",
   "execution_count": 18,
   "metadata": {},
   "outputs": [
    {
     "name": "stdout",
     "output_type": "stream",
     "text": [
      "..  MonthStart.bashRemoveExternalKiwi2019-11-01\n",
      "..  bashRemoveExternalKiwi2019-11-01.bqX5b2019-11-01\n",
      "..  MonthStart.bashRemoveExternalKiwi2019-11-02\n",
      "..  bashRemoveExternalKiwi2019-11-02.bqX5b2019-11-02\n",
      "..  MonthStart.bashRemoveExternalKiwi2019-11-03\n",
      "..  bashRemoveExternalKiwi2019-11-03.bqX5b2019-11-03\n",
      "..  bqX5b2019-11-01.bashRemoveExternalKiwi2019-11-04\n",
      "..  bashRemoveExternalKiwi2019-11-04.bqX5b2019-11-04\n",
      "..  bqX5b2019-11-02.bashRemoveExternalKiwi2019-11-05\n",
      "..  bashRemoveExternalKiwi2019-11-05.bqX5b2019-11-05\n",
      "..  bqX5b2019-11-03.bashRemoveExternalKiwi2019-11-06\n",
      "..  bashRemoveExternalKiwi2019-11-06.bqX5b2019-11-06\n",
      "..  bqX5b2019-11-04.bashRemoveExternalKiwi2019-11-07\n",
      "..  bashRemoveExternalKiwi2019-11-07.bqX5b2019-11-07\n",
      "\n"
     ]
    }
   ],
   "source": [
    "s = ''\n",
    "for m in lMonths: \n",
    "    \n",
    "    YYYYMM = m[0][0]\n",
    "    MonthStart = 'MonthStart'\n",
    "    dCount = 0\n",
    "    taskN = []\n",
    "        \n",
    "    for d in m[1]:    # lMonths[0] = lYYYYMM[]  :  lMonths[1] = lDatesString[]\n",
    "        \n",
    "        aYMD = d.split('-')\n",
    "        currentDay = int(aYMD[2])\n",
    "        \n",
    "        #if minDay <= int(aYMD[2]) <= maxDay:\n",
    "        if minDay <= currentDay <= maxDay:\n",
    "            \n",
    "            dCount = dCount + 1\n",
    "            \n",
    "            bashRemoveExternalKiwi = 'bashRemoveExternalKiwi' + d\n",
    "            bqX5b = 'bqX5b' + d\n",
    "\n",
    "            \n",
    "            if dCount > parallelCount:\n",
    "                s = s + '..  ' + taskN.pop(0) + '.' + bashRemoveExternalKiwi + '\\n'\n",
    "            else:\n",
    "                s = s + '..  ' +  MonthStart + '.' + bashRemoveExternalKiwi + '\\n'\n",
    "\n",
    "            s = s + '..  ' +  bashRemoveExternalKiwi + '.' + bqX5b + '\\n'\n",
    "\n",
    "            # append task(n) of pipeline task-set to que so we can use it as predecessor in parallelCount loops time\n",
    "            taskN.append(bqX5b)   \n",
    "\n",
    "print(s)"
   ]
  },
  {
   "cell_type": "code",
   "execution_count": 19,
   "metadata": {},
   "outputs": [
    {
     "data": {
      "text/plain": [
       "1"
      ]
     },
     "execution_count": 19,
     "metadata": {},
     "output_type": "execute_result"
    }
   ],
   "source": [
    "len(lMonths)"
   ]
  },
  {
   "cell_type": "code",
   "execution_count": 5,
   "metadata": {},
   "outputs": [
    {
     "data": {
      "text/plain": [
       "'201903'"
      ]
     },
     "execution_count": 5,
     "metadata": {},
     "output_type": "execute_result"
    }
   ],
   "source": [
    "YYYYMM[0:4] + YYYYMM[4:]"
   ]
  },
  {
   "cell_type": "code",
   "execution_count": 6,
   "metadata": {},
   "outputs": [],
   "source": [
    "source_objects = [\n",
    "            [],\n",
    "            [f'searchSamples/2019/{YYYYMM[4:]}/0*.gz.parquet'],\n",
    "            [f'searchSamples/2019/{YYYYMM[4:]}/1*.gz.parquet'],\n",
    "            [f'searchSamples/2019/{YYYYMM[4:]}/2*.gz.parquet',f'searchSamples/2019/{YYYYMM[4:]}/3*.gz.parquet']\n",
    "        ]"
   ]
  },
  {
   "cell_type": "code",
   "execution_count": 7,
   "metadata": {},
   "outputs": [
    {
     "data": {
      "text/plain": [
       "['searchSamples/2019/03/0*.gz.parquet']"
      ]
     },
     "execution_count": 7,
     "metadata": {},
     "output_type": "execute_result"
    }
   ],
   "source": [
    "source_objects[1]"
   ]
  }
 ],
 "metadata": {
  "kernelspec": {
   "display_name": "Python 3",
   "language": "python",
   "name": "python3"
  },
  "language_info": {
   "codemirror_mode": {
    "name": "ipython",
    "version": 3
   },
   "file_extension": ".py",
   "mimetype": "text/x-python",
   "name": "python",
   "nbconvert_exporter": "python",
   "pygments_lexer": "ipython3",
   "version": "3.7.4"
  }
 },
 "nbformat": 4,
 "nbformat_minor": 2
}
